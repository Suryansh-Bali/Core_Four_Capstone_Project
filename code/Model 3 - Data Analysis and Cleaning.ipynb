{
 "cells": [
  {
   "cell_type": "code",
   "execution_count": 20,
   "id": "2ae9da1a",
   "metadata": {},
   "outputs": [],
   "source": [
    "import pandas as pd\n",
    "import numpy as np\n",
    "import matplotlib\n",
    "import matplotlib.pyplot as plt\n",
    "%matplotlib inline\n",
    "import seaborn as sns\n",
    "\n",
    "import warnings\n",
    "warnings.simplefilter(action='ignore', category=FutureWarning)"
   ]
  },
  {
   "cell_type": "code",
   "execution_count": 21,
   "id": "47842693",
   "metadata": {},
   "outputs": [],
   "source": [
    "df = pd.read_csv(\"model3_dataset.csv\")"
   ]
  },
  {
   "cell_type": "code",
   "execution_count": 22,
   "id": "fc607b96",
   "metadata": {},
   "outputs": [
    {
     "data": {
      "text/html": [
       "<div>\n",
       "<style scoped>\n",
       "    .dataframe tbody tr th:only-of-type {\n",
       "        vertical-align: middle;\n",
       "    }\n",
       "\n",
       "    .dataframe tbody tr th {\n",
       "        vertical-align: top;\n",
       "    }\n",
       "\n",
       "    .dataframe thead th {\n",
       "        text-align: right;\n",
       "    }\n",
       "</style>\n",
       "<table border=\"1\" class=\"dataframe\">\n",
       "  <thead>\n",
       "    <tr style=\"text-align: right;\">\n",
       "      <th></th>\n",
       "      <th>recipe_name</th>\n",
       "      <th>details</th>\n",
       "      <th>ingredients</th>\n",
       "      <th>instructions</th>\n",
       "      <th>image_url</th>\n",
       "      <th>recipe_url</th>\n",
       "      <th>category</th>\n",
       "    </tr>\n",
       "  </thead>\n",
       "  <tbody>\n",
       "    <tr>\n",
       "      <th>0</th>\n",
       "      <td>Sunflower Seed &amp; Honey Wheat Bread</td>\n",
       "      <td>['Total Time Prep: 40 min. + rising Bake: 35 m...</td>\n",
       "      <td>['2 packages (1/4 ounce each) active dry yeast...</td>\n",
       "      <td>['In a large bowl, dissolve yeast in warm wate...</td>\n",
       "      <td>https://www.tasteofhome.com/wp-content/uploads...</td>\n",
       "      <td>https://www.tasteofhome.com/recipes/sunflower-...</td>\n",
       "      <td>Bread</td>\n",
       "    </tr>\n",
       "    <tr>\n",
       "      <th>1</th>\n",
       "      <td>Pumpkin Bread</td>\n",
       "      <td>['Total Time Prep: 15 min. Bake: 65 min. + coo...</td>\n",
       "      <td>['1-2/3 cups all-purpose flour', '1-1/2 cups s...</td>\n",
       "      <td>['Preheat oven to 350Â°. Combine first 8 ingre...</td>\n",
       "      <td>https://www.tasteofhome.com/wp-content/uploads...</td>\n",
       "      <td>https://www.tasteofhome.com/recipes/pumpkin-br...</td>\n",
       "      <td>Bread</td>\n",
       "    </tr>\n",
       "    <tr>\n",
       "      <th>2</th>\n",
       "      <td>Basic Homemade Bread</td>\n",
       "      <td>['Total Time Prep: 20 min. + rising Bake: 30 m...</td>\n",
       "      <td>['1 package (1/4 ounce) active dry yeast', '3 ...</td>\n",
       "      <td>['In a large bowl, dissolve yeast and 1/2 teas...</td>\n",
       "      <td>https://www.tasteofhome.com/wp-content/uploads...</td>\n",
       "      <td>https://www.tasteofhome.com/recipes/basic-home...</td>\n",
       "      <td>Bread</td>\n",
       "    </tr>\n",
       "    <tr>\n",
       "      <th>3</th>\n",
       "      <td>Best Ever Banana Bread</td>\n",
       "      <td>['Total Time Prep: 15 min. Bake: 1-1/4 hours +...</td>\n",
       "      <td>['1-3/4 cups all-purpose flour', '1-1/2 cups s...</td>\n",
       "      <td>['Preheat oven to 350Â°. In a large bowl, stir...</td>\n",
       "      <td>https://www.tasteofhome.com/wp-content/uploads...</td>\n",
       "      <td>https://www.tasteofhome.com/recipes/best-ever-...</td>\n",
       "      <td>Bread</td>\n",
       "    </tr>\n",
       "    <tr>\n",
       "      <th>4</th>\n",
       "      <td>Buttery Cornbread</td>\n",
       "      <td>['Total Time Prep: 15 min. Bake: 25 min. Makes...</td>\n",
       "      <td>['2/3 cup butter, softened', '1 cup sugar', '3...</td>\n",
       "      <td>['Preheat oven to 400Â°. In a large bowl, crea...</td>\n",
       "      <td>https://www.tasteofhome.com/wp-content/uploads...</td>\n",
       "      <td>https://www.tasteofhome.com/recipes/buttery-co...</td>\n",
       "      <td>Bread</td>\n",
       "    </tr>\n",
       "    <tr>\n",
       "      <th>...</th>\n",
       "      <td>...</td>\n",
       "      <td>...</td>\n",
       "      <td>...</td>\n",
       "      <td>...</td>\n",
       "      <td>...</td>\n",
       "      <td>...</td>\n",
       "      <td>...</td>\n",
       "    </tr>\n",
       "    <tr>\n",
       "      <th>695</th>\n",
       "      <td>Yellow Cake Made from Scratch</td>\n",
       "      <td>['Recipe Summary test       Servings: 24   Yie...</td>\n",
       "      <td>['2 cups all-purpose flour', '1\\u2009Â½ cups w...</td>\n",
       "      <td>['Step 1   Preheat oven to 350 degrees F (175 ...</td>\n",
       "      <td>https://imagesvc.meredithcorp.io/v3/mm/image?u...</td>\n",
       "      <td>https://www.allrecipes.com/recipe/7986/yellow-...</td>\n",
       "      <td>Cakes</td>\n",
       "    </tr>\n",
       "    <tr>\n",
       "      <th>696</th>\n",
       "      <td>Russian Honey Cake</td>\n",
       "      <td>['Recipe Summary test      prep: 45 mins    co...</td>\n",
       "      <td>['Â¾ cup wildflower honey', '3 tablespoons col...</td>\n",
       "      <td>['Step 1   Pour honey into a deep saucepan ove...</td>\n",
       "      <td>https://imagesvc.meredithcorp.io/v3/mm/image?u...</td>\n",
       "      <td>https://www.allrecipes.com/recipe/277220/russi...</td>\n",
       "      <td>Cakes</td>\n",
       "    </tr>\n",
       "    <tr>\n",
       "      <th>697</th>\n",
       "      <td>Eclair Cake</td>\n",
       "      <td>['Recipe Summary test      prep: 25 mins    ad...</td>\n",
       "      <td>['2 (3.5 ounce) packages instant vanilla puddi...</td>\n",
       "      <td>['Step 1   Stir pudding mix, whipped topping, ...</td>\n",
       "      <td>https://imagesvc.meredithcorp.io/v3/mm/image?u...</td>\n",
       "      <td>https://www.allrecipes.com/recipe/7304/eclair-...</td>\n",
       "      <td>Cakes</td>\n",
       "    </tr>\n",
       "    <tr>\n",
       "      <th>698</th>\n",
       "      <td>Almond Ricotta Cake</td>\n",
       "      <td>['Recipe Summary test      prep: 20 mins    co...</td>\n",
       "      <td>['Â½ cup unsalted butter, at room temperature'...</td>\n",
       "      <td>['Step 1   Preheat the oven to 325 degrees F (...</td>\n",
       "      <td>https://imagesvc.meredithcorp.io/v3/mm/image?u...</td>\n",
       "      <td>https://www.allrecipes.com/recipe/283483/almon...</td>\n",
       "      <td>Cakes</td>\n",
       "    </tr>\n",
       "    <tr>\n",
       "      <th>699</th>\n",
       "      <td>Cream Cheese Pound Cake III</td>\n",
       "      <td>['Recipe Summary test      prep: 30 mins    co...</td>\n",
       "      <td>['1 (8 ounce) package cream cheese', '1\\u2009Â...</td>\n",
       "      <td>['Step 1   Preheat oven to 325 degrees F (160 ...</td>\n",
       "      <td>https://imagesvc.meredithcorp.io/v3/mm/image?u...</td>\n",
       "      <td>https://www.allrecipes.com/recipe/8384/cream-c...</td>\n",
       "      <td>Cakes</td>\n",
       "    </tr>\n",
       "  </tbody>\n",
       "</table>\n",
       "<p>700 rows × 7 columns</p>\n",
       "</div>"
      ],
      "text/plain": [
       "                            recipe_name  \\\n",
       "0    Sunflower Seed & Honey Wheat Bread   \n",
       "1                         Pumpkin Bread   \n",
       "2                  Basic Homemade Bread   \n",
       "3                Best Ever Banana Bread   \n",
       "4                     Buttery Cornbread   \n",
       "..                                  ...   \n",
       "695       Yellow Cake Made from Scratch   \n",
       "696                  Russian Honey Cake   \n",
       "697                         Eclair Cake   \n",
       "698                 Almond Ricotta Cake   \n",
       "699         Cream Cheese Pound Cake III   \n",
       "\n",
       "                                               details  \\\n",
       "0    ['Total Time Prep: 40 min. + rising Bake: 35 m...   \n",
       "1    ['Total Time Prep: 15 min. Bake: 65 min. + coo...   \n",
       "2    ['Total Time Prep: 20 min. + rising Bake: 30 m...   \n",
       "3    ['Total Time Prep: 15 min. Bake: 1-1/4 hours +...   \n",
       "4    ['Total Time Prep: 15 min. Bake: 25 min. Makes...   \n",
       "..                                                 ...   \n",
       "695  ['Recipe Summary test       Servings: 24   Yie...   \n",
       "696  ['Recipe Summary test      prep: 45 mins    co...   \n",
       "697  ['Recipe Summary test      prep: 25 mins    ad...   \n",
       "698  ['Recipe Summary test      prep: 20 mins    co...   \n",
       "699  ['Recipe Summary test      prep: 30 mins    co...   \n",
       "\n",
       "                                           ingredients  \\\n",
       "0    ['2 packages (1/4 ounce each) active dry yeast...   \n",
       "1    ['1-2/3 cups all-purpose flour', '1-1/2 cups s...   \n",
       "2    ['1 package (1/4 ounce) active dry yeast', '3 ...   \n",
       "3    ['1-3/4 cups all-purpose flour', '1-1/2 cups s...   \n",
       "4    ['2/3 cup butter, softened', '1 cup sugar', '3...   \n",
       "..                                                 ...   \n",
       "695  ['2 cups all-purpose flour', '1\\u2009Â½ cups w...   \n",
       "696  ['Â¾ cup wildflower honey', '3 tablespoons col...   \n",
       "697  ['2 (3.5 ounce) packages instant vanilla puddi...   \n",
       "698  ['Â½ cup unsalted butter, at room temperature'...   \n",
       "699  ['1 (8 ounce) package cream cheese', '1\\u2009Â...   \n",
       "\n",
       "                                          instructions  \\\n",
       "0    ['In a large bowl, dissolve yeast in warm wate...   \n",
       "1    ['Preheat oven to 350Â°. Combine first 8 ingre...   \n",
       "2    ['In a large bowl, dissolve yeast and 1/2 teas...   \n",
       "3    ['Preheat oven to 350Â°. In a large bowl, stir...   \n",
       "4    ['Preheat oven to 400Â°. In a large bowl, crea...   \n",
       "..                                                 ...   \n",
       "695  ['Step 1   Preheat oven to 350 degrees F (175 ...   \n",
       "696  ['Step 1   Pour honey into a deep saucepan ove...   \n",
       "697  ['Step 1   Stir pudding mix, whipped topping, ...   \n",
       "698  ['Step 1   Preheat the oven to 325 degrees F (...   \n",
       "699  ['Step 1   Preheat oven to 325 degrees F (160 ...   \n",
       "\n",
       "                                             image_url  \\\n",
       "0    https://www.tasteofhome.com/wp-content/uploads...   \n",
       "1    https://www.tasteofhome.com/wp-content/uploads...   \n",
       "2    https://www.tasteofhome.com/wp-content/uploads...   \n",
       "3    https://www.tasteofhome.com/wp-content/uploads...   \n",
       "4    https://www.tasteofhome.com/wp-content/uploads...   \n",
       "..                                                 ...   \n",
       "695  https://imagesvc.meredithcorp.io/v3/mm/image?u...   \n",
       "696  https://imagesvc.meredithcorp.io/v3/mm/image?u...   \n",
       "697  https://imagesvc.meredithcorp.io/v3/mm/image?u...   \n",
       "698  https://imagesvc.meredithcorp.io/v3/mm/image?u...   \n",
       "699  https://imagesvc.meredithcorp.io/v3/mm/image?u...   \n",
       "\n",
       "                                            recipe_url category  \n",
       "0    https://www.tasteofhome.com/recipes/sunflower-...    Bread  \n",
       "1    https://www.tasteofhome.com/recipes/pumpkin-br...    Bread  \n",
       "2    https://www.tasteofhome.com/recipes/basic-home...    Bread  \n",
       "3    https://www.tasteofhome.com/recipes/best-ever-...    Bread  \n",
       "4    https://www.tasteofhome.com/recipes/buttery-co...    Bread  \n",
       "..                                                 ...      ...  \n",
       "695  https://www.allrecipes.com/recipe/7986/yellow-...    Cakes  \n",
       "696  https://www.allrecipes.com/recipe/277220/russi...    Cakes  \n",
       "697  https://www.allrecipes.com/recipe/7304/eclair-...    Cakes  \n",
       "698  https://www.allrecipes.com/recipe/283483/almon...    Cakes  \n",
       "699  https://www.allrecipes.com/recipe/8384/cream-c...    Cakes  \n",
       "\n",
       "[700 rows x 7 columns]"
      ]
     },
     "execution_count": 22,
     "metadata": {},
     "output_type": "execute_result"
    }
   ],
   "source": [
    "df"
   ]
  },
  {
   "cell_type": "code",
   "execution_count": 23,
   "id": "420d8b80",
   "metadata": {},
   "outputs": [],
   "source": [
    "df.drop_duplicates(keep='first', inplace=True)"
   ]
  },
  {
   "cell_type": "code",
   "execution_count": 24,
   "id": "b2b8b4fa",
   "metadata": {},
   "outputs": [
    {
     "data": {
      "text/plain": [
       "(612, 7)"
      ]
     },
     "execution_count": 24,
     "metadata": {},
     "output_type": "execute_result"
    }
   ],
   "source": [
    "df.shape"
   ]
  },
  {
   "cell_type": "code",
   "execution_count": 25,
   "id": "c9a407eb",
   "metadata": {},
   "outputs": [],
   "source": [
    "df_new = df[['ingredients','category']]"
   ]
  },
  {
   "cell_type": "code",
   "execution_count": 26,
   "id": "794b2267",
   "metadata": {},
   "outputs": [
    {
     "data": {
      "image/png": "[encoded data removed]",
      "text/plain": [
       "<Figure size 576x288 with 1 Axes>"
      ]
     },
     "metadata": {
      "needs_background": "light"
     },
     "output_type": "display_data"
    }
   ],
   "source": [
    "#Data Visualization\n",
    "plt.figure(figsize=(8, 4))\n",
    "plt.title(\"Count of Dessert Category\",size='20',weight='bold')\n",
    "plt.xlabel(\"\",size='20')\n",
    "plt.ylabel(\"\",size='20')\n",
    "sns.countplot(df_new.category,palette='Pastel1');"
   ]
  },
  {
   "cell_type": "code",
   "execution_count": 27,
   "id": "cee59d40",
   "metadata": {},
   "outputs": [
    {
     "data": {
      "text/plain": [
       "\"['2 packages (1/4 ounce each) active dry yeast', '3-1/4 cups warm water (110Â° to 115Â°)', '1/4 cup bread flour', '1/3 cup canola oil', '1/3 cup honey', '3 teaspoons salt', '6-1/2 to 7-1/2 cups whole wheat flour', '1/2 cup sunflower kernels', '3 tablespoons butter, melted']\""
      ]
     },
     "execution_count": 27,
     "metadata": {},
     "output_type": "execute_result"
    }
   ],
   "source": [
    "df_new['ingredients'][0]"
   ]
  },
  {
   "cell_type": "code",
   "execution_count": 28,
   "id": "05d74216",
   "metadata": {},
   "outputs": [],
   "source": [
    "import re\n",
    "def Clean1(txt):\n",
    "    txt = txt.replace(\"optional\",\"\")\n",
    "    txt = re.sub(r\"\\\\u2009\",'',txt)\n",
    "    txt = txt.replace(\"\\\\xa0\", '')\n",
    "    txt = txt.replace(\"\\\\n\", ',')\n",
    "    txt = txt.replace(\"\\'\", \"\")\n",
    "    txt = txt.replace(\"*\",'')\n",
    "    txt = txt.replace(\":\",',')\n",
    "    txt = txt.replace(\",,\",',')\n",
    "    txt = txt.replace(\"Streusel,\",'')\n",
    "    return txt"
   ]
  },
  {
   "cell_type": "code",
   "execution_count": 29,
   "id": "b6ca68f1",
   "metadata": {},
   "outputs": [
    {
     "name": "stderr",
     "output_type": "stream",
     "text": [
      "C:\\Users\\Neethu\\AppData\\Local\\Temp/ipykernel_8712/671309691.py:1: SettingWithCopyWarning: \n",
      "A value is trying to be set on a copy of a slice from a DataFrame.\n",
      "Try using .loc[row_indexer,col_indexer] = value instead\n",
      "\n",
      "See the caveats in the documentation: https://pandas.pydata.org/pandas-docs/stable/user_guide/indexing.html#returning-a-view-versus-a-copy\n",
      "  df_new['newing'] = df_new['ingredients'].apply(Clean1)\n"
     ]
    }
   ],
   "source": [
    "df_new['newing'] = df_new['ingredients'].apply(Clean1)"
   ]
  },
  {
   "cell_type": "code",
   "execution_count": 37,
   "id": "80487087",
   "metadata": {},
   "outputs": [
    {
     "name": "stderr",
     "output_type": "stream",
     "text": [
      "C:\\Users\\Neethu\\anaconda3\\lib\\site-packages\\pandas\\core\\frame.py:4906: SettingWithCopyWarning: \n",
      "A value is trying to be set on a copy of a slice from a DataFrame\n",
      "\n",
      "See the caveats in the documentation: https://pandas.pydata.org/pandas-docs/stable/user_guide/indexing.html#returning-a-view-versus-a-copy\n",
      "  return super().drop(\n"
     ]
    }
   ],
   "source": [
    "df_new.drop(columns = ['ingredients'],inplace = True)"
   ]
  },
  {
   "cell_type": "code",
   "execution_count": 39,
   "id": "812c56c4",
   "metadata": {},
   "outputs": [],
   "source": [
    "df_new.to_csv(\"data.csv\")"
   ]
  }
 ],
 "metadata": {
  "kernelspec": {
   "display_name": "Python 3 (ipykernel)",
   "language": "python",
   "name": "python3"
  },
  "language_info": {
   "codemirror_mode": {
    "name": "ipython",
    "version": 3
   },
   "file_extension": ".py",
   "mimetype": "text/x-python",
   "name": "python",
   "nbconvert_exporter": "python",
   "pygments_lexer": "ipython3",
   "version": "3.8.12"
  }
 },
 "nbformat": 4,
 "nbformat_minor": 5
}
