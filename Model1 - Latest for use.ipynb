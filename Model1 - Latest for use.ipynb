{
 "cells": [
  {
   "cell_type": "markdown",
   "metadata": {},
   "source": [
    "## Importing required libraries"
   ]
  },
  {
   "cell_type": "code",
   "execution_count": 35,
   "metadata": {},
   "outputs": [],
   "source": [
    "import pandas as pd\n",
    "import numpy as np\n",
    "import matplotlib.pyplot as plt\n",
    "%matplotlib inline\n",
    "import seaborn as sns\n",
    "import ast\n",
    "import string\n",
    "import nltk\n",
    "from nltk.corpus import wordnet as wn\n",
    "from nltk.stem.wordnet import WordNetLemmatizer\n",
    "import re\n",
    "from unidecode import unidecode\n",
    "from nltk import corpus\n",
    "\n",
    "import warnings\n",
    "warnings.simplefilter(action='ignore', category=FutureWarning)"
   ]
  },
  {
   "cell_type": "markdown",
   "metadata": {},
   "source": [
    "## Data Analysis"
   ]
  },
  {
   "cell_type": "code",
   "execution_count": 336,
   "metadata": {},
   "outputs": [],
   "source": [
    "df = pd.read_csv(\"Dataset.csv\",encoding= 'unicode_escape')"
   ]
  },
  {
   "cell_type": "code",
   "execution_count": 337,
   "metadata": {},
   "outputs": [
    {
     "data": {
      "text/html": [
       "<div>\n",
       "<style scoped>\n",
       "    .dataframe tbody tr th:only-of-type {\n",
       "        vertical-align: middle;\n",
       "    }\n",
       "\n",
       "    .dataframe tbody tr th {\n",
       "        vertical-align: top;\n",
       "    }\n",
       "\n",
       "    .dataframe thead th {\n",
       "        text-align: right;\n",
       "    }\n",
       "</style>\n",
       "<table border=\"1\" class=\"dataframe\">\n",
       "  <thead>\n",
       "    <tr style=\"text-align: right;\">\n",
       "      <th></th>\n",
       "      <th>recipe_name</th>\n",
       "      <th>category</th>\n",
       "      <th>description</th>\n",
       "      <th>details</th>\n",
       "      <th>ingredients</th>\n",
       "      <th>instructions</th>\n",
       "      <th>image_url</th>\n",
       "      <th>recipe_url</th>\n",
       "    </tr>\n",
       "  </thead>\n",
       "  <tbody>\n",
       "    <tr>\n",
       "      <th>0</th>\n",
       "      <td>Chewy Chocolate Chip Cookies</td>\n",
       "      <td>Cookie</td>\n",
       "      <td>['Pinned over 3 million times, these super soft and chewy chocolate chip cookies are the most popular cookie recipe on my website. Melted butter, 1 extra egg yolk, and more brown sugar than white sugar guarantee the chewiest chocolate chip cookie texture. Chilling the cookie dough is imperative....</td>\n",
       "      <td>['Author: Sally', 'Prep Time: 10 minutes', 'Cook Time: 12 minutes', 'Total Time: 3 hours, 22 minutes', 'Yield: 16 large cookies 1x', 'Category: Dessert', 'Method: Baking', 'Cuisine: American']</td>\n",
       "      <td>['2 and 1/4 cups (280g) all-purpose flour(spoon &amp; leveled)', '1 teaspoon baking soda', '1 and 1/2 teaspoons cornstarch', '1/2 teaspoon salt', '3/4 cup (1.5 sticks or 170g) unsalted butter, melted &amp; slightly cooled', '3/4 cup (150g) packed light or dark brown sugar', '1/2 cup (100g) granulated su...</td>\n",
       "      <td>['Step 1:Whisk the flour, baking soda, cornstarch, and salt together in a large bowl. Set aside.', 'Step 2:In a medium bowl, whisk the melted butter, brown sugar, and granulated sugar together until no brown sugar lumps remain. Whisk in the egg, then the egg yolk. Finally, whisk in the vanilla e...</td>\n",
       "      <td>https://cdn.sallysbakingaddiction.com/wp-content/uploads/2013/05/chocolate-chunk-cookies.jpg</td>\n",
       "      <td>https://sallysbakingaddiction.com/chewy-chocolate-chip-cookies/</td>\n",
       "    </tr>\n",
       "    <tr>\n",
       "      <th>1</th>\n",
       "      <td>The Best Sugar Cookies</td>\n",
       "      <td>Cookie</td>\n",
       "      <td>['With crisp edges, thick centers, and room for lots of decorating icing, I know youâll love these soft sugar cookies as much as I do. The number of cookies this recipe yields depends on the size of the cookie cutter you use. If youâd like to make dozens of cookies for a large crowd, double ...</td>\n",
       "      <td>['Author: Sally', 'Prep Time: 2 hours', 'Cook Time: 12 minutes', 'Total Time: 4 hours', 'Yield: 24 3-4 inch cookies 1x', 'Category: Cookies', 'Method: Baking', 'Cuisine: American']</td>\n",
       "      <td>['2 and 1/4 cups (281g) all-purpose flour(spoon &amp; leveled), plus more as needed for rolling and work surface', '1/2 teaspoon baking powder', '1/4 teaspoon salt', '3/4 cup (1.5 sticks or 170g) unsalted butter, softened toroom temperature', '3/4 cup (150g) granulated sugar', '1 large egg, at room ...</td>\n",
       "      <td>['Step 1:Whisk the flour, baking powder, and salt together in a medium bowl. Set aside.', 'Step 2:In a large bowl using a hand mixer or a stand mixer fitted with a paddle attachment, beat the butter and sugar together on high speed until completely smooth and creamy, about 2 minutes. Add the egg...</td>\n",
       "      <td>https://cdn.sallysbakingaddiction.com/wp-content/uploads/2014/05/cookie-cutter-sugar-cookies.jpg</td>\n",
       "      <td>https://sallysbakingaddiction.com/best-sugar-cookies/</td>\n",
       "    </tr>\n",
       "    <tr>\n",
       "      <th>2</th>\n",
       "      <td>Dark Chocolate Chunk Oatmeal Cookies</td>\n",
       "      <td>Cookie</td>\n",
       "      <td>['Soft and chewy with slightly crisp edges, these oatmeal cookies are full of flavor and exploding with melty dark chocolate. Chill the dough for at least 30 minutes in the refrigerator before baking.']</td>\n",
       "      <td>['Author: Sally', 'Prep Time: 45 minutes', 'Cook Time: 12 minutes', 'Total Time: 1 hour', 'Yield: 3 dozen 1x', 'Category: Cookies', 'Method: Baking', 'Cuisine: American']</td>\n",
       "      <td>['1 cup (230g) unsalted butter, softened toroom temperature', '1 cup (200g) packed light or dark brown sugar', '1/4 cup (50g) granulated sugar', '2 large eggs, at room temperature', '1 Tablespoon pure vanilla extract (yes, Tablespoon!)', '1 Tablespoon molasses', '1 and 1/2 cups (188g) all-purpos...</td>\n",
       "      <td>['Step 1:Using a hand mixer or a stand mixer fitted with paddle attachment, cream the softened butter and both sugars together on medium speed until smooth, about 2 minutes. Add the eggs and mix on high until combined, about 1 minute. Scrape down the sides and bottom of the bowl as needed. Add t...</td>\n",
       "      <td>https://cdn.sallysbakingaddiction.com/wp-content/uploads/2015/04/dark-chocolate-chunk-oatmeal-cookies-5.jpg</td>\n",
       "      <td>https://sallysbakingaddiction.com/dark-chocolate-chunk-oatmeal-cookies/</td>\n",
       "    </tr>\n",
       "    <tr>\n",
       "      <th>3</th>\n",
       "      <td>Homemade Butter Cookies</td>\n",
       "      <td>Cookie</td>\n",
       "      <td>['Using just 8 basic ingredients and a large piping tip, make these soft vanilla almond flavored butter cookies. Thereâs no leavening, so the texture is close to shortbread cookies. I recommend chilling the piped cookies for at least 20-30 minutes before baking.']</td>\n",
       "      <td>['Author: Sally', 'Prep Time: 20 minutes', 'Cook Time: 14 minutes', 'Total Time: 1 hour, 5 minutes', 'Yield: 30 cookies 1x', 'Category: Desserts', 'Method: Baking', 'Cuisine: Danish']</td>\n",
       "      <td>['1 cup (2 sticks; 230g) unsalted butter, softened to room temperature', '3/4 cup (150g) granulated sugar', '1 and 1/2 teaspoons pure vanilla extract', '1 teaspoon almond extract', '1 large egg, at room temperature', '2 and 1/4 cups (281g) all-purpose flour(spoon &amp; leveled)', '1/2 teaspoon salt'...</td>\n",
       "      <td>['Step 1:Read through the recipe and recipe notes before beginning. Make room in your refrigerator for a baking sheet so the shaped cookies can chill for 20-30 minutes. Without chilling, the piped cookies may over-spread. If you chill the dough prior to shaping, the dough will be too cold/stiff ...</td>\n",
       "      <td>https://cdn.sallysbakingaddiction.com/wp-content/uploads/2019/11/butter-cookies-5.jpg</td>\n",
       "      <td>https://sallysbakingaddiction.com/butter-cookies/</td>\n",
       "    </tr>\n",
       "    <tr>\n",
       "      <th>4</th>\n",
       "      <td>Chewy Oatmeal Chocolate Chip Cookies</td>\n",
       "      <td>Cookie</td>\n",
       "      <td>['With oats, butter, and mostly all brown sugar, you are guaranteed a soft and chewy oatmeal cookie. Use this perfect oatmeal cookie as the base for other add-ins such as raisins, dried cranberries, and nuts. Cinnamon and a touch of molasses add that little something extra. These are the best oa...</td>\n",
       "      <td>['Author: Sally', 'Prep Time: 1 hour, 10 minutes', 'Cook Time: 14 minutes', 'Total Time: 1 hour 24 minutes', 'Yield: 22 cookies 1x', 'Category: Dessert', 'Method: Baking', 'Cuisine: American']</td>\n",
       "      <td>['1 and 1/2 cups (188g) all-purpose flour(spoon &amp; leveled)', '1 teaspoon ground cinnamon (optional)', '1 teaspoon baking soda', '1 teaspoon salt', '1 cup (2 sticks; 230g) unsalted butter, softened toroom temperature', '1 cup (200g) packed light or dark brown sugar', '1/2 cup (100g) granulated su...</td>\n",
       "      <td>['Step 1:Whisk the flour, cinnamon, baking soda, and salt together in a medium bowl. Set aside.', 'Step 2:In a large bowl using a hand mixer or a stand mixer fitted with a paddle attachment, beat the butter on medium-high speed until smooth, about 1 minute. Add the brown sugar and granulated sug...</td>\n",
       "      <td>https://cdn.sallysbakingaddiction.com/wp-content/uploads/2017/05/soft-oatmeal-chocolate-chip-cookies-2.jpg</td>\n",
       "      <td>https://sallysbakingaddiction.com/oatmeal-chocolate-chip-cookies/</td>\n",
       "    </tr>\n",
       "  </tbody>\n",
       "</table>\n",
       "</div>"
      ],
      "text/plain": [
       "                            recipe_name category  \\\n",
       "0          Chewy Chocolate Chip Cookies   Cookie   \n",
       "1                The Best Sugar Cookies   Cookie   \n",
       "2  Dark Chocolate Chunk Oatmeal Cookies   Cookie   \n",
       "3               Homemade Butter Cookies   Cookie   \n",
       "4  Chewy Oatmeal Chocolate Chip Cookies   Cookie   \n",
       "\n",
       "                                                                                                                                                                                                                                                                                                   description  \\\n",
       "0  ['Pinned over 3 million times, these super soft and chewy chocolate chip cookies are the most popular cookie recipe on my website. Melted butter, 1 extra egg yolk, and more brown sugar than white sugar guarantee the chewiest chocolate chip cookie texture. Chilling the cookie dough is imperative....   \n",
       "1  ['With crisp edges, thick centers, and room for lots of decorating icing, I know youâll love these soft sugar cookies as much as I do. The number of cookies this recipe yields depends on the size of the cookie cutter you use. If youâd like to make dozens of cookies for a large crowd, double ...   \n",
       "2                                                                                                   ['Soft and chewy with slightly crisp edges, these oatmeal cookies are full of flavor and exploding with melty dark chocolate. Chill the dough for at least 30 minutes in the refrigerator before baking.']   \n",
       "3                                   ['Using just 8 basic ingredients and a large piping tip, make these soft vanilla almond flavored butter cookies. Thereâs no leavening, so the texture is close to shortbread cookies. I recommend chilling the piped cookies for at least 20-30 minutes before baking.']   \n",
       "4  ['With oats, butter, and mostly all brown sugar, you are guaranteed a soft and chewy oatmeal cookie. Use this perfect oatmeal cookie as the base for other add-ins such as raisins, dried cranberries, and nuts. Cinnamon and a touch of molasses add that little something extra. These are the best oa...   \n",
       "\n",
       "                                                                                                                                                                                            details  \\\n",
       "0  ['Author: Sally', 'Prep Time: 10 minutes', 'Cook Time: 12 minutes', 'Total Time: 3 hours, 22 minutes', 'Yield: 16 large cookies 1x', 'Category: Dessert', 'Method: Baking', 'Cuisine: American']   \n",
       "1              ['Author: Sally', 'Prep Time: 2 hours', 'Cook Time: 12 minutes', 'Total Time: 4 hours', 'Yield: 24 3-4 inch cookies 1x', 'Category: Cookies', 'Method: Baking', 'Cuisine: American']   \n",
       "2                        ['Author: Sally', 'Prep Time: 45 minutes', 'Cook Time: 12 minutes', 'Total Time: 1 hour', 'Yield: 3 dozen 1x', 'Category: Cookies', 'Method: Baking', 'Cuisine: American']   \n",
       "3           ['Author: Sally', 'Prep Time: 20 minutes', 'Cook Time: 14 minutes', 'Total Time: 1 hour, 5 minutes', 'Yield: 30 cookies 1x', 'Category: Desserts', 'Method: Baking', 'Cuisine: Danish']   \n",
       "4  ['Author: Sally', 'Prep Time: 1 hour, 10 minutes', 'Cook Time: 14 minutes', 'Total Time: 1 hour 24 minutes', 'Yield: 22 cookies 1x', 'Category: Dessert', 'Method: Baking', 'Cuisine: American']   \n",
       "\n",
       "                                                                                                                                                                                                                                                                                                   ingredients  \\\n",
       "0  ['2 and 1/4 cups (280g) all-purpose flour(spoon & leveled)', '1 teaspoon baking soda', '1 and 1/2 teaspoons cornstarch', '1/2 teaspoon salt', '3/4 cup (1.5 sticks or 170g) unsalted butter, melted & slightly cooled', '3/4 cup (150g) packed light or dark brown sugar', '1/2 cup (100g) granulated su...   \n",
       "1  ['2 and 1/4 cups (281g) all-purpose flour(spoon & leveled), plus more as needed for rolling and work surface', '1/2 teaspoon baking powder', '1/4 teaspoon salt', '3/4 cup (1.5 sticks or 170g) unsalted butter, softened toroom temperature', '3/4 cup (150g) granulated sugar', '1 large egg, at room ...   \n",
       "2  ['1 cup (230g) unsalted butter, softened toroom temperature', '1 cup (200g) packed light or dark brown sugar', '1/4 cup (50g) granulated sugar', '2 large eggs, at room temperature', '1 Tablespoon pure vanilla extract (yes, Tablespoon!)', '1 Tablespoon molasses', '1 and 1/2 cups (188g) all-purpos...   \n",
       "3  ['1 cup (2 sticks; 230g) unsalted butter, softened to room temperature', '3/4 cup (150g) granulated sugar', '1 and 1/2 teaspoons pure vanilla extract', '1 teaspoon almond extract', '1 large egg, at room temperature', '2 and 1/4 cups (281g) all-purpose flour(spoon & leveled)', '1/2 teaspoon salt'...   \n",
       "4  ['1 and 1/2 cups (188g) all-purpose flour(spoon & leveled)', '1 teaspoon ground cinnamon (optional)', '1 teaspoon baking soda', '1 teaspoon salt', '1 cup (2 sticks; 230g) unsalted butter, softened toroom temperature', '1 cup (200g) packed light or dark brown sugar', '1/2 cup (100g) granulated su...   \n",
       "\n",
       "                                                                                                                                                                                                                                                                                                  instructions  \\\n",
       "0  ['Step 1:Whisk the flour, baking soda, cornstarch, and salt together in a large bowl. Set aside.', 'Step 2:In a medium bowl, whisk the melted butter, brown sugar, and granulated sugar together until no brown sugar lumps remain. Whisk in the egg, then the egg yolk. Finally, whisk in the vanilla e...   \n",
       "1  ['Step 1:Whisk the flour, baking powder, and salt together in a medium bowl. Set aside.', 'Step 2:In a large bowl using a hand mixer or a stand mixer fitted with a paddle attachment, beat the butter and sugar together on high speed until completely smooth and creamy, about 2 minutes. Add the egg...   \n",
       "2  ['Step 1:Using a hand mixer or a stand mixer fitted with paddle attachment, cream the softened butter and both sugars together on medium speed until smooth, about 2 minutes. Add the eggs and mix on high until combined, about 1 minute. Scrape down the sides and bottom of the bowl as needed. Add t...   \n",
       "3  ['Step 1:Read through the recipe and recipe notes before beginning. Make room in your refrigerator for a baking sheet so the shaped cookies can chill for 20-30 minutes. Without chilling, the piped cookies may over-spread. If you chill the dough prior to shaping, the dough will be too cold/stiff ...   \n",
       "4  ['Step 1:Whisk the flour, cinnamon, baking soda, and salt together in a medium bowl. Set aside.', 'Step 2:In a large bowl using a hand mixer or a stand mixer fitted with a paddle attachment, beat the butter on medium-high speed until smooth, about 1 minute. Add the brown sugar and granulated sug...   \n",
       "\n",
       "                                                                                                     image_url  \\\n",
       "0                 https://cdn.sallysbakingaddiction.com/wp-content/uploads/2013/05/chocolate-chunk-cookies.jpg   \n",
       "1             https://cdn.sallysbakingaddiction.com/wp-content/uploads/2014/05/cookie-cutter-sugar-cookies.jpg   \n",
       "2  https://cdn.sallysbakingaddiction.com/wp-content/uploads/2015/04/dark-chocolate-chunk-oatmeal-cookies-5.jpg   \n",
       "3                        https://cdn.sallysbakingaddiction.com/wp-content/uploads/2019/11/butter-cookies-5.jpg   \n",
       "4   https://cdn.sallysbakingaddiction.com/wp-content/uploads/2017/05/soft-oatmeal-chocolate-chip-cookies-2.jpg   \n",
       "\n",
       "                                                                recipe_url  \n",
       "0          https://sallysbakingaddiction.com/chewy-chocolate-chip-cookies/  \n",
       "1                    https://sallysbakingaddiction.com/best-sugar-cookies/  \n",
       "2  https://sallysbakingaddiction.com/dark-chocolate-chunk-oatmeal-cookies/  \n",
       "3                        https://sallysbakingaddiction.com/butter-cookies/  \n",
       "4        https://sallysbakingaddiction.com/oatmeal-chocolate-chip-cookies/  "
      ]
     },
     "execution_count": 337,
     "metadata": {},
     "output_type": "execute_result"
    }
   ],
   "source": [
    "df.head()"
   ]
  },
  {
   "cell_type": "code",
   "execution_count": 338,
   "metadata": {},
   "outputs": [
    {
     "data": {
      "text/plain": [
       "(2107, 8)"
      ]
     },
     "execution_count": 338,
     "metadata": {},
     "output_type": "execute_result"
    }
   ],
   "source": [
    "df.shape"
   ]
  },
  {
   "cell_type": "markdown",
   "metadata": {},
   "source": [
    "## Removing null and duplicate values"
   ]
  },
  {
   "cell_type": "code",
   "execution_count": 339,
   "metadata": {},
   "outputs": [
    {
     "data": {
      "text/plain": [
       "recipe_name      0\n",
       "category         0\n",
       "description     41\n",
       "details          1\n",
       "ingredients      1\n",
       "instructions     1\n",
       "image_url        2\n",
       "recipe_url       2\n",
       "dtype: int64"
      ]
     },
     "execution_count": 339,
     "metadata": {},
     "output_type": "execute_result"
    }
   ],
   "source": [
    "df.isnull().sum()"
   ]
  },
  {
   "cell_type": "code",
   "execution_count": 340,
   "metadata": {},
   "outputs": [
    {
     "data": {
      "text/html": [
       "<div>\n",
       "<style scoped>\n",
       "    .dataframe tbody tr th:only-of-type {\n",
       "        vertical-align: middle;\n",
       "    }\n",
       "\n",
       "    .dataframe tbody tr th {\n",
       "        vertical-align: top;\n",
       "    }\n",
       "\n",
       "    .dataframe thead th {\n",
       "        text-align: right;\n",
       "    }\n",
       "</style>\n",
       "<table border=\"1\" class=\"dataframe\">\n",
       "  <thead>\n",
       "    <tr style=\"text-align: right;\">\n",
       "      <th></th>\n",
       "      <th>recipe_name</th>\n",
       "      <th>category</th>\n",
       "      <th>description</th>\n",
       "      <th>details</th>\n",
       "      <th>ingredients</th>\n",
       "      <th>instructions</th>\n",
       "      <th>image_url</th>\n",
       "      <th>recipe_url</th>\n",
       "    </tr>\n",
       "  </thead>\n",
       "  <tbody>\n",
       "    <tr>\n",
       "      <th>1006</th>\n",
       "      <td>Gobble-oink pie</td>\n",
       "      <td>Pie_Crisp_Tart</td>\n",
       "      <td>['âGobble-oink pie is a great way to get the kids involved in the kitchen â</td>\n",
       "      <td>NaN</td>\n",
       "      <td>NaN</td>\n",
       "      <td>NaN</td>\n",
       "      <td>NaN</td>\n",
       "      <td>NaN</td>\n",
       "    </tr>\n",
       "    <tr>\n",
       "      <th>1007</th>\n",
       "      <td>create pie perfection for all the family using leftovers from your fridge.  â']</td>\n",
       "      <td>['Serves 6 Cooks In1 hour 30 minutes DifficultyNot too tricky', 'Serves 6', 'Cooks In1 hour 30 minutes', 'DifficultyNot too tricky']</td>\n",
       "      <td>['1 small swede', '2 sweet potatoes', '1 knob of unsalted butter', '2 carrots', '1 stick of celery', '1 medium onion', '2 cloves of garlic', 'olive oil', '500 g higher-welfare turkey mince (or leftover cooked higher-welfare turkey)', '50 g higher-welfare ham', '500 ml organic chicken or vegetabl...</td>\n",
       "      <td>['Step 1: Preheat the oven to 180ÂºC/350ÂºF/gas 4. ', 'Step 2: Peel and roughly chop the swede and sweet potatoes, then boil in a pan of water for 20 minutes, or until soft. Drain and leave to steam dry, then mash with butter and set aside.', 'Step 3: Finely chop the carrot and celery, then peel...</td>\n",
       "      <td>https://img.jamieoliver.com/jamieoliver/recipe-database/46455436.jpg?tr=w-800,h-1066</td>\n",
       "      <td>https://www.jamieoliver.com/recipes/turkey-recipes/gobble-oink-pie/</td>\n",
       "      <td>NaN</td>\n",
       "      <td>NaN</td>\n",
       "    </tr>\n",
       "  </tbody>\n",
       "</table>\n",
       "</div>"
      ],
      "text/plain": [
       "                                                                             recipe_name  \\\n",
       "1006                                                                     Gobble-oink pie   \n",
       "1007   create pie perfection for all the family using leftovers from your fridge.  â']   \n",
       "\n",
       "                                                                                                                                  category  \\\n",
       "1006                                                                                                                        Pie_Crisp_Tart   \n",
       "1007  ['Serves 6 Cooks In1 hour 30 minutes DifficultyNot too tricky', 'Serves 6', 'Cooks In1 hour 30 minutes', 'DifficultyNot too tricky']   \n",
       "\n",
       "                                                                                                                                                                                                                                                                                                      description  \\\n",
       "1006                                                                                                                                                                                                                              ['âGobble-oink pie is a great way to get the kids involved in the kitchen â   \n",
       "1007  ['1 small swede', '2 sweet potatoes', '1 knob of unsalted butter', '2 carrots', '1 stick of celery', '1 medium onion', '2 cloves of garlic', 'olive oil', '500 g higher-welfare turkey mince (or leftover cooked higher-welfare turkey)', '50 g higher-welfare ham', '500 ml organic chicken or vegetabl...   \n",
       "\n",
       "                                                                                                                                                                                                                                                                                                          details  \\\n",
       "1006                                                                                                                                                                                                                                                                                                          NaN   \n",
       "1007  ['Step 1: Preheat the oven to 180ÂºC/350ÂºF/gas 4. ', 'Step 2: Peel and roughly chop the swede and sweet potatoes, then boil in a pan of water for 20 minutes, or until soft. Drain and leave to steam dry, then mash with butter and set aside.', 'Step 3: Finely chop the carrot and celery, then peel...   \n",
       "\n",
       "                                                                               ingredients  \\\n",
       "1006                                                                                   NaN   \n",
       "1007  https://img.jamieoliver.com/jamieoliver/recipe-database/46455436.jpg?tr=w-800,h-1066   \n",
       "\n",
       "                                                             instructions  \\\n",
       "1006                                                                  NaN   \n",
       "1007  https://www.jamieoliver.com/recipes/turkey-recipes/gobble-oink-pie/   \n",
       "\n",
       "     image_url recipe_url  \n",
       "1006       NaN        NaN  \n",
       "1007       NaN        NaN  "
      ]
     },
     "execution_count": 340,
     "metadata": {},
     "output_type": "execute_result"
    }
   ],
   "source": [
    "df[df['image_url'].isnull()]"
   ]
  },
  {
   "cell_type": "code",
   "execution_count": 341,
   "metadata": {},
   "outputs": [],
   "source": [
    "df.drop_duplicates(subset = 'recipe_name',keep='first', inplace=True)"
   ]
  },
  {
   "cell_type": "code",
   "execution_count": 342,
   "metadata": {},
   "outputs": [
    {
     "data": {
      "text/plain": [
       "(1998, 8)"
      ]
     },
     "execution_count": 342,
     "metadata": {},
     "output_type": "execute_result"
    }
   ],
   "source": [
    "df.shape"
   ]
  },
  {
   "cell_type": "code",
   "execution_count": 343,
   "metadata": {},
   "outputs": [],
   "source": [
    "df = df.dropna(axis=0)"
   ]
  },
  {
   "cell_type": "code",
   "execution_count": 344,
   "metadata": {},
   "outputs": [
    {
     "data": {
      "text/plain": [
       "recipe_name     0\n",
       "category        0\n",
       "description     0\n",
       "details         0\n",
       "ingredients     0\n",
       "instructions    0\n",
       "image_url       0\n",
       "recipe_url      0\n",
       "dtype: int64"
      ]
     },
     "execution_count": 344,
     "metadata": {},
     "output_type": "execute_result"
    }
   ],
   "source": [
    "df.isnull().sum()"
   ]
  },
  {
   "cell_type": "code",
   "execution_count": 345,
   "metadata": {},
   "outputs": [
    {
     "data": {
      "text/plain": [
       "(1958, 8)"
      ]
     },
     "execution_count": 345,
     "metadata": {},
     "output_type": "execute_result"
    }
   ],
   "source": [
    "df.shape"
   ]
  },
  {
   "cell_type": "code",
   "execution_count": 346,
   "metadata": {},
   "outputs": [
    {
     "data": {
      "image/png": "[encoded data removed]",
      "text/plain": [
       "<Figure size 1296x576 with 1 Axes>"
      ]
     },
     "metadata": {
      "needs_background": "light"
     },
     "output_type": "display_data"
    }
   ],
   "source": [
    "#Data Visualization\n",
    "plt.figure(figsize=(18, 8))\n",
    "plt.title(\"Count of Dessert Category\",size='20',weight='bold')\n",
    "plt.xlabel(\"\",size='20')\n",
    "plt.ylabel(\"\",size='20')\n",
    "sns.countplot(df.category,palette='Pastel1');"
   ]
  },
  {
   "cell_type": "markdown",
   "metadata": {},
   "source": [
    "## Data Cleaning - Model 1"
   ]
  },
  {
   "cell_type": "code",
   "execution_count": 347,
   "metadata": {},
   "outputs": [],
   "source": [
    "model1 = df[['recipe_name','category','description','ingredients']]"
   ]
  },
  {
   "cell_type": "code",
   "execution_count": 348,
   "metadata": {},
   "outputs": [],
   "source": [
    "model1_clean = pd.DataFrame(columns = ['recipe_name','category','description','ingredients'])"
   ]
  },
  {
   "cell_type": "code",
   "execution_count": 349,
   "metadata": {},
   "outputs": [],
   "source": [
    "model1_clean['recipe_name'] = model1['recipe_name']"
   ]
  },
  {
   "cell_type": "code",
   "execution_count": 350,
   "metadata": {},
   "outputs": [],
   "source": [
    "import string\n",
    "from nltk.corpus import stopwords\n",
    "import re\n",
    "def clean_ingredients(x):\n",
    "    x = re.sub(r\"\\\\xa0\",' ',x)\n",
    "    x = re.sub(r'\\\\n', ' ', x)\n",
    "    x = re.sub(r'â\\x80\\x93', ' ', x)\n",
    "    x = re.sub(r'â\\x80\\x99',\" \",x)\n",
    "    x = re.sub(r'[0-9]+', ' ', x)\n",
    "    #x = ''.join([char for char in x if char not in string.punctuation])\n",
    "    x = re.sub(r'\\b\\w{1,2}\\b', ' ', x)\n",
    "    x = re.sub(r'°',' ',x)\n",
    "    x = x.lower()\n",
    "    return x.strip()\n",
    "    "
   ]
  },
  {
   "cell_type": "code",
   "execution_count": 351,
   "metadata": {},
   "outputs": [],
   "source": [
    "model1_clean['ingredients'] = model1['ingredients'].apply(clean_ingredients)"
   ]
  },
  {
   "cell_type": "code",
   "execution_count": 352,
   "metadata": {},
   "outputs": [
    {
     "data": {
      "text/html": [
       "<div>\n",
       "<style scoped>\n",
       "    .dataframe tbody tr th:only-of-type {\n",
       "        vertical-align: middle;\n",
       "    }\n",
       "\n",
       "    .dataframe tbody tr th {\n",
       "        vertical-align: top;\n",
       "    }\n",
       "\n",
       "    .dataframe thead th {\n",
       "        text-align: right;\n",
       "    }\n",
       "</style>\n",
       "<table border=\"1\" class=\"dataframe\">\n",
       "  <thead>\n",
       "    <tr style=\"text-align: right;\">\n",
       "      <th></th>\n",
       "      <th>recipe_name</th>\n",
       "      <th>category</th>\n",
       "      <th>description</th>\n",
       "      <th>ingredients</th>\n",
       "    </tr>\n",
       "  </thead>\n",
       "  <tbody>\n",
       "    <tr>\n",
       "      <th>0</th>\n",
       "      <td>Chewy Chocolate Chip Cookies</td>\n",
       "      <td>NaN</td>\n",
       "      <td>NaN</td>\n",
       "      <td>['  and  /  cups (  ) all-purpose flour(spoon &amp; leveled)', '  teaspoon baking soda', '  and  /  teaspoons cornstarch', ' /  teaspoon salt', ' /  cup ( .  sticks     ) unsalted butter, melted &amp; slightly cooled', ' /  cup (  ) packed light   dark brown sugar', ' /  cup (  ) granulated sugar', '  l...</td>\n",
       "    </tr>\n",
       "    <tr>\n",
       "      <th>1</th>\n",
       "      <td>The Best Sugar Cookies</td>\n",
       "      <td>NaN</td>\n",
       "      <td>NaN</td>\n",
       "      <td>['  and  /  cups (  ) all-purpose flour(spoon &amp; leveled), plus more   needed for rolling and work surface', ' /  teaspoon baking powder', ' /  teaspoon salt', ' /  cup ( .  sticks     ) unsalted butter, softened toroom temperature', ' /  cup (  ) granulated sugar', '  large egg,   room temperatu...</td>\n",
       "    </tr>\n",
       "    <tr>\n",
       "      <th>2</th>\n",
       "      <td>Dark Chocolate Chunk Oatmeal Cookies</td>\n",
       "      <td>NaN</td>\n",
       "      <td>NaN</td>\n",
       "      <td>['  cup (  ) unsalted butter, softened toroom temperature', '  cup (  ) packed light   dark brown sugar', ' /  cup (  ) granulated sugar', '  large eggs,   room temperature', '  tablespoon pure vanilla extract (yes, tablespoon!)', '  tablespoon molasses', '  and  /  cups (  ) all-purpose flour(s...</td>\n",
       "    </tr>\n",
       "    <tr>\n",
       "      <th>3</th>\n",
       "      <td>Homemade Butter Cookies</td>\n",
       "      <td>NaN</td>\n",
       "      <td>NaN</td>\n",
       "      <td>['  cup (  sticks;   ) unsalted butter, softened   room temperature', ' /  cup (  ) granulated sugar', '  and  /  teaspoons pure vanilla extract', '  teaspoon almond extract', '  large egg,   room temperature', '  and  /  cups (  ) all-purpose flour(spoon &amp; leveled)', ' /  teaspoon salt', '     ...</td>\n",
       "    </tr>\n",
       "    <tr>\n",
       "      <th>4</th>\n",
       "      <td>Chewy Oatmeal Chocolate Chip Cookies</td>\n",
       "      <td>NaN</td>\n",
       "      <td>NaN</td>\n",
       "      <td>['  and  /  cups (  ) all-purpose flour(spoon &amp; leveled)', '  teaspoon ground cinnamon (optional)', '  teaspoon baking soda', '  teaspoon salt', '  cup (  sticks;   ) unsalted butter, softened toroom temperature', '  cup (  ) packed light   dark brown sugar', ' /  cup (  ) granulated sugar', '  ...</td>\n",
       "    </tr>\n",
       "    <tr>\n",
       "      <th>...</th>\n",
       "      <td>...</td>\n",
       "      <td>...</td>\n",
       "      <td>...</td>\n",
       "      <td>...</td>\n",
       "    </tr>\n",
       "    <tr>\n",
       "      <th>2102</th>\n",
       "      <td>Easy Strawberry Lemonade Freezer Pie</td>\n",
       "      <td>NaN</td>\n",
       "      <td>NaN</td>\n",
       "      <td>['  container ( .  ounces) frozen sweetened sliced strawberries, thawed ( - /  cups thawed)', '  package ( .  ounces) instant lemon pudding mix', '  carton (  ounces) frozen whipped topping, thawed', '  graham cracker crust (  inches)', 'optional: additional whipped topping and fresh strawberries']</td>\n",
       "    </tr>\n",
       "    <tr>\n",
       "      <th>2103</th>\n",
       "      <td>Toffee Cream Pie</td>\n",
       "      <td>NaN</td>\n",
       "      <td>NaN</td>\n",
       "      <td>[' - /  cups half-and-half cream', '  package ( .  ounces) instant vanilla pudding mix', '  heath candy bars ( .  ounces each), chopped', '  carton (  ounces) frozen whipped topping, thawed, divided', '  chocolate crumb crust (  inches)']</td>\n",
       "    </tr>\n",
       "    <tr>\n",
       "      <th>2104</th>\n",
       "      <td>Almond Pear Tart</td>\n",
       "      <td>NaN</td>\n",
       "      <td>NaN</td>\n",
       "      <td>['pastry for single-crust pie (  inches)', ' /  cup plus   teaspoons sugar, divided', '  tablespoons all-purpose flour', '  cups sliced peeled fresh pears (about   medium)', '  tablespoons sliced almonds']</td>\n",
       "    </tr>\n",
       "    <tr>\n",
       "      <th>2105</th>\n",
       "      <td>Arctic Orange Pie</td>\n",
       "      <td>NaN</td>\n",
       "      <td>NaN</td>\n",
       "      <td>['  package (  ounces) fat-free cream cheese', '  can (  ounces) frozen orange juice concentrate, thawed', '  carton (  ounces) frozen reduced-fat whipped topping, thawed', '  reduced-fat graham cracker crust (  inches)', '  can (  ounces) mandarin oranges, drained']</td>\n",
       "    </tr>\n",
       "    <tr>\n",
       "      <th>2106</th>\n",
       "      <td>Frozen Mud Pie</td>\n",
       "      <td>NaN</td>\n",
       "      <td>NaN</td>\n",
       "      <td>[' - /  cups oreo cookie crumbs', ' - /  teaspoons sugar, optional', ' /  cup butter, melted', '  cups chocolate chip   coffee ice cream, softened', ' /  cup chocolate syrup', 'additional oreo cookies, optional']</td>\n",
       "    </tr>\n",
       "  </tbody>\n",
       "</table>\n",
       "<p>1958 rows × 4 columns</p>\n",
       "</div>"
      ],
      "text/plain": [
       "                               recipe_name category description  \\\n",
       "0             Chewy Chocolate Chip Cookies      NaN         NaN   \n",
       "1                   The Best Sugar Cookies      NaN         NaN   \n",
       "2     Dark Chocolate Chunk Oatmeal Cookies      NaN         NaN   \n",
       "3                  Homemade Butter Cookies      NaN         NaN   \n",
       "4     Chewy Oatmeal Chocolate Chip Cookies      NaN         NaN   \n",
       "...                                    ...      ...         ...   \n",
       "2102  Easy Strawberry Lemonade Freezer Pie      NaN         NaN   \n",
       "2103                      Toffee Cream Pie      NaN         NaN   \n",
       "2104                      Almond Pear Tart      NaN         NaN   \n",
       "2105                     Arctic Orange Pie      NaN         NaN   \n",
       "2106                        Frozen Mud Pie      NaN         NaN   \n",
       "\n",
       "                                                                                                                                                                                                                                                                                                      ingredients  \n",
       "0     ['  and  /  cups (  ) all-purpose flour(spoon & leveled)', '  teaspoon baking soda', '  and  /  teaspoons cornstarch', ' /  teaspoon salt', ' /  cup ( .  sticks     ) unsalted butter, melted & slightly cooled', ' /  cup (  ) packed light   dark brown sugar', ' /  cup (  ) granulated sugar', '  l...  \n",
       "1     ['  and  /  cups (  ) all-purpose flour(spoon & leveled), plus more   needed for rolling and work surface', ' /  teaspoon baking powder', ' /  teaspoon salt', ' /  cup ( .  sticks     ) unsalted butter, softened toroom temperature', ' /  cup (  ) granulated sugar', '  large egg,   room temperatu...  \n",
       "2     ['  cup (  ) unsalted butter, softened toroom temperature', '  cup (  ) packed light   dark brown sugar', ' /  cup (  ) granulated sugar', '  large eggs,   room temperature', '  tablespoon pure vanilla extract (yes, tablespoon!)', '  tablespoon molasses', '  and  /  cups (  ) all-purpose flour(s...  \n",
       "3     ['  cup (  sticks;   ) unsalted butter, softened   room temperature', ' /  cup (  ) granulated sugar', '  and  /  teaspoons pure vanilla extract', '  teaspoon almond extract', '  large egg,   room temperature', '  and  /  cups (  ) all-purpose flour(spoon & leveled)', ' /  teaspoon salt', '     ...  \n",
       "4     ['  and  /  cups (  ) all-purpose flour(spoon & leveled)', '  teaspoon ground cinnamon (optional)', '  teaspoon baking soda', '  teaspoon salt', '  cup (  sticks;   ) unsalted butter, softened toroom temperature', '  cup (  ) packed light   dark brown sugar', ' /  cup (  ) granulated sugar', '  ...  \n",
       "...                                                                                                                                                                                                                                                                                                           ...  \n",
       "2102  ['  container ( .  ounces) frozen sweetened sliced strawberries, thawed ( - /  cups thawed)', '  package ( .  ounces) instant lemon pudding mix', '  carton (  ounces) frozen whipped topping, thawed', '  graham cracker crust (  inches)', 'optional: additional whipped topping and fresh strawberries']  \n",
       "2103                                                               [' - /  cups half-and-half cream', '  package ( .  ounces) instant vanilla pudding mix', '  heath candy bars ( .  ounces each), chopped', '  carton (  ounces) frozen whipped topping, thawed, divided', '  chocolate crumb crust (  inches)']  \n",
       "2104                                                                                                ['pastry for single-crust pie (  inches)', ' /  cup plus   teaspoons sugar, divided', '  tablespoons all-purpose flour', '  cups sliced peeled fresh pears (about   medium)', '  tablespoons sliced almonds']  \n",
       "2105                                  ['  package (  ounces) fat-free cream cheese', '  can (  ounces) frozen orange juice concentrate, thawed', '  carton (  ounces) frozen reduced-fat whipped topping, thawed', '  reduced-fat graham cracker crust (  inches)', '  can (  ounces) mandarin oranges, drained']  \n",
       "2106                                                                                         [' - /  cups oreo cookie crumbs', ' - /  teaspoons sugar, optional', ' /  cup butter, melted', '  cups chocolate chip   coffee ice cream, softened', ' /  cup chocolate syrup', 'additional oreo cookies, optional']  \n",
       "\n",
       "[1958 rows x 4 columns]"
      ]
     },
     "execution_count": 352,
     "metadata": {},
     "output_type": "execute_result"
    }
   ],
   "source": [
    "model1_clean"
   ]
  },
  {
   "cell_type": "code",
   "execution_count": 353,
   "metadata": {},
   "outputs": [],
   "source": [
    "def clean_category(x):\n",
    "    x = x.lower()\n",
    "    return x"
   ]
  },
  {
   "cell_type": "code",
   "execution_count": 354,
   "metadata": {},
   "outputs": [],
   "source": [
    "model1_clean['category'] = model1['category'].apply(clean_category)"
   ]
  },
  {
   "cell_type": "code",
   "execution_count": 355,
   "metadata": {},
   "outputs": [],
   "source": [
    "model1_clean['description'] = model1['description'].apply(clean_category)"
   ]
  },
  {
   "cell_type": "code",
   "execution_count": 356,
   "metadata": {},
   "outputs": [],
   "source": [
    "def clean_description(x):\n",
    "    x = x.lower()\n",
    "    x = re.sub(r\"â\\x80\\x99\",'',x)\n",
    "    x = re.sub(r'[0-9]+', ' ', x)\n",
    "    x = re.sub(r\"\\x80\\x9c\",'',x)\n",
    "    x = re.sub(r\"â\",'',x)\n",
    "    x = re.sub(r\"\\x80\\x9d\",'',x)\n",
    "    x = re.sub(r\"\\x80\\x94\",'',x)\n",
    "    x = ''.join([char for char in x if char not in string.punctuation])\n",
    "    x = re.sub(r'\\b\\w{1,2}\\b', '', x)\n",
    "    return x"
   ]
  },
  {
   "cell_type": "code",
   "execution_count": 357,
   "metadata": {},
   "outputs": [],
   "source": [
    "model1_clean['description'] = model1['description'].apply(clean_description)"
   ]
  },
  {
   "cell_type": "code",
   "execution_count": 358,
   "metadata": {},
   "outputs": [],
   "source": [
    "model1_clean['tags'] = model1_clean['category'] + ' ' + model1_clean['ingredients'] + ' ' + model1_clean['description']"
   ]
  },
  {
   "cell_type": "code",
   "execution_count": 359,
   "metadata": {},
   "outputs": [
    {
     "data": {
      "text/html": [
       "<div>\n",
       "<style scoped>\n",
       "    .dataframe tbody tr th:only-of-type {\n",
       "        vertical-align: middle;\n",
       "    }\n",
       "\n",
       "    .dataframe tbody tr th {\n",
       "        vertical-align: top;\n",
       "    }\n",
       "\n",
       "    .dataframe thead th {\n",
       "        text-align: right;\n",
       "    }\n",
       "</style>\n",
       "<table border=\"1\" class=\"dataframe\">\n",
       "  <thead>\n",
       "    <tr style=\"text-align: right;\">\n",
       "      <th></th>\n",
       "      <th>recipe_name</th>\n",
       "      <th>category</th>\n",
       "      <th>description</th>\n",
       "      <th>ingredients</th>\n",
       "      <th>tags</th>\n",
       "    </tr>\n",
       "  </thead>\n",
       "  <tbody>\n",
       "    <tr>\n",
       "      <th>0</th>\n",
       "      <td>Chewy Chocolate Chip Cookies</td>\n",
       "      <td>cookie</td>\n",
       "      <td>pinned over   million times these super soft and chewy chocolate chip cookies are the most popular cookie recipe   website melted butter   extra egg yolk and more brown sugar than white sugar guarantee the chewiest chocolate chip cookie texture chilling the cookie dough  imperative  mixer required</td>\n",
       "      <td>['  and  /  cups (  ) all-purpose flour(spoon &amp; leveled)', '  teaspoon baking soda', '  and  /  teaspoons cornstarch', ' /  teaspoon salt', ' /  cup ( .  sticks     ) unsalted butter, melted &amp; slightly cooled', ' /  cup (  ) packed light   dark brown sugar', ' /  cup (  ) granulated sugar', '  l...</td>\n",
       "      <td>cookie ['  and  /  cups (  ) all-purpose flour(spoon &amp; leveled)', '  teaspoon baking soda', '  and  /  teaspoons cornstarch', ' /  teaspoon salt', ' /  cup ( .  sticks     ) unsalted butter, melted &amp; slightly cooled', ' /  cup (  ) packed light   dark brown sugar', ' /  cup (  ) granulated sugar...</td>\n",
       "    </tr>\n",
       "    <tr>\n",
       "      <th>1</th>\n",
       "      <td>The Best Sugar Cookies</td>\n",
       "      <td>cookie</td>\n",
       "      <td>with crisp edges thick centers and room for lots  decorating icing  know youll love these soft sugar cookies  much    the number  cookies this recipe yields depends  the size  the cookie cutter you use  youd like  make dozens  cookies for  large crowd double the recipe</td>\n",
       "      <td>['  and  /  cups (  ) all-purpose flour(spoon &amp; leveled), plus more   needed for rolling and work surface', ' /  teaspoon baking powder', ' /  teaspoon salt', ' /  cup ( .  sticks     ) unsalted butter, softened toroom temperature', ' /  cup (  ) granulated sugar', '  large egg,   room temperatu...</td>\n",
       "      <td>cookie ['  and  /  cups (  ) all-purpose flour(spoon &amp; leveled), plus more   needed for rolling and work surface', ' /  teaspoon baking powder', ' /  teaspoon salt', ' /  cup ( .  sticks     ) unsalted butter, softened toroom temperature', ' /  cup (  ) granulated sugar', '  large egg,   room te...</td>\n",
       "    </tr>\n",
       "    <tr>\n",
       "      <th>2</th>\n",
       "      <td>Dark Chocolate Chunk Oatmeal Cookies</td>\n",
       "      <td>cookie</td>\n",
       "      <td>soft and chewy with slightly crisp edges these oatmeal cookies are full  flavor and exploding with melty dark chocolate chill the dough for  least   minutes  the refrigerator before baking</td>\n",
       "      <td>['  cup (  ) unsalted butter, softened toroom temperature', '  cup (  ) packed light   dark brown sugar', ' /  cup (  ) granulated sugar', '  large eggs,   room temperature', '  tablespoon pure vanilla extract (yes, tablespoon!)', '  tablespoon molasses', '  and  /  cups (  ) all-purpose flour(s...</td>\n",
       "      <td>cookie ['  cup (  ) unsalted butter, softened toroom temperature', '  cup (  ) packed light   dark brown sugar', ' /  cup (  ) granulated sugar', '  large eggs,   room temperature', '  tablespoon pure vanilla extract (yes, tablespoon!)', '  tablespoon molasses', '  and  /  cups (  ) all-purpose ...</td>\n",
       "    </tr>\n",
       "    <tr>\n",
       "      <th>3</th>\n",
       "      <td>Homemade Butter Cookies</td>\n",
       "      <td>cookie</td>\n",
       "      <td>using just   basic ingredients and  large piping tip make these soft vanilla almond flavored butter cookies theres  leavening  the texture  close  shortbread cookies  recommend chilling the piped cookies for  least    minutes before baking</td>\n",
       "      <td>['  cup (  sticks;   ) unsalted butter, softened   room temperature', ' /  cup (  ) granulated sugar', '  and  /  teaspoons pure vanilla extract', '  teaspoon almond extract', '  large egg,   room temperature', '  and  /  cups (  ) all-purpose flour(spoon &amp; leveled)', ' /  teaspoon salt', '     ...</td>\n",
       "      <td>cookie ['  cup (  sticks;   ) unsalted butter, softened   room temperature', ' /  cup (  ) granulated sugar', '  and  /  teaspoons pure vanilla extract', '  teaspoon almond extract', '  large egg,   room temperature', '  and  /  cups (  ) all-purpose flour(spoon &amp; leveled)', ' /  teaspoon salt',...</td>\n",
       "    </tr>\n",
       "    <tr>\n",
       "      <th>4</th>\n",
       "      <td>Chewy Oatmeal Chocolate Chip Cookies</td>\n",
       "      <td>cookie</td>\n",
       "      <td>with oats butter and mostly all brown sugar you are guaranteed  soft and chewy oatmeal cookie use this perfect oatmeal cookie  the base for other addins such  raisins dried cranberries and nuts cinnamon and  touch  molasses add that little something extra these are the best oatmeal chocolate chi...</td>\n",
       "      <td>['  and  /  cups (  ) all-purpose flour(spoon &amp; leveled)', '  teaspoon ground cinnamon (optional)', '  teaspoon baking soda', '  teaspoon salt', '  cup (  sticks;   ) unsalted butter, softened toroom temperature', '  cup (  ) packed light   dark brown sugar', ' /  cup (  ) granulated sugar', '  ...</td>\n",
       "      <td>cookie ['  and  /  cups (  ) all-purpose flour(spoon &amp; leveled)', '  teaspoon ground cinnamon (optional)', '  teaspoon baking soda', '  teaspoon salt', '  cup (  sticks;   ) unsalted butter, softened toroom temperature', '  cup (  ) packed light   dark brown sugar', ' /  cup (  ) granulated suga...</td>\n",
       "    </tr>\n",
       "    <tr>\n",
       "      <th>...</th>\n",
       "      <td>...</td>\n",
       "      <td>...</td>\n",
       "      <td>...</td>\n",
       "      <td>...</td>\n",
       "      <td>...</td>\n",
       "    </tr>\n",
       "    <tr>\n",
       "      <th>2102</th>\n",
       "      <td>Easy Strawberry Lemonade Freezer Pie</td>\n",
       "      <td>pie_crisp_tart</td>\n",
       "      <td>three simple ingredients mixed together and spread into  graham crust make magic while your freezer does the all the work prep this pie ahead and freeze  overnight  even longer feel free  vary the fruit  youd like debbie glasscock conway arkansas</td>\n",
       "      <td>['  container ( .  ounces) frozen sweetened sliced strawberries, thawed ( - /  cups thawed)', '  package ( .  ounces) instant lemon pudding mix', '  carton (  ounces) frozen whipped topping, thawed', '  graham cracker crust (  inches)', 'optional: additional whipped topping and fresh strawberries']</td>\n",
       "      <td>pie_crisp_tart ['  container ( .  ounces) frozen sweetened sliced strawberries, thawed ( - /  cups thawed)', '  package ( .  ounces) instant lemon pudding mix', '  carton (  ounces) frozen whipped topping, thawed', '  graham cracker crust (  inches)', 'optional: additional whipped topping and fr...</td>\n",
       "    </tr>\n",
       "    <tr>\n",
       "      <th>2103</th>\n",
       "      <td>Toffee Cream Pie</td>\n",
       "      <td>pie_crisp_tart</td>\n",
       "      <td>frozen desserts are ideal for party hosts but guests who dont have far  travel will also appreciate this makeahead favorite ive prepared  with chocolate vanilla and white chocolate instant pudding too tammy campbell chesapeake virginia</td>\n",
       "      <td>[' - /  cups half-and-half cream', '  package ( .  ounces) instant vanilla pudding mix', '  heath candy bars ( .  ounces each), chopped', '  carton (  ounces) frozen whipped topping, thawed, divided', '  chocolate crumb crust (  inches)']</td>\n",
       "      <td>pie_crisp_tart [' - /  cups half-and-half cream', '  package ( .  ounces) instant vanilla pudding mix', '  heath candy bars ( .  ounces each), chopped', '  carton (  ounces) frozen whipped topping, thawed, divided', '  chocolate crumb crust (  inches)'] frozen desserts are ideal for party hosts ...</td>\n",
       "    </tr>\n",
       "    <tr>\n",
       "      <th>2104</th>\n",
       "      <td>Almond Pear Tart</td>\n",
       "      <td>pie_crisp_tart</td>\n",
       "      <td>had never seen  pie without  pan until  daughter brought back this wonderful pear almond tart recipe from  rotary club exchange program  belgium its still  family favorite after all these years sherry lamay capitan new mexico</td>\n",
       "      <td>['pastry for single-crust pie (  inches)', ' /  cup plus   teaspoons sugar, divided', '  tablespoons all-purpose flour', '  cups sliced peeled fresh pears (about   medium)', '  tablespoons sliced almonds']</td>\n",
       "      <td>pie_crisp_tart ['pastry for single-crust pie (  inches)', ' /  cup plus   teaspoons sugar, divided', '  tablespoons all-purpose flour', '  cups sliced peeled fresh pears (about   medium)', '  tablespoons sliced almonds']  had never seen  pie without  pan until  daughter brought back this wonderf...</td>\n",
       "    </tr>\n",
       "    <tr>\n",
       "      <th>2105</th>\n",
       "      <td>Arctic Orange Pie</td>\n",
       "      <td>pie_crisp_tart</td>\n",
       "      <td>this frosty orange pie   easy  make  have tried lemonade mango and pineapple juice concentrates instead  orange and  family loves each one marie przepierski erie pennsylvania</td>\n",
       "      <td>['  package (  ounces) fat-free cream cheese', '  can (  ounces) frozen orange juice concentrate, thawed', '  carton (  ounces) frozen reduced-fat whipped topping, thawed', '  reduced-fat graham cracker crust (  inches)', '  can (  ounces) mandarin oranges, drained']</td>\n",
       "      <td>pie_crisp_tart ['  package (  ounces) fat-free cream cheese', '  can (  ounces) frozen orange juice concentrate, thawed', '  carton (  ounces) frozen reduced-fat whipped topping, thawed', '  reduced-fat graham cracker crust (  inches)', '  can (  ounces) mandarin oranges, drained'] this frosty o...</td>\n",
       "    </tr>\n",
       "    <tr>\n",
       "      <th>2106</th>\n",
       "      <td>Frozen Mud Pie</td>\n",
       "      <td>pie_crisp_tart</td>\n",
       "      <td>heres one  those looks like you fussed desserts that   easy its become  standard for   love the mocha version but pure chocolate lovers may prefer using chocolate chip ice cream the cookie crust   snap  make \\ndebbie terenziniwilkerson lusby maryland</td>\n",
       "      <td>[' - /  cups oreo cookie crumbs', ' - /  teaspoons sugar, optional', ' /  cup butter, melted', '  cups chocolate chip   coffee ice cream, softened', ' /  cup chocolate syrup', 'additional oreo cookies, optional']</td>\n",
       "      <td>pie_crisp_tart [' - /  cups oreo cookie crumbs', ' - /  teaspoons sugar, optional', ' /  cup butter, melted', '  cups chocolate chip   coffee ice cream, softened', ' /  cup chocolate syrup', 'additional oreo cookies, optional'] heres one  those looks like you fussed desserts that   easy its beco...</td>\n",
       "    </tr>\n",
       "  </tbody>\n",
       "</table>\n",
       "<p>1958 rows × 5 columns</p>\n",
       "</div>"
      ],
      "text/plain": [
       "                               recipe_name        category  \\\n",
       "0             Chewy Chocolate Chip Cookies          cookie   \n",
       "1                   The Best Sugar Cookies          cookie   \n",
       "2     Dark Chocolate Chunk Oatmeal Cookies          cookie   \n",
       "3                  Homemade Butter Cookies          cookie   \n",
       "4     Chewy Oatmeal Chocolate Chip Cookies          cookie   \n",
       "...                                    ...             ...   \n",
       "2102  Easy Strawberry Lemonade Freezer Pie  pie_crisp_tart   \n",
       "2103                      Toffee Cream Pie  pie_crisp_tart   \n",
       "2104                      Almond Pear Tart  pie_crisp_tart   \n",
       "2105                     Arctic Orange Pie  pie_crisp_tart   \n",
       "2106                        Frozen Mud Pie  pie_crisp_tart   \n",
       "\n",
       "                                                                                                                                                                                                                                                                                                      description  \\\n",
       "0     pinned over   million times these super soft and chewy chocolate chip cookies are the most popular cookie recipe   website melted butter   extra egg yolk and more brown sugar than white sugar guarantee the chewiest chocolate chip cookie texture chilling the cookie dough  imperative  mixer required    \n",
       "1                                   with crisp edges thick centers and room for lots  decorating icing  know youll love these soft sugar cookies  much    the number  cookies this recipe yields depends  the size  the cookie cutter you use  youd like  make dozens  cookies for  large crowd double the recipe   \n",
       "2                                                                                                                    soft and chewy with slightly crisp edges these oatmeal cookies are full  flavor and exploding with melty dark chocolate chill the dough for  least   minutes  the refrigerator before baking   \n",
       "3                                                                 using just   basic ingredients and  large piping tip make these soft vanilla almond flavored butter cookies theres  leavening  the texture  close  shortbread cookies  recommend chilling the piped cookies for  least    minutes before baking   \n",
       "4     with oats butter and mostly all brown sugar you are guaranteed  soft and chewy oatmeal cookie use this perfect oatmeal cookie  the base for other addins such  raisins dried cranberries and nuts cinnamon and  touch  molasses add that little something extra these are the best oatmeal chocolate chi...   \n",
       "...                                                                                                                                                                                                                                                                                                           ...   \n",
       "2102                                                       three simple ingredients mixed together and spread into  graham crust make magic while your freezer does the all the work prep this pie ahead and freeze  overnight  even longer feel free  vary the fruit  youd like debbie glasscock conway arkansas   \n",
       "2103                                                                  frozen desserts are ideal for party hosts but guests who dont have far  travel will also appreciate this makeahead favorite ive prepared  with chocolate vanilla and white chocolate instant pudding too tammy campbell chesapeake virginia   \n",
       "2104                                                                            had never seen  pie without  pan until  daughter brought back this wonderful pear almond tart recipe from  rotary club exchange program  belgium its still  family favorite after all these years sherry lamay capitan new mexico   \n",
       "2105                                                                                                                               this frosty orange pie   easy  make  have tried lemonade mango and pineapple juice concentrates instead  orange and  family loves each one marie przepierski erie pennsylvania   \n",
       "2106                                                   heres one  those looks like you fussed desserts that   easy its become  standard for   love the mocha version but pure chocolate lovers may prefer using chocolate chip ice cream the cookie crust   snap  make \\ndebbie terenziniwilkerson lusby maryland   \n",
       "\n",
       "                                                                                                                                                                                                                                                                                                      ingredients  \\\n",
       "0     ['  and  /  cups (  ) all-purpose flour(spoon & leveled)', '  teaspoon baking soda', '  and  /  teaspoons cornstarch', ' /  teaspoon salt', ' /  cup ( .  sticks     ) unsalted butter, melted & slightly cooled', ' /  cup (  ) packed light   dark brown sugar', ' /  cup (  ) granulated sugar', '  l...   \n",
       "1     ['  and  /  cups (  ) all-purpose flour(spoon & leveled), plus more   needed for rolling and work surface', ' /  teaspoon baking powder', ' /  teaspoon salt', ' /  cup ( .  sticks     ) unsalted butter, softened toroom temperature', ' /  cup (  ) granulated sugar', '  large egg,   room temperatu...   \n",
       "2     ['  cup (  ) unsalted butter, softened toroom temperature', '  cup (  ) packed light   dark brown sugar', ' /  cup (  ) granulated sugar', '  large eggs,   room temperature', '  tablespoon pure vanilla extract (yes, tablespoon!)', '  tablespoon molasses', '  and  /  cups (  ) all-purpose flour(s...   \n",
       "3     ['  cup (  sticks;   ) unsalted butter, softened   room temperature', ' /  cup (  ) granulated sugar', '  and  /  teaspoons pure vanilla extract', '  teaspoon almond extract', '  large egg,   room temperature', '  and  /  cups (  ) all-purpose flour(spoon & leveled)', ' /  teaspoon salt', '     ...   \n",
       "4     ['  and  /  cups (  ) all-purpose flour(spoon & leveled)', '  teaspoon ground cinnamon (optional)', '  teaspoon baking soda', '  teaspoon salt', '  cup (  sticks;   ) unsalted butter, softened toroom temperature', '  cup (  ) packed light   dark brown sugar', ' /  cup (  ) granulated sugar', '  ...   \n",
       "...                                                                                                                                                                                                                                                                                                           ...   \n",
       "2102  ['  container ( .  ounces) frozen sweetened sliced strawberries, thawed ( - /  cups thawed)', '  package ( .  ounces) instant lemon pudding mix', '  carton (  ounces) frozen whipped topping, thawed', '  graham cracker crust (  inches)', 'optional: additional whipped topping and fresh strawberries']   \n",
       "2103                                                               [' - /  cups half-and-half cream', '  package ( .  ounces) instant vanilla pudding mix', '  heath candy bars ( .  ounces each), chopped', '  carton (  ounces) frozen whipped topping, thawed, divided', '  chocolate crumb crust (  inches)']   \n",
       "2104                                                                                                ['pastry for single-crust pie (  inches)', ' /  cup plus   teaspoons sugar, divided', '  tablespoons all-purpose flour', '  cups sliced peeled fresh pears (about   medium)', '  tablespoons sliced almonds']   \n",
       "2105                                  ['  package (  ounces) fat-free cream cheese', '  can (  ounces) frozen orange juice concentrate, thawed', '  carton (  ounces) frozen reduced-fat whipped topping, thawed', '  reduced-fat graham cracker crust (  inches)', '  can (  ounces) mandarin oranges, drained']   \n",
       "2106                                                                                         [' - /  cups oreo cookie crumbs', ' - /  teaspoons sugar, optional', ' /  cup butter, melted', '  cups chocolate chip   coffee ice cream, softened', ' /  cup chocolate syrup', 'additional oreo cookies, optional']   \n",
       "\n",
       "                                                                                                                                                                                                                                                                                                             tags  \n",
       "0     cookie ['  and  /  cups (  ) all-purpose flour(spoon & leveled)', '  teaspoon baking soda', '  and  /  teaspoons cornstarch', ' /  teaspoon salt', ' /  cup ( .  sticks     ) unsalted butter, melted & slightly cooled', ' /  cup (  ) packed light   dark brown sugar', ' /  cup (  ) granulated sugar...  \n",
       "1     cookie ['  and  /  cups (  ) all-purpose flour(spoon & leveled), plus more   needed for rolling and work surface', ' /  teaspoon baking powder', ' /  teaspoon salt', ' /  cup ( .  sticks     ) unsalted butter, softened toroom temperature', ' /  cup (  ) granulated sugar', '  large egg,   room te...  \n",
       "2     cookie ['  cup (  ) unsalted butter, softened toroom temperature', '  cup (  ) packed light   dark brown sugar', ' /  cup (  ) granulated sugar', '  large eggs,   room temperature', '  tablespoon pure vanilla extract (yes, tablespoon!)', '  tablespoon molasses', '  and  /  cups (  ) all-purpose ...  \n",
       "3     cookie ['  cup (  sticks;   ) unsalted butter, softened   room temperature', ' /  cup (  ) granulated sugar', '  and  /  teaspoons pure vanilla extract', '  teaspoon almond extract', '  large egg,   room temperature', '  and  /  cups (  ) all-purpose flour(spoon & leveled)', ' /  teaspoon salt',...  \n",
       "4     cookie ['  and  /  cups (  ) all-purpose flour(spoon & leveled)', '  teaspoon ground cinnamon (optional)', '  teaspoon baking soda', '  teaspoon salt', '  cup (  sticks;   ) unsalted butter, softened toroom temperature', '  cup (  ) packed light   dark brown sugar', ' /  cup (  ) granulated suga...  \n",
       "...                                                                                                                                                                                                                                                                                                           ...  \n",
       "2102  pie_crisp_tart ['  container ( .  ounces) frozen sweetened sliced strawberries, thawed ( - /  cups thawed)', '  package ( .  ounces) instant lemon pudding mix', '  carton (  ounces) frozen whipped topping, thawed', '  graham cracker crust (  inches)', 'optional: additional whipped topping and fr...  \n",
       "2103  pie_crisp_tart [' - /  cups half-and-half cream', '  package ( .  ounces) instant vanilla pudding mix', '  heath candy bars ( .  ounces each), chopped', '  carton (  ounces) frozen whipped topping, thawed, divided', '  chocolate crumb crust (  inches)'] frozen desserts are ideal for party hosts ...  \n",
       "2104  pie_crisp_tart ['pastry for single-crust pie (  inches)', ' /  cup plus   teaspoons sugar, divided', '  tablespoons all-purpose flour', '  cups sliced peeled fresh pears (about   medium)', '  tablespoons sliced almonds']  had never seen  pie without  pan until  daughter brought back this wonderf...  \n",
       "2105  pie_crisp_tart ['  package (  ounces) fat-free cream cheese', '  can (  ounces) frozen orange juice concentrate, thawed', '  carton (  ounces) frozen reduced-fat whipped topping, thawed', '  reduced-fat graham cracker crust (  inches)', '  can (  ounces) mandarin oranges, drained'] this frosty o...  \n",
       "2106  pie_crisp_tart [' - /  cups oreo cookie crumbs', ' - /  teaspoons sugar, optional', ' /  cup butter, melted', '  cups chocolate chip   coffee ice cream, softened', ' /  cup chocolate syrup', 'additional oreo cookies, optional'] heres one  those looks like you fussed desserts that   easy its beco...  \n",
       "\n",
       "[1958 rows x 5 columns]"
      ]
     },
     "execution_count": 359,
     "metadata": {},
     "output_type": "execute_result"
    }
   ],
   "source": [
    "model1_clean"
   ]
  },
  {
   "cell_type": "code",
   "execution_count": 360,
   "metadata": {},
   "outputs": [],
   "source": [
    "training_df = pd.DataFrame(columns = ['recipe_name','tags'])"
   ]
  },
  {
   "cell_type": "code",
   "execution_count": 361,
   "metadata": {},
   "outputs": [],
   "source": [
    "training_df['recipe_name'] = model1_clean['recipe_name']\n",
    "training_df['tags'] = model1_clean['tags']"
   ]
  },
  {
   "cell_type": "code",
   "execution_count": 362,
   "metadata": {},
   "outputs": [
    {
     "data": {
      "text/html": [
       "<div>\n",
       "<style scoped>\n",
       "    .dataframe tbody tr th:only-of-type {\n",
       "        vertical-align: middle;\n",
       "    }\n",
       "\n",
       "    .dataframe tbody tr th {\n",
       "        vertical-align: top;\n",
       "    }\n",
       "\n",
       "    .dataframe thead th {\n",
       "        text-align: right;\n",
       "    }\n",
       "</style>\n",
       "<table border=\"1\" class=\"dataframe\">\n",
       "  <thead>\n",
       "    <tr style=\"text-align: right;\">\n",
       "      <th></th>\n",
       "      <th>index</th>\n",
       "      <th>recipe_name</th>\n",
       "      <th>tags</th>\n",
       "    </tr>\n",
       "  </thead>\n",
       "  <tbody>\n",
       "    <tr>\n",
       "      <th>0</th>\n",
       "      <td>0</td>\n",
       "      <td>Chewy Chocolate Chip Cookies</td>\n",
       "      <td>cookie ['  and  /  cups (  ) all-purpose flour(spoon &amp; leveled)', '  teaspoon baking soda', '  and  /  teaspoons cornstarch', ' /  teaspoon salt', ' /  cup ( .  sticks     ) unsalted butter, melted &amp; slightly cooled', ' /  cup (  ) packed light   dark brown sugar', ' /  cup (  ) granulated sugar...</td>\n",
       "    </tr>\n",
       "    <tr>\n",
       "      <th>1</th>\n",
       "      <td>1</td>\n",
       "      <td>The Best Sugar Cookies</td>\n",
       "      <td>cookie ['  and  /  cups (  ) all-purpose flour(spoon &amp; leveled), plus more   needed for rolling and work surface', ' /  teaspoon baking powder', ' /  teaspoon salt', ' /  cup ( .  sticks     ) unsalted butter, softened toroom temperature', ' /  cup (  ) granulated sugar', '  large egg,   room te...</td>\n",
       "    </tr>\n",
       "    <tr>\n",
       "      <th>2</th>\n",
       "      <td>2</td>\n",
       "      <td>Dark Chocolate Chunk Oatmeal Cookies</td>\n",
       "      <td>cookie ['  cup (  ) unsalted butter, softened toroom temperature', '  cup (  ) packed light   dark brown sugar', ' /  cup (  ) granulated sugar', '  large eggs,   room temperature', '  tablespoon pure vanilla extract (yes, tablespoon!)', '  tablespoon molasses', '  and  /  cups (  ) all-purpose ...</td>\n",
       "    </tr>\n",
       "    <tr>\n",
       "      <th>3</th>\n",
       "      <td>3</td>\n",
       "      <td>Homemade Butter Cookies</td>\n",
       "      <td>cookie ['  cup (  sticks;   ) unsalted butter, softened   room temperature', ' /  cup (  ) granulated sugar', '  and  /  teaspoons pure vanilla extract', '  teaspoon almond extract', '  large egg,   room temperature', '  and  /  cups (  ) all-purpose flour(spoon &amp; leveled)', ' /  teaspoon salt',...</td>\n",
       "    </tr>\n",
       "    <tr>\n",
       "      <th>4</th>\n",
       "      <td>4</td>\n",
       "      <td>Chewy Oatmeal Chocolate Chip Cookies</td>\n",
       "      <td>cookie ['  and  /  cups (  ) all-purpose flour(spoon &amp; leveled)', '  teaspoon ground cinnamon (optional)', '  teaspoon baking soda', '  teaspoon salt', '  cup (  sticks;   ) unsalted butter, softened toroom temperature', '  cup (  ) packed light   dark brown sugar', ' /  cup (  ) granulated suga...</td>\n",
       "    </tr>\n",
       "    <tr>\n",
       "      <th>...</th>\n",
       "      <td>...</td>\n",
       "      <td>...</td>\n",
       "      <td>...</td>\n",
       "    </tr>\n",
       "    <tr>\n",
       "      <th>1953</th>\n",
       "      <td>2102</td>\n",
       "      <td>Easy Strawberry Lemonade Freezer Pie</td>\n",
       "      <td>pie_crisp_tart ['  container ( .  ounces) frozen sweetened sliced strawberries, thawed ( - /  cups thawed)', '  package ( .  ounces) instant lemon pudding mix', '  carton (  ounces) frozen whipped topping, thawed', '  graham cracker crust (  inches)', 'optional: additional whipped topping and fr...</td>\n",
       "    </tr>\n",
       "    <tr>\n",
       "      <th>1954</th>\n",
       "      <td>2103</td>\n",
       "      <td>Toffee Cream Pie</td>\n",
       "      <td>pie_crisp_tart [' - /  cups half-and-half cream', '  package ( .  ounces) instant vanilla pudding mix', '  heath candy bars ( .  ounces each), chopped', '  carton (  ounces) frozen whipped topping, thawed, divided', '  chocolate crumb crust (  inches)'] frozen desserts are ideal for party hosts ...</td>\n",
       "    </tr>\n",
       "    <tr>\n",
       "      <th>1955</th>\n",
       "      <td>2104</td>\n",
       "      <td>Almond Pear Tart</td>\n",
       "      <td>pie_crisp_tart ['pastry for single-crust pie (  inches)', ' /  cup plus   teaspoons sugar, divided', '  tablespoons all-purpose flour', '  cups sliced peeled fresh pears (about   medium)', '  tablespoons sliced almonds']  had never seen  pie without  pan until  daughter brought back this wonderf...</td>\n",
       "    </tr>\n",
       "    <tr>\n",
       "      <th>1956</th>\n",
       "      <td>2105</td>\n",
       "      <td>Arctic Orange Pie</td>\n",
       "      <td>pie_crisp_tart ['  package (  ounces) fat-free cream cheese', '  can (  ounces) frozen orange juice concentrate, thawed', '  carton (  ounces) frozen reduced-fat whipped topping, thawed', '  reduced-fat graham cracker crust (  inches)', '  can (  ounces) mandarin oranges, drained'] this frosty o...</td>\n",
       "    </tr>\n",
       "    <tr>\n",
       "      <th>1957</th>\n",
       "      <td>2106</td>\n",
       "      <td>Frozen Mud Pie</td>\n",
       "      <td>pie_crisp_tart [' - /  cups oreo cookie crumbs', ' - /  teaspoons sugar, optional', ' /  cup butter, melted', '  cups chocolate chip   coffee ice cream, softened', ' /  cup chocolate syrup', 'additional oreo cookies, optional'] heres one  those looks like you fussed desserts that   easy its beco...</td>\n",
       "    </tr>\n",
       "  </tbody>\n",
       "</table>\n",
       "<p>1958 rows × 3 columns</p>\n",
       "</div>"
      ],
      "text/plain": [
       "      index                           recipe_name  \\\n",
       "0         0          Chewy Chocolate Chip Cookies   \n",
       "1         1                The Best Sugar Cookies   \n",
       "2         2  Dark Chocolate Chunk Oatmeal Cookies   \n",
       "3         3               Homemade Butter Cookies   \n",
       "4         4  Chewy Oatmeal Chocolate Chip Cookies   \n",
       "...     ...                                   ...   \n",
       "1953   2102  Easy Strawberry Lemonade Freezer Pie   \n",
       "1954   2103                      Toffee Cream Pie   \n",
       "1955   2104                      Almond Pear Tart   \n",
       "1956   2105                     Arctic Orange Pie   \n",
       "1957   2106                        Frozen Mud Pie   \n",
       "\n",
       "                                                                                                                                                                                                                                                                                                             tags  \n",
       "0     cookie ['  and  /  cups (  ) all-purpose flour(spoon & leveled)', '  teaspoon baking soda', '  and  /  teaspoons cornstarch', ' /  teaspoon salt', ' /  cup ( .  sticks     ) unsalted butter, melted & slightly cooled', ' /  cup (  ) packed light   dark brown sugar', ' /  cup (  ) granulated sugar...  \n",
       "1     cookie ['  and  /  cups (  ) all-purpose flour(spoon & leveled), plus more   needed for rolling and work surface', ' /  teaspoon baking powder', ' /  teaspoon salt', ' /  cup ( .  sticks     ) unsalted butter, softened toroom temperature', ' /  cup (  ) granulated sugar', '  large egg,   room te...  \n",
       "2     cookie ['  cup (  ) unsalted butter, softened toroom temperature', '  cup (  ) packed light   dark brown sugar', ' /  cup (  ) granulated sugar', '  large eggs,   room temperature', '  tablespoon pure vanilla extract (yes, tablespoon!)', '  tablespoon molasses', '  and  /  cups (  ) all-purpose ...  \n",
       "3     cookie ['  cup (  sticks;   ) unsalted butter, softened   room temperature', ' /  cup (  ) granulated sugar', '  and  /  teaspoons pure vanilla extract', '  teaspoon almond extract', '  large egg,   room temperature', '  and  /  cups (  ) all-purpose flour(spoon & leveled)', ' /  teaspoon salt',...  \n",
       "4     cookie ['  and  /  cups (  ) all-purpose flour(spoon & leveled)', '  teaspoon ground cinnamon (optional)', '  teaspoon baking soda', '  teaspoon salt', '  cup (  sticks;   ) unsalted butter, softened toroom temperature', '  cup (  ) packed light   dark brown sugar', ' /  cup (  ) granulated suga...  \n",
       "...                                                                                                                                                                                                                                                                                                           ...  \n",
       "1953  pie_crisp_tart ['  container ( .  ounces) frozen sweetened sliced strawberries, thawed ( - /  cups thawed)', '  package ( .  ounces) instant lemon pudding mix', '  carton (  ounces) frozen whipped topping, thawed', '  graham cracker crust (  inches)', 'optional: additional whipped topping and fr...  \n",
       "1954  pie_crisp_tart [' - /  cups half-and-half cream', '  package ( .  ounces) instant vanilla pudding mix', '  heath candy bars ( .  ounces each), chopped', '  carton (  ounces) frozen whipped topping, thawed, divided', '  chocolate crumb crust (  inches)'] frozen desserts are ideal for party hosts ...  \n",
       "1955  pie_crisp_tart ['pastry for single-crust pie (  inches)', ' /  cup plus   teaspoons sugar, divided', '  tablespoons all-purpose flour', '  cups sliced peeled fresh pears (about   medium)', '  tablespoons sliced almonds']  had never seen  pie without  pan until  daughter brought back this wonderf...  \n",
       "1956  pie_crisp_tart ['  package (  ounces) fat-free cream cheese', '  can (  ounces) frozen orange juice concentrate, thawed', '  carton (  ounces) frozen reduced-fat whipped topping, thawed', '  reduced-fat graham cracker crust (  inches)', '  can (  ounces) mandarin oranges, drained'] this frosty o...  \n",
       "1957  pie_crisp_tart [' - /  cups oreo cookie crumbs', ' - /  teaspoons sugar, optional', ' /  cup butter, melted', '  cups chocolate chip   coffee ice cream, softened', ' /  cup chocolate syrup', 'additional oreo cookies, optional'] heres one  those looks like you fussed desserts that   easy its beco...  \n",
       "\n",
       "[1958 rows x 3 columns]"
      ]
     },
     "execution_count": 362,
     "metadata": {},
     "output_type": "execute_result"
    }
   ],
   "source": [
    "pd.set_option('display.max_colwidth', 300)\n",
    "training_df.reset_index(inplace = True)\n",
    "training_df"
   ]
  },
  {
   "cell_type": "markdown",
   "metadata": {},
   "source": [
    "### Removing Stop Words"
   ]
  },
  {
   "cell_type": "code",
   "execution_count": 363,
   "metadata": {},
   "outputs": [],
   "source": [
    "from nltk.corpus import stopwords\n",
    "stop = stopwords.words('english')\n",
    "from nltk.tokenize import sent_tokenize, word_tokenize"
   ]
  },
  {
   "cell_type": "code",
   "execution_count": 364,
   "metadata": {},
   "outputs": [],
   "source": [
    "training_df['tags1'] = training_df['tags'].apply(lambda tok: word_tokenize(tok))"
   ]
  },
  {
   "cell_type": "code",
   "execution_count": 365,
   "metadata": {},
   "outputs": [],
   "source": [
    "def word_lem(t):\n",
    "    lt = [WordNetLemmatizer().lemmatize(i) for i in t]\n",
    "    return lt\n",
    "training_df['tags2'] = training_df['tags1'].apply(lambda l: word_lem(l))"
   ]
  },
  {
   "cell_type": "code",
   "execution_count": 366,
   "metadata": {},
   "outputs": [],
   "source": [
    "def word_rem(t):\n",
    "    measures = ['teaspoon', 'tablespoon', 'cup','ounce','optional','spoon','leveled','inch','additional','stick','room','plus','needed','rolling','work','surface','room','temperature','toroom']\n",
    "    lt = [i for i in t if i not in measures]\n",
    "    return lt\n",
    "training_df['tags3'] = training_df['tags2'].apply(lambda l: word_rem(l))"
   ]
  },
  {
   "cell_type": "code",
   "execution_count": 367,
   "metadata": {},
   "outputs": [],
   "source": [
    "import string\n",
    "def remove_punct(text):\n",
    "    df = [char for char in text if char not in string.punctuation]\n",
    "    return df\n",
    "training_df['tags4'] = training_df['tags3'].apply(lambda x: remove_punct(x))"
   ]
  },
  {
   "cell_type": "code",
   "execution_count": 368,
   "metadata": {},
   "outputs": [],
   "source": [
    "training_df['tags5'] = training_df['tags4'].apply(lambda x: ' '.join([word for word in x if word not in (stop)]))"
   ]
  },
  {
   "cell_type": "code",
   "execution_count": 369,
   "metadata": {},
   "outputs": [],
   "source": [
    "training_df['tags6'] = training_df['tags5'].apply(lambda x: ''.join([word for word in x if word not in string.punctuation]))"
   ]
  },
  {
   "cell_type": "code",
   "execution_count": 370,
   "metadata": {},
   "outputs": [
    {
     "data": {
      "text/html": [
       "<div>\n",
       "<style scoped>\n",
       "    .dataframe tbody tr th:only-of-type {\n",
       "        vertical-align: middle;\n",
       "    }\n",
       "\n",
       "    .dataframe tbody tr th {\n",
       "        vertical-align: top;\n",
       "    }\n",
       "\n",
       "    .dataframe thead th {\n",
       "        text-align: right;\n",
       "    }\n",
       "</style>\n",
       "<table border=\"1\" class=\"dataframe\">\n",
       "  <thead>\n",
       "    <tr style=\"text-align: right;\">\n",
       "      <th></th>\n",
       "      <th>index</th>\n",
       "      <th>recipe_name</th>\n",
       "      <th>tags</th>\n",
       "      <th>tags1</th>\n",
       "      <th>tags2</th>\n",
       "      <th>tags3</th>\n",
       "      <th>tags4</th>\n",
       "      <th>tags5</th>\n",
       "      <th>tags6</th>\n",
       "    </tr>\n",
       "  </thead>\n",
       "  <tbody>\n",
       "    <tr>\n",
       "      <th>0</th>\n",
       "      <td>0</td>\n",
       "      <td>Chewy Chocolate Chip Cookies</td>\n",
       "      <td>cookie ['  and  /  cups (  ) all-purpose flour(spoon &amp; leveled)', '  teaspoon baking soda', '  and  /  teaspoons cornstarch', ' /  teaspoon salt', ' /  cup ( .  sticks     ) unsalted butter, melted &amp; slightly cooled', ' /  cup (  ) packed light   dark brown sugar', ' /  cup (  ) granulated sugar...</td>\n",
       "      <td>[cookie, [, ', and, /, cups, (, ), all-purpose, flour, (, spoon, &amp;, leveled, ), ', ,, ', teaspoon, baking, soda, ', ,, ', and, /, teaspoons, cornstarch, ', ,, ', /, teaspoon, salt, ', ,, ', /, cup, (, ., sticks, ), unsalted, butter, ,, melted, &amp;, slightly, cooled, ', ,, ', /, cup, (, ), packed, ...</td>\n",
       "      <td>[cookie, [, ', and, /, cup, (, ), all-purpose, flour, (, spoon, &amp;, leveled, ), ', ,, ', teaspoon, baking, soda, ', ,, ', and, /, teaspoon, cornstarch, ', ,, ', /, teaspoon, salt, ', ,, ', /, cup, (, ., stick, ), unsalted, butter, ,, melted, &amp;, slightly, cooled, ', ,, ', /, cup, (, ), packed, lig...</td>\n",
       "      <td>[cookie, [, ', and, /, (, ), all-purpose, flour, (, &amp;, ), ', ,, ', baking, soda, ', ,, ', and, /, cornstarch, ', ,, ', /, salt, ', ,, ', /, (, ., ), unsalted, butter, ,, melted, &amp;, slightly, cooled, ', ,, ', /, (, ), packed, light, dark, brown, sugar, ', ,, ', /, (, ), granulated, sugar, ', ,, '...</td>\n",
       "      <td>[cookie, and, all-purpose, flour, baking, soda, and, cornstarch, salt, unsalted, butter, melted, slightly, cooled, packed, light, dark, brown, sugar, granulated, sugar, large, egg, egg, yolk, pure, vanilla, extract, and, semi-sweet, chocolate, chip, chocolate, chunk, pinned, over, million, time,...</td>\n",
       "      <td>cookie all-purpose flour baking soda cornstarch salt unsalted butter melted slightly cooled packed light dark brown sugar granulated sugar large egg egg yolk pure vanilla extract semi-sweet chocolate chip chocolate chunk pinned million time super soft chewy chocolate chip cooky popular cookie re...</td>\n",
       "      <td>cookie allpurpose flour baking soda cornstarch salt unsalted butter melted slightly cooled packed light dark brown sugar granulated sugar large egg egg yolk pure vanilla extract semisweet chocolate chip chocolate chunk pinned million time super soft chewy chocolate chip cooky popular cookie reci...</td>\n",
       "    </tr>\n",
       "    <tr>\n",
       "      <th>1</th>\n",
       "      <td>1</td>\n",
       "      <td>The Best Sugar Cookies</td>\n",
       "      <td>cookie ['  and  /  cups (  ) all-purpose flour(spoon &amp; leveled), plus more   needed for rolling and work surface', ' /  teaspoon baking powder', ' /  teaspoon salt', ' /  cup ( .  sticks     ) unsalted butter, softened toroom temperature', ' /  cup (  ) granulated sugar', '  large egg,   room te...</td>\n",
       "      <td>[cookie, [, ', and, /, cups, (, ), all-purpose, flour, (, spoon, &amp;, leveled, ), ,, plus, more, needed, for, rolling, and, work, surface, ', ,, ', /, teaspoon, baking, powder, ', ,, ', /, teaspoon, salt, ', ,, ', /, cup, (, ., sticks, ), unsalted, butter, ,, softened, toroom, temperature, ', ,, '...</td>\n",
       "      <td>[cookie, [, ', and, /, cup, (, ), all-purpose, flour, (, spoon, &amp;, leveled, ), ,, plus, more, needed, for, rolling, and, work, surface, ', ,, ', /, teaspoon, baking, powder, ', ,, ', /, teaspoon, salt, ', ,, ', /, cup, (, ., stick, ), unsalted, butter, ,, softened, toroom, temperature, ', ,, ', ...</td>\n",
       "      <td>[cookie, [, ', and, /, (, ), all-purpose, flour, (, &amp;, ), ,, more, for, and, ', ,, ', /, baking, powder, ', ,, ', /, salt, ', ,, ', /, (, ., ), unsalted, butter, ,, softened, ', ,, ', /, (, ), granulated, sugar, ', ,, ', large, egg, ,, ', ,, ', pure, vanilla, extract, ', ,, ', /, /, almond, extr...</td>\n",
       "      <td>[cookie, and, all-purpose, flour, more, for, and, baking, powder, salt, unsalted, butter, softened, granulated, sugar, large, egg, pure, vanilla, extract, almond, extract, but, make, the, flavor, outstanding, 'royal, icing, easy, glaze, icing, with, crisp, edge, thick, center, and, for, lot, dec...</td>\n",
       "      <td>cookie all-purpose flour baking powder salt unsalted butter softened granulated sugar large egg pure vanilla extract almond extract make flavor outstanding 'royal icing easy glaze icing crisp edge thick center lot decorating icing know youll love soft sugar cooky much number cooky recipe yield d...</td>\n",
       "      <td>cookie allpurpose flour baking powder salt unsalted butter softened granulated sugar large egg pure vanilla extract almond extract make flavor outstanding royal icing easy glaze icing crisp edge thick center lot decorating icing know youll love soft sugar cooky much number cooky recipe yield dep...</td>\n",
       "    </tr>\n",
       "    <tr>\n",
       "      <th>2</th>\n",
       "      <td>2</td>\n",
       "      <td>Dark Chocolate Chunk Oatmeal Cookies</td>\n",
       "      <td>cookie ['  cup (  ) unsalted butter, softened toroom temperature', '  cup (  ) packed light   dark brown sugar', ' /  cup (  ) granulated sugar', '  large eggs,   room temperature', '  tablespoon pure vanilla extract (yes, tablespoon!)', '  tablespoon molasses', '  and  /  cups (  ) all-purpose ...</td>\n",
       "      <td>[cookie, [, ', cup, (, ), unsalted, butter, ,, softened, toroom, temperature, ', ,, ', cup, (, ), packed, light, dark, brown, sugar, ', ,, ', /, cup, (, ), granulated, sugar, ', ,, ', large, eggs, ,, room, temperature, ', ,, ', tablespoon, pure, vanilla, extract, (, yes, ,, tablespoon, !, ), ', ...</td>\n",
       "      <td>[cookie, [, ', cup, (, ), unsalted, butter, ,, softened, toroom, temperature, ', ,, ', cup, (, ), packed, light, dark, brown, sugar, ', ,, ', /, cup, (, ), granulated, sugar, ', ,, ', large, egg, ,, room, temperature, ', ,, ', tablespoon, pure, vanilla, extract, (, yes, ,, tablespoon, !, ), ', ,...</td>\n",
       "      <td>[cookie, [, ', (, ), unsalted, butter, ,, softened, ', ,, ', (, ), packed, light, dark, brown, sugar, ', ,, ', /, (, ), granulated, sugar, ', ,, ', large, egg, ,, ', ,, ', pure, vanilla, extract, (, yes, ,, !, ), ', ,, ', molasses, ', ,, ', and, /, (, ), all-purpose, flour, (, &amp;, ), ', ,, ', bak...</td>\n",
       "      <td>[cookie, unsalted, butter, softened, packed, light, dark, brown, sugar, granulated, sugar, large, egg, pure, vanilla, extract, yes, molasses, and, all-purpose, flour, baking, soda, ground, cinnamon, salt, old-fashioned, whole, rolled, oat, 'two, -ounce, semi-sweet, chocolate, bar, chopped, and, ...</td>\n",
       "      <td>cookie unsalted butter softened packed light dark brown sugar granulated sugar large egg pure vanilla extract yes molasses all-purpose flour baking soda ground cinnamon salt old-fashioned whole rolled oat 'two -ounce semi-sweet chocolate bar chopped 'optional coarse sea salt topping soft chewy s...</td>\n",
       "      <td>cookie unsalted butter softened packed light dark brown sugar granulated sugar large egg pure vanilla extract yes molasses allpurpose flour baking soda ground cinnamon salt oldfashioned whole rolled oat two ounce semisweet chocolate bar chopped optional coarse sea salt topping soft chewy slightl...</td>\n",
       "    </tr>\n",
       "    <tr>\n",
       "      <th>3</th>\n",
       "      <td>3</td>\n",
       "      <td>Homemade Butter Cookies</td>\n",
       "      <td>cookie ['  cup (  sticks;   ) unsalted butter, softened   room temperature', ' /  cup (  ) granulated sugar', '  and  /  teaspoons pure vanilla extract', '  teaspoon almond extract', '  large egg,   room temperature', '  and  /  cups (  ) all-purpose flour(spoon &amp; leveled)', ' /  teaspoon salt',...</td>\n",
       "      <td>[cookie, [, ', cup, (, sticks, ;, ), unsalted, butter, ,, softened, room, temperature, ', ,, ', /, cup, (, ), granulated, sugar, ', ,, ', and, /, teaspoons, pure, vanilla, extract, ', ,, ', teaspoon, almond, extract, ', ,, ', large, egg, ,, room, temperature, ', ,, ', and, /, cups, (, ), all-pur...</td>\n",
       "      <td>[cookie, [, ', cup, (, stick, ;, ), unsalted, butter, ,, softened, room, temperature, ', ,, ', /, cup, (, ), granulated, sugar, ', ,, ', and, /, teaspoon, pure, vanilla, extract, ', ,, ', teaspoon, almond, extract, ', ,, ', large, egg, ,, room, temperature, ', ,, ', and, /, cup, (, ), all-purpos...</td>\n",
       "      <td>[cookie, [, ', (, ;, ), unsalted, butter, ,, softened, ', ,, ', /, (, ), granulated, sugar, ', ,, ', and, /, pure, vanilla, extract, ', ,, ', almond, extract, ', ,, ', large, egg, ,, ', ,, ', and, /, (, ), all-purpose, flour, (, &amp;, ), ', ,, ', /, salt, ', ,, ', (, -, ), milk, ', ,, 'one, -ounce,...</td>\n",
       "      <td>[cookie, unsalted, butter, softened, granulated, sugar, and, pure, vanilla, extract, almond, extract, large, egg, and, all-purpose, flour, salt, milk, 'one, -ounce, qualitysemi-sweet, chocolate, bar, finely, chopped, 'maraschino, cherry, 'sprinkles, coarse, sugar, using, just, basic, ingredient,...</td>\n",
       "      <td>cookie unsalted butter softened granulated sugar pure vanilla extract almond extract large egg all-purpose flour salt milk 'one -ounce qualitysemi-sweet chocolate bar finely chopped 'maraschino cherry 'sprinkles coarse sugar using basic ingredient large piping tip make soft vanilla almond flavor...</td>\n",
       "      <td>cookie unsalted butter softened granulated sugar pure vanilla extract almond extract large egg allpurpose flour salt milk one ounce qualitysemisweet chocolate bar finely chopped maraschino cherry sprinkles coarse sugar using basic ingredient large piping tip make soft vanilla almond flavored but...</td>\n",
       "    </tr>\n",
       "    <tr>\n",
       "      <th>4</th>\n",
       "      <td>4</td>\n",
       "      <td>Chewy Oatmeal Chocolate Chip Cookies</td>\n",
       "      <td>cookie ['  and  /  cups (  ) all-purpose flour(spoon &amp; leveled)', '  teaspoon ground cinnamon (optional)', '  teaspoon baking soda', '  teaspoon salt', '  cup (  sticks;   ) unsalted butter, softened toroom temperature', '  cup (  ) packed light   dark brown sugar', ' /  cup (  ) granulated suga...</td>\n",
       "      <td>[cookie, [, ', and, /, cups, (, ), all-purpose, flour, (, spoon, &amp;, leveled, ), ', ,, ', teaspoon, ground, cinnamon, (, optional, ), ', ,, ', teaspoon, baking, soda, ', ,, ', teaspoon, salt, ', ,, ', cup, (, sticks, ;, ), unsalted, butter, ,, softened, toroom, temperature, ', ,, ', cup, (, ), pa...</td>\n",
       "      <td>[cookie, [, ', and, /, cup, (, ), all-purpose, flour, (, spoon, &amp;, leveled, ), ', ,, ', teaspoon, ground, cinnamon, (, optional, ), ', ,, ', teaspoon, baking, soda, ', ,, ', teaspoon, salt, ', ,, ', cup, (, stick, ;, ), unsalted, butter, ,, softened, toroom, temperature, ', ,, ', cup, (, ), pack...</td>\n",
       "      <td>[cookie, [, ', and, /, (, ), all-purpose, flour, (, &amp;, ), ', ,, ', ground, cinnamon, (, ), ', ,, ', baking, soda, ', ,, ', salt, ', ,, ', (, ;, ), unsalted, butter, ,, softened, ', ,, ', (, ), packed, light, dark, brown, sugar, ', ,, ', /, (, ), granulated, sugar, ', ,, ', large, egg, ,, ', ,, '...</td>\n",
       "      <td>[cookie, and, all-purpose, flour, ground, cinnamon, baking, soda, salt, unsalted, butter, softened, packed, light, dark, brown, sugar, granulated, sugar, large, egg, unsulphured, dark, molasses, pure, vanilla, extract, old-fashioned, whole, rolled, oat, and, semi-sweet, chocolate, chip, with, oa...</td>\n",
       "      <td>cookie all-purpose flour ground cinnamon baking soda salt unsalted butter softened packed light dark brown sugar granulated sugar large egg unsulphured dark molasses pure vanilla extract old-fashioned whole rolled oat semi-sweet chocolate chip oat butter mostly brown sugar guaranteed soft chewy ...</td>\n",
       "      <td>cookie allpurpose flour ground cinnamon baking soda salt unsalted butter softened packed light dark brown sugar granulated sugar large egg unsulphured dark molasses pure vanilla extract oldfashioned whole rolled oat semisweet chocolate chip oat butter mostly brown sugar guaranteed soft chewy oat...</td>\n",
       "    </tr>\n",
       "    <tr>\n",
       "      <th>...</th>\n",
       "      <td>...</td>\n",
       "      <td>...</td>\n",
       "      <td>...</td>\n",
       "      <td>...</td>\n",
       "      <td>...</td>\n",
       "      <td>...</td>\n",
       "      <td>...</td>\n",
       "      <td>...</td>\n",
       "      <td>...</td>\n",
       "    </tr>\n",
       "    <tr>\n",
       "      <th>1953</th>\n",
       "      <td>2102</td>\n",
       "      <td>Easy Strawberry Lemonade Freezer Pie</td>\n",
       "      <td>pie_crisp_tart ['  container ( .  ounces) frozen sweetened sliced strawberries, thawed ( - /  cups thawed)', '  package ( .  ounces) instant lemon pudding mix', '  carton (  ounces) frozen whipped topping, thawed', '  graham cracker crust (  inches)', 'optional: additional whipped topping and fr...</td>\n",
       "      <td>[pie_crisp_tart, [, ', container, (, ., ounces, ), frozen, sweetened, sliced, strawberries, ,, thawed, (, -, /, cups, thawed, ), ', ,, ', package, (, ., ounces, ), instant, lemon, pudding, mix, ', ,, ', carton, (, ounces, ), frozen, whipped, topping, ,, thawed, ', ,, ', graham, cracker, crust, (...</td>\n",
       "      <td>[pie_crisp_tart, [, ', container, (, ., ounce, ), frozen, sweetened, sliced, strawberry, ,, thawed, (, -, /, cup, thawed, ), ', ,, ', package, (, ., ounce, ), instant, lemon, pudding, mix, ', ,, ', carton, (, ounce, ), frozen, whipped, topping, ,, thawed, ', ,, ', graham, cracker, crust, (, inch...</td>\n",
       "      <td>[pie_crisp_tart, [, ', container, (, ., ), frozen, sweetened, sliced, strawberry, ,, thawed, (, -, /, thawed, ), ', ,, ', package, (, ., ), instant, lemon, pudding, mix, ', ,, ', carton, (, ), frozen, whipped, topping, ,, thawed, ', ,, ', graham, cracker, crust, (, ), ', ,, 'optional, :, whipped...</td>\n",
       "      <td>[pie_crisp_tart, container, frozen, sweetened, sliced, strawberry, thawed, thawed, package, instant, lemon, pudding, mix, carton, frozen, whipped, topping, thawed, graham, cracker, crust, 'optional, whipped, topping, and, fresh, strawberry, three, simple, ingredient, mixed, together, and, spread...</td>\n",
       "      <td>pie_crisp_tart container frozen sweetened sliced strawberry thawed thawed package instant lemon pudding mix carton frozen whipped topping thawed graham cracker crust 'optional whipped topping fresh strawberry three simple ingredient mixed together spread graham crust make magic freezer doe prep ...</td>\n",
       "      <td>piecrisptart container frozen sweetened sliced strawberry thawed thawed package instant lemon pudding mix carton frozen whipped topping thawed graham cracker crust optional whipped topping fresh strawberry three simple ingredient mixed together spread graham crust make magic freezer doe prep pie...</td>\n",
       "    </tr>\n",
       "    <tr>\n",
       "      <th>1954</th>\n",
       "      <td>2103</td>\n",
       "      <td>Toffee Cream Pie</td>\n",
       "      <td>pie_crisp_tart [' - /  cups half-and-half cream', '  package ( .  ounces) instant vanilla pudding mix', '  heath candy bars ( .  ounces each), chopped', '  carton (  ounces) frozen whipped topping, thawed, divided', '  chocolate crumb crust (  inches)'] frozen desserts are ideal for party hosts ...</td>\n",
       "      <td>[pie_crisp_tart, [, ', -, /, cups, half-and-half, cream, ', ,, ', package, (, ., ounces, ), instant, vanilla, pudding, mix, ', ,, ', heath, candy, bars, (, ., ounces, each, ), ,, chopped, ', ,, ', carton, (, ounces, ), frozen, whipped, topping, ,, thawed, ,, divided, ', ,, ', chocolate, crumb, c...</td>\n",
       "      <td>[pie_crisp_tart, [, ', -, /, cup, half-and-half, cream, ', ,, ', package, (, ., ounce, ), instant, vanilla, pudding, mix, ', ,, ', heath, candy, bar, (, ., ounce, each, ), ,, chopped, ', ,, ', carton, (, ounce, ), frozen, whipped, topping, ,, thawed, ,, divided, ', ,, ', chocolate, crumb, crust,...</td>\n",
       "      <td>[pie_crisp_tart, [, ', -, /, half-and-half, cream, ', ,, ', package, (, ., ), instant, vanilla, pudding, mix, ', ,, ', heath, candy, bar, (, ., each, ), ,, chopped, ', ,, ', carton, (, ), frozen, whipped, topping, ,, thawed, ,, divided, ', ,, ', chocolate, crumb, crust, (, ), ', ], frozen, desse...</td>\n",
       "      <td>[pie_crisp_tart, half-and-half, cream, package, instant, vanilla, pudding, mix, heath, candy, bar, each, chopped, carton, frozen, whipped, topping, thawed, divided, chocolate, crumb, crust, frozen, dessert, are, ideal, for, party, host, but, guest, who, dont, have, far, travel, will, also, appre...</td>\n",
       "      <td>pie_crisp_tart half-and-half cream package instant vanilla pudding mix heath candy bar chopped carton frozen whipped topping thawed divided chocolate crumb crust frozen dessert ideal party host guest dont far travel also appreciate makeahead favorite ive prepared chocolate vanilla white chocolat...</td>\n",
       "      <td>piecrisptart halfandhalf cream package instant vanilla pudding mix heath candy bar chopped carton frozen whipped topping thawed divided chocolate crumb crust frozen dessert ideal party host guest dont far travel also appreciate makeahead favorite ive prepared chocolate vanilla white chocolate in...</td>\n",
       "    </tr>\n",
       "    <tr>\n",
       "      <th>1955</th>\n",
       "      <td>2104</td>\n",
       "      <td>Almond Pear Tart</td>\n",
       "      <td>pie_crisp_tart ['pastry for single-crust pie (  inches)', ' /  cup plus   teaspoons sugar, divided', '  tablespoons all-purpose flour', '  cups sliced peeled fresh pears (about   medium)', '  tablespoons sliced almonds']  had never seen  pie without  pan until  daughter brought back this wonderf...</td>\n",
       "      <td>[pie_crisp_tart, [, 'pastry, for, single-crust, pie, (, inches, ), ', ,, ', /, cup, plus, teaspoons, sugar, ,, divided, ', ,, ', tablespoons, all-purpose, flour, ', ,, ', cups, sliced, peeled, fresh, pears, (, about, medium, ), ', ,, ', tablespoons, sliced, almonds, ', ], had, never, seen, pie, ...</td>\n",
       "      <td>[pie_crisp_tart, [, 'pastry, for, single-crust, pie, (, inch, ), ', ,, ', /, cup, plus, teaspoon, sugar, ,, divided, ', ,, ', tablespoon, all-purpose, flour, ', ,, ', cup, sliced, peeled, fresh, pear, (, about, medium, ), ', ,, ', tablespoon, sliced, almond, ', ], had, never, seen, pie, without,...</td>\n",
       "      <td>[pie_crisp_tart, [, 'pastry, for, single-crust, pie, (, ), ', ,, ', /, sugar, ,, divided, ', ,, ', all-purpose, flour, ', ,, ', sliced, peeled, fresh, pear, (, about, medium, ), ', ,, ', sliced, almond, ', ], had, never, seen, pie, without, pan, until, daughter, brought, back, this, wonderful, p...</td>\n",
       "      <td>[pie_crisp_tart, 'pastry, for, single-crust, pie, sugar, divided, all-purpose, flour, sliced, peeled, fresh, pear, about, medium, sliced, almond, had, never, seen, pie, without, pan, until, daughter, brought, back, this, wonderful, pear, almond, tart, recipe, from, rotary, club, exchange, progra...</td>\n",
       "      <td>pie_crisp_tart 'pastry single-crust pie sugar divided all-purpose flour sliced peeled fresh pear medium sliced almond never seen pie without pan daughter brought back wonderful pear almond tart recipe rotary club exchange program belgium still family favorite year sherry lamay capitan new mexico</td>\n",
       "      <td>piecrisptart pastry singlecrust pie sugar divided allpurpose flour sliced peeled fresh pear medium sliced almond never seen pie without pan daughter brought back wonderful pear almond tart recipe rotary club exchange program belgium still family favorite year sherry lamay capitan new mexico</td>\n",
       "    </tr>\n",
       "    <tr>\n",
       "      <th>1956</th>\n",
       "      <td>2105</td>\n",
       "      <td>Arctic Orange Pie</td>\n",
       "      <td>pie_crisp_tart ['  package (  ounces) fat-free cream cheese', '  can (  ounces) frozen orange juice concentrate, thawed', '  carton (  ounces) frozen reduced-fat whipped topping, thawed', '  reduced-fat graham cracker crust (  inches)', '  can (  ounces) mandarin oranges, drained'] this frosty o...</td>\n",
       "      <td>[pie_crisp_tart, [, ', package, (, ounces, ), fat-free, cream, cheese, ', ,, ', can, (, ounces, ), frozen, orange, juice, concentrate, ,, thawed, ', ,, ', carton, (, ounces, ), frozen, reduced-fat, whipped, topping, ,, thawed, ', ,, ', reduced-fat, graham, cracker, crust, (, inches, ), ', ,, ', ...</td>\n",
       "      <td>[pie_crisp_tart, [, ', package, (, ounce, ), fat-free, cream, cheese, ', ,, ', can, (, ounce, ), frozen, orange, juice, concentrate, ,, thawed, ', ,, ', carton, (, ounce, ), frozen, reduced-fat, whipped, topping, ,, thawed, ', ,, ', reduced-fat, graham, cracker, crust, (, inch, ), ', ,, ', can, ...</td>\n",
       "      <td>[pie_crisp_tart, [, ', package, (, ), fat-free, cream, cheese, ', ,, ', can, (, ), frozen, orange, juice, concentrate, ,, thawed, ', ,, ', carton, (, ), frozen, reduced-fat, whipped, topping, ,, thawed, ', ,, ', reduced-fat, graham, cracker, crust, (, ), ', ,, ', can, (, ), mandarin, orange, ,, ...</td>\n",
       "      <td>[pie_crisp_tart, package, fat-free, cream, cheese, can, frozen, orange, juice, concentrate, thawed, carton, frozen, reduced-fat, whipped, topping, thawed, reduced-fat, graham, cracker, crust, can, mandarin, orange, drained, this, frosty, orange, pie, easy, make, have, tried, lemonade, mango, and...</td>\n",
       "      <td>pie_crisp_tart package fat-free cream cheese frozen orange juice concentrate thawed carton frozen reduced-fat whipped topping thawed reduced-fat graham cracker crust mandarin orange drained frosty orange pie easy make tried lemonade mango pineapple juice concentrate instead orange family love on...</td>\n",
       "      <td>piecrisptart package fatfree cream cheese frozen orange juice concentrate thawed carton frozen reducedfat whipped topping thawed reducedfat graham cracker crust mandarin orange drained frosty orange pie easy make tried lemonade mango pineapple juice concentrate instead orange family love one mar...</td>\n",
       "    </tr>\n",
       "    <tr>\n",
       "      <th>1957</th>\n",
       "      <td>2106</td>\n",
       "      <td>Frozen Mud Pie</td>\n",
       "      <td>pie_crisp_tart [' - /  cups oreo cookie crumbs', ' - /  teaspoons sugar, optional', ' /  cup butter, melted', '  cups chocolate chip   coffee ice cream, softened', ' /  cup chocolate syrup', 'additional oreo cookies, optional'] heres one  those looks like you fussed desserts that   easy its beco...</td>\n",
       "      <td>[pie_crisp_tart, [, ', -, /, cups, oreo, cookie, crumbs, ', ,, ', -, /, teaspoons, sugar, ,, optional, ', ,, ', /, cup, butter, ,, melted, ', ,, ', cups, chocolate, chip, coffee, ice, cream, ,, softened, ', ,, ', /, cup, chocolate, syrup, ', ,, 'additional, oreo, cookies, ,, optional, ', ], here...</td>\n",
       "      <td>[pie_crisp_tart, [, ', -, /, cup, oreo, cookie, crumb, ', ,, ', -, /, teaspoon, sugar, ,, optional, ', ,, ', /, cup, butter, ,, melted, ', ,, ', cup, chocolate, chip, coffee, ice, cream, ,, softened, ', ,, ', /, cup, chocolate, syrup, ', ,, 'additional, oreo, cooky, ,, optional, ', ], here, one,...</td>\n",
       "      <td>[pie_crisp_tart, [, ', -, /, oreo, cookie, crumb, ', ,, ', -, /, sugar, ,, ', ,, ', /, butter, ,, melted, ', ,, ', chocolate, chip, coffee, ice, cream, ,, softened, ', ,, ', /, chocolate, syrup, ', ,, 'additional, oreo, cooky, ,, ', ], here, one, those, look, like, you, fussed, dessert, that, ea...</td>\n",
       "      <td>[pie_crisp_tart, oreo, cookie, crumb, sugar, butter, melted, chocolate, chip, coffee, ice, cream, softened, chocolate, syrup, 'additional, oreo, cooky, here, one, those, look, like, you, fussed, dessert, that, easy, it, become, standard, for, love, the, mocha, version, but, pure, chocolate, love...</td>\n",
       "      <td>pie_crisp_tart oreo cookie crumb sugar butter melted chocolate chip coffee ice cream softened chocolate syrup 'additional oreo cooky one look like fussed dessert easy become standard love mocha version pure chocolate lover may prefer using chocolate chip ice cream cookie crust snap make debbie t...</td>\n",
       "      <td>piecrisptart oreo cookie crumb sugar butter melted chocolate chip coffee ice cream softened chocolate syrup additional oreo cooky one look like fussed dessert easy become standard love mocha version pure chocolate lover may prefer using chocolate chip ice cream cookie crust snap make debbie tere...</td>\n",
       "    </tr>\n",
       "  </tbody>\n",
       "</table>\n",
       "<p>1958 rows × 9 columns</p>\n",
       "</div>"
      ],
      "text/plain": [
       "      index                           recipe_name  \\\n",
       "0         0          Chewy Chocolate Chip Cookies   \n",
       "1         1                The Best Sugar Cookies   \n",
       "2         2  Dark Chocolate Chunk Oatmeal Cookies   \n",
       "3         3               Homemade Butter Cookies   \n",
       "4         4  Chewy Oatmeal Chocolate Chip Cookies   \n",
       "...     ...                                   ...   \n",
       "1953   2102  Easy Strawberry Lemonade Freezer Pie   \n",
       "1954   2103                      Toffee Cream Pie   \n",
       "1955   2104                      Almond Pear Tart   \n",
       "1956   2105                     Arctic Orange Pie   \n",
       "1957   2106                        Frozen Mud Pie   \n",
       "\n",
       "                                                                                                                                                                                                                                                                                                             tags  \\\n",
       "0     cookie ['  and  /  cups (  ) all-purpose flour(spoon & leveled)', '  teaspoon baking soda', '  and  /  teaspoons cornstarch', ' /  teaspoon salt', ' /  cup ( .  sticks     ) unsalted butter, melted & slightly cooled', ' /  cup (  ) packed light   dark brown sugar', ' /  cup (  ) granulated sugar...   \n",
       "1     cookie ['  and  /  cups (  ) all-purpose flour(spoon & leveled), plus more   needed for rolling and work surface', ' /  teaspoon baking powder', ' /  teaspoon salt', ' /  cup ( .  sticks     ) unsalted butter, softened toroom temperature', ' /  cup (  ) granulated sugar', '  large egg,   room te...   \n",
       "2     cookie ['  cup (  ) unsalted butter, softened toroom temperature', '  cup (  ) packed light   dark brown sugar', ' /  cup (  ) granulated sugar', '  large eggs,   room temperature', '  tablespoon pure vanilla extract (yes, tablespoon!)', '  tablespoon molasses', '  and  /  cups (  ) all-purpose ...   \n",
       "3     cookie ['  cup (  sticks;   ) unsalted butter, softened   room temperature', ' /  cup (  ) granulated sugar', '  and  /  teaspoons pure vanilla extract', '  teaspoon almond extract', '  large egg,   room temperature', '  and  /  cups (  ) all-purpose flour(spoon & leveled)', ' /  teaspoon salt',...   \n",
       "4     cookie ['  and  /  cups (  ) all-purpose flour(spoon & leveled)', '  teaspoon ground cinnamon (optional)', '  teaspoon baking soda', '  teaspoon salt', '  cup (  sticks;   ) unsalted butter, softened toroom temperature', '  cup (  ) packed light   dark brown sugar', ' /  cup (  ) granulated suga...   \n",
       "...                                                                                                                                                                                                                                                                                                           ...   \n",
       "1953  pie_crisp_tart ['  container ( .  ounces) frozen sweetened sliced strawberries, thawed ( - /  cups thawed)', '  package ( .  ounces) instant lemon pudding mix', '  carton (  ounces) frozen whipped topping, thawed', '  graham cracker crust (  inches)', 'optional: additional whipped topping and fr...   \n",
       "1954  pie_crisp_tart [' - /  cups half-and-half cream', '  package ( .  ounces) instant vanilla pudding mix', '  heath candy bars ( .  ounces each), chopped', '  carton (  ounces) frozen whipped topping, thawed, divided', '  chocolate crumb crust (  inches)'] frozen desserts are ideal for party hosts ...   \n",
       "1955  pie_crisp_tart ['pastry for single-crust pie (  inches)', ' /  cup plus   teaspoons sugar, divided', '  tablespoons all-purpose flour', '  cups sliced peeled fresh pears (about   medium)', '  tablespoons sliced almonds']  had never seen  pie without  pan until  daughter brought back this wonderf...   \n",
       "1956  pie_crisp_tart ['  package (  ounces) fat-free cream cheese', '  can (  ounces) frozen orange juice concentrate, thawed', '  carton (  ounces) frozen reduced-fat whipped topping, thawed', '  reduced-fat graham cracker crust (  inches)', '  can (  ounces) mandarin oranges, drained'] this frosty o...   \n",
       "1957  pie_crisp_tart [' - /  cups oreo cookie crumbs', ' - /  teaspoons sugar, optional', ' /  cup butter, melted', '  cups chocolate chip   coffee ice cream, softened', ' /  cup chocolate syrup', 'additional oreo cookies, optional'] heres one  those looks like you fussed desserts that   easy its beco...   \n",
       "\n",
       "                                                                                                                                                                                                                                                                                                            tags1  \\\n",
       "0     [cookie, [, ', and, /, cups, (, ), all-purpose, flour, (, spoon, &, leveled, ), ', ,, ', teaspoon, baking, soda, ', ,, ', and, /, teaspoons, cornstarch, ', ,, ', /, teaspoon, salt, ', ,, ', /, cup, (, ., sticks, ), unsalted, butter, ,, melted, &, slightly, cooled, ', ,, ', /, cup, (, ), packed, ...   \n",
       "1     [cookie, [, ', and, /, cups, (, ), all-purpose, flour, (, spoon, &, leveled, ), ,, plus, more, needed, for, rolling, and, work, surface, ', ,, ', /, teaspoon, baking, powder, ', ,, ', /, teaspoon, salt, ', ,, ', /, cup, (, ., sticks, ), unsalted, butter, ,, softened, toroom, temperature, ', ,, '...   \n",
       "2     [cookie, [, ', cup, (, ), unsalted, butter, ,, softened, toroom, temperature, ', ,, ', cup, (, ), packed, light, dark, brown, sugar, ', ,, ', /, cup, (, ), granulated, sugar, ', ,, ', large, eggs, ,, room, temperature, ', ,, ', tablespoon, pure, vanilla, extract, (, yes, ,, tablespoon, !, ), ', ...   \n",
       "3     [cookie, [, ', cup, (, sticks, ;, ), unsalted, butter, ,, softened, room, temperature, ', ,, ', /, cup, (, ), granulated, sugar, ', ,, ', and, /, teaspoons, pure, vanilla, extract, ', ,, ', teaspoon, almond, extract, ', ,, ', large, egg, ,, room, temperature, ', ,, ', and, /, cups, (, ), all-pur...   \n",
       "4     [cookie, [, ', and, /, cups, (, ), all-purpose, flour, (, spoon, &, leveled, ), ', ,, ', teaspoon, ground, cinnamon, (, optional, ), ', ,, ', teaspoon, baking, soda, ', ,, ', teaspoon, salt, ', ,, ', cup, (, sticks, ;, ), unsalted, butter, ,, softened, toroom, temperature, ', ,, ', cup, (, ), pa...   \n",
       "...                                                                                                                                                                                                                                                                                                           ...   \n",
       "1953  [pie_crisp_tart, [, ', container, (, ., ounces, ), frozen, sweetened, sliced, strawberries, ,, thawed, (, -, /, cups, thawed, ), ', ,, ', package, (, ., ounces, ), instant, lemon, pudding, mix, ', ,, ', carton, (, ounces, ), frozen, whipped, topping, ,, thawed, ', ,, ', graham, cracker, crust, (...   \n",
       "1954  [pie_crisp_tart, [, ', -, /, cups, half-and-half, cream, ', ,, ', package, (, ., ounces, ), instant, vanilla, pudding, mix, ', ,, ', heath, candy, bars, (, ., ounces, each, ), ,, chopped, ', ,, ', carton, (, ounces, ), frozen, whipped, topping, ,, thawed, ,, divided, ', ,, ', chocolate, crumb, c...   \n",
       "1955  [pie_crisp_tart, [, 'pastry, for, single-crust, pie, (, inches, ), ', ,, ', /, cup, plus, teaspoons, sugar, ,, divided, ', ,, ', tablespoons, all-purpose, flour, ', ,, ', cups, sliced, peeled, fresh, pears, (, about, medium, ), ', ,, ', tablespoons, sliced, almonds, ', ], had, never, seen, pie, ...   \n",
       "1956  [pie_crisp_tart, [, ', package, (, ounces, ), fat-free, cream, cheese, ', ,, ', can, (, ounces, ), frozen, orange, juice, concentrate, ,, thawed, ', ,, ', carton, (, ounces, ), frozen, reduced-fat, whipped, topping, ,, thawed, ', ,, ', reduced-fat, graham, cracker, crust, (, inches, ), ', ,, ', ...   \n",
       "1957  [pie_crisp_tart, [, ', -, /, cups, oreo, cookie, crumbs, ', ,, ', -, /, teaspoons, sugar, ,, optional, ', ,, ', /, cup, butter, ,, melted, ', ,, ', cups, chocolate, chip, coffee, ice, cream, ,, softened, ', ,, ', /, cup, chocolate, syrup, ', ,, 'additional, oreo, cookies, ,, optional, ', ], here...   \n",
       "\n",
       "                                                                                                                                                                                                                                                                                                            tags2  \\\n",
       "0     [cookie, [, ', and, /, cup, (, ), all-purpose, flour, (, spoon, &, leveled, ), ', ,, ', teaspoon, baking, soda, ', ,, ', and, /, teaspoon, cornstarch, ', ,, ', /, teaspoon, salt, ', ,, ', /, cup, (, ., stick, ), unsalted, butter, ,, melted, &, slightly, cooled, ', ,, ', /, cup, (, ), packed, lig...   \n",
       "1     [cookie, [, ', and, /, cup, (, ), all-purpose, flour, (, spoon, &, leveled, ), ,, plus, more, needed, for, rolling, and, work, surface, ', ,, ', /, teaspoon, baking, powder, ', ,, ', /, teaspoon, salt, ', ,, ', /, cup, (, ., stick, ), unsalted, butter, ,, softened, toroom, temperature, ', ,, ', ...   \n",
       "2     [cookie, [, ', cup, (, ), unsalted, butter, ,, softened, toroom, temperature, ', ,, ', cup, (, ), packed, light, dark, brown, sugar, ', ,, ', /, cup, (, ), granulated, sugar, ', ,, ', large, egg, ,, room, temperature, ', ,, ', tablespoon, pure, vanilla, extract, (, yes, ,, tablespoon, !, ), ', ,...   \n",
       "3     [cookie, [, ', cup, (, stick, ;, ), unsalted, butter, ,, softened, room, temperature, ', ,, ', /, cup, (, ), granulated, sugar, ', ,, ', and, /, teaspoon, pure, vanilla, extract, ', ,, ', teaspoon, almond, extract, ', ,, ', large, egg, ,, room, temperature, ', ,, ', and, /, cup, (, ), all-purpos...   \n",
       "4     [cookie, [, ', and, /, cup, (, ), all-purpose, flour, (, spoon, &, leveled, ), ', ,, ', teaspoon, ground, cinnamon, (, optional, ), ', ,, ', teaspoon, baking, soda, ', ,, ', teaspoon, salt, ', ,, ', cup, (, stick, ;, ), unsalted, butter, ,, softened, toroom, temperature, ', ,, ', cup, (, ), pack...   \n",
       "...                                                                                                                                                                                                                                                                                                           ...   \n",
       "1953  [pie_crisp_tart, [, ', container, (, ., ounce, ), frozen, sweetened, sliced, strawberry, ,, thawed, (, -, /, cup, thawed, ), ', ,, ', package, (, ., ounce, ), instant, lemon, pudding, mix, ', ,, ', carton, (, ounce, ), frozen, whipped, topping, ,, thawed, ', ,, ', graham, cracker, crust, (, inch...   \n",
       "1954  [pie_crisp_tart, [, ', -, /, cup, half-and-half, cream, ', ,, ', package, (, ., ounce, ), instant, vanilla, pudding, mix, ', ,, ', heath, candy, bar, (, ., ounce, each, ), ,, chopped, ', ,, ', carton, (, ounce, ), frozen, whipped, topping, ,, thawed, ,, divided, ', ,, ', chocolate, crumb, crust,...   \n",
       "1955  [pie_crisp_tart, [, 'pastry, for, single-crust, pie, (, inch, ), ', ,, ', /, cup, plus, teaspoon, sugar, ,, divided, ', ,, ', tablespoon, all-purpose, flour, ', ,, ', cup, sliced, peeled, fresh, pear, (, about, medium, ), ', ,, ', tablespoon, sliced, almond, ', ], had, never, seen, pie, without,...   \n",
       "1956  [pie_crisp_tart, [, ', package, (, ounce, ), fat-free, cream, cheese, ', ,, ', can, (, ounce, ), frozen, orange, juice, concentrate, ,, thawed, ', ,, ', carton, (, ounce, ), frozen, reduced-fat, whipped, topping, ,, thawed, ', ,, ', reduced-fat, graham, cracker, crust, (, inch, ), ', ,, ', can, ...   \n",
       "1957  [pie_crisp_tart, [, ', -, /, cup, oreo, cookie, crumb, ', ,, ', -, /, teaspoon, sugar, ,, optional, ', ,, ', /, cup, butter, ,, melted, ', ,, ', cup, chocolate, chip, coffee, ice, cream, ,, softened, ', ,, ', /, cup, chocolate, syrup, ', ,, 'additional, oreo, cooky, ,, optional, ', ], here, one,...   \n",
       "\n",
       "                                                                                                                                                                                                                                                                                                            tags3  \\\n",
       "0     [cookie, [, ', and, /, (, ), all-purpose, flour, (, &, ), ', ,, ', baking, soda, ', ,, ', and, /, cornstarch, ', ,, ', /, salt, ', ,, ', /, (, ., ), unsalted, butter, ,, melted, &, slightly, cooled, ', ,, ', /, (, ), packed, light, dark, brown, sugar, ', ,, ', /, (, ), granulated, sugar, ', ,, '...   \n",
       "1     [cookie, [, ', and, /, (, ), all-purpose, flour, (, &, ), ,, more, for, and, ', ,, ', /, baking, powder, ', ,, ', /, salt, ', ,, ', /, (, ., ), unsalted, butter, ,, softened, ', ,, ', /, (, ), granulated, sugar, ', ,, ', large, egg, ,, ', ,, ', pure, vanilla, extract, ', ,, ', /, /, almond, extr...   \n",
       "2     [cookie, [, ', (, ), unsalted, butter, ,, softened, ', ,, ', (, ), packed, light, dark, brown, sugar, ', ,, ', /, (, ), granulated, sugar, ', ,, ', large, egg, ,, ', ,, ', pure, vanilla, extract, (, yes, ,, !, ), ', ,, ', molasses, ', ,, ', and, /, (, ), all-purpose, flour, (, &, ), ', ,, ', bak...   \n",
       "3     [cookie, [, ', (, ;, ), unsalted, butter, ,, softened, ', ,, ', /, (, ), granulated, sugar, ', ,, ', and, /, pure, vanilla, extract, ', ,, ', almond, extract, ', ,, ', large, egg, ,, ', ,, ', and, /, (, ), all-purpose, flour, (, &, ), ', ,, ', /, salt, ', ,, ', (, -, ), milk, ', ,, 'one, -ounce,...   \n",
       "4     [cookie, [, ', and, /, (, ), all-purpose, flour, (, &, ), ', ,, ', ground, cinnamon, (, ), ', ,, ', baking, soda, ', ,, ', salt, ', ,, ', (, ;, ), unsalted, butter, ,, softened, ', ,, ', (, ), packed, light, dark, brown, sugar, ', ,, ', /, (, ), granulated, sugar, ', ,, ', large, egg, ,, ', ,, '...   \n",
       "...                                                                                                                                                                                                                                                                                                           ...   \n",
       "1953  [pie_crisp_tart, [, ', container, (, ., ), frozen, sweetened, sliced, strawberry, ,, thawed, (, -, /, thawed, ), ', ,, ', package, (, ., ), instant, lemon, pudding, mix, ', ,, ', carton, (, ), frozen, whipped, topping, ,, thawed, ', ,, ', graham, cracker, crust, (, ), ', ,, 'optional, :, whipped...   \n",
       "1954  [pie_crisp_tart, [, ', -, /, half-and-half, cream, ', ,, ', package, (, ., ), instant, vanilla, pudding, mix, ', ,, ', heath, candy, bar, (, ., each, ), ,, chopped, ', ,, ', carton, (, ), frozen, whipped, topping, ,, thawed, ,, divided, ', ,, ', chocolate, crumb, crust, (, ), ', ], frozen, desse...   \n",
       "1955  [pie_crisp_tart, [, 'pastry, for, single-crust, pie, (, ), ', ,, ', /, sugar, ,, divided, ', ,, ', all-purpose, flour, ', ,, ', sliced, peeled, fresh, pear, (, about, medium, ), ', ,, ', sliced, almond, ', ], had, never, seen, pie, without, pan, until, daughter, brought, back, this, wonderful, p...   \n",
       "1956  [pie_crisp_tart, [, ', package, (, ), fat-free, cream, cheese, ', ,, ', can, (, ), frozen, orange, juice, concentrate, ,, thawed, ', ,, ', carton, (, ), frozen, reduced-fat, whipped, topping, ,, thawed, ', ,, ', reduced-fat, graham, cracker, crust, (, ), ', ,, ', can, (, ), mandarin, orange, ,, ...   \n",
       "1957  [pie_crisp_tart, [, ', -, /, oreo, cookie, crumb, ', ,, ', -, /, sugar, ,, ', ,, ', /, butter, ,, melted, ', ,, ', chocolate, chip, coffee, ice, cream, ,, softened, ', ,, ', /, chocolate, syrup, ', ,, 'additional, oreo, cooky, ,, ', ], here, one, those, look, like, you, fussed, dessert, that, ea...   \n",
       "\n",
       "                                                                                                                                                                                                                                                                                                            tags4  \\\n",
       "0     [cookie, and, all-purpose, flour, baking, soda, and, cornstarch, salt, unsalted, butter, melted, slightly, cooled, packed, light, dark, brown, sugar, granulated, sugar, large, egg, egg, yolk, pure, vanilla, extract, and, semi-sweet, chocolate, chip, chocolate, chunk, pinned, over, million, time,...   \n",
       "1     [cookie, and, all-purpose, flour, more, for, and, baking, powder, salt, unsalted, butter, softened, granulated, sugar, large, egg, pure, vanilla, extract, almond, extract, but, make, the, flavor, outstanding, 'royal, icing, easy, glaze, icing, with, crisp, edge, thick, center, and, for, lot, dec...   \n",
       "2     [cookie, unsalted, butter, softened, packed, light, dark, brown, sugar, granulated, sugar, large, egg, pure, vanilla, extract, yes, molasses, and, all-purpose, flour, baking, soda, ground, cinnamon, salt, old-fashioned, whole, rolled, oat, 'two, -ounce, semi-sweet, chocolate, bar, chopped, and, ...   \n",
       "3     [cookie, unsalted, butter, softened, granulated, sugar, and, pure, vanilla, extract, almond, extract, large, egg, and, all-purpose, flour, salt, milk, 'one, -ounce, qualitysemi-sweet, chocolate, bar, finely, chopped, 'maraschino, cherry, 'sprinkles, coarse, sugar, using, just, basic, ingredient,...   \n",
       "4     [cookie, and, all-purpose, flour, ground, cinnamon, baking, soda, salt, unsalted, butter, softened, packed, light, dark, brown, sugar, granulated, sugar, large, egg, unsulphured, dark, molasses, pure, vanilla, extract, old-fashioned, whole, rolled, oat, and, semi-sweet, chocolate, chip, with, oa...   \n",
       "...                                                                                                                                                                                                                                                                                                           ...   \n",
       "1953  [pie_crisp_tart, container, frozen, sweetened, sliced, strawberry, thawed, thawed, package, instant, lemon, pudding, mix, carton, frozen, whipped, topping, thawed, graham, cracker, crust, 'optional, whipped, topping, and, fresh, strawberry, three, simple, ingredient, mixed, together, and, spread...   \n",
       "1954  [pie_crisp_tart, half-and-half, cream, package, instant, vanilla, pudding, mix, heath, candy, bar, each, chopped, carton, frozen, whipped, topping, thawed, divided, chocolate, crumb, crust, frozen, dessert, are, ideal, for, party, host, but, guest, who, dont, have, far, travel, will, also, appre...   \n",
       "1955  [pie_crisp_tart, 'pastry, for, single-crust, pie, sugar, divided, all-purpose, flour, sliced, peeled, fresh, pear, about, medium, sliced, almond, had, never, seen, pie, without, pan, until, daughter, brought, back, this, wonderful, pear, almond, tart, recipe, from, rotary, club, exchange, progra...   \n",
       "1956  [pie_crisp_tart, package, fat-free, cream, cheese, can, frozen, orange, juice, concentrate, thawed, carton, frozen, reduced-fat, whipped, topping, thawed, reduced-fat, graham, cracker, crust, can, mandarin, orange, drained, this, frosty, orange, pie, easy, make, have, tried, lemonade, mango, and...   \n",
       "1957  [pie_crisp_tart, oreo, cookie, crumb, sugar, butter, melted, chocolate, chip, coffee, ice, cream, softened, chocolate, syrup, 'additional, oreo, cooky, here, one, those, look, like, you, fussed, dessert, that, easy, it, become, standard, for, love, the, mocha, version, but, pure, chocolate, love...   \n",
       "\n",
       "                                                                                                                                                                                                                                                                                                            tags5  \\\n",
       "0     cookie all-purpose flour baking soda cornstarch salt unsalted butter melted slightly cooled packed light dark brown sugar granulated sugar large egg egg yolk pure vanilla extract semi-sweet chocolate chip chocolate chunk pinned million time super soft chewy chocolate chip cooky popular cookie re...   \n",
       "1     cookie all-purpose flour baking powder salt unsalted butter softened granulated sugar large egg pure vanilla extract almond extract make flavor outstanding 'royal icing easy glaze icing crisp edge thick center lot decorating icing know youll love soft sugar cooky much number cooky recipe yield d...   \n",
       "2     cookie unsalted butter softened packed light dark brown sugar granulated sugar large egg pure vanilla extract yes molasses all-purpose flour baking soda ground cinnamon salt old-fashioned whole rolled oat 'two -ounce semi-sweet chocolate bar chopped 'optional coarse sea salt topping soft chewy s...   \n",
       "3     cookie unsalted butter softened granulated sugar pure vanilla extract almond extract large egg all-purpose flour salt milk 'one -ounce qualitysemi-sweet chocolate bar finely chopped 'maraschino cherry 'sprinkles coarse sugar using basic ingredient large piping tip make soft vanilla almond flavor...   \n",
       "4     cookie all-purpose flour ground cinnamon baking soda salt unsalted butter softened packed light dark brown sugar granulated sugar large egg unsulphured dark molasses pure vanilla extract old-fashioned whole rolled oat semi-sweet chocolate chip oat butter mostly brown sugar guaranteed soft chewy ...   \n",
       "...                                                                                                                                                                                                                                                                                                           ...   \n",
       "1953  pie_crisp_tart container frozen sweetened sliced strawberry thawed thawed package instant lemon pudding mix carton frozen whipped topping thawed graham cracker crust 'optional whipped topping fresh strawberry three simple ingredient mixed together spread graham crust make magic freezer doe prep ...   \n",
       "1954  pie_crisp_tart half-and-half cream package instant vanilla pudding mix heath candy bar chopped carton frozen whipped topping thawed divided chocolate crumb crust frozen dessert ideal party host guest dont far travel also appreciate makeahead favorite ive prepared chocolate vanilla white chocolat...   \n",
       "1955     pie_crisp_tart 'pastry single-crust pie sugar divided all-purpose flour sliced peeled fresh pear medium sliced almond never seen pie without pan daughter brought back wonderful pear almond tart recipe rotary club exchange program belgium still family favorite year sherry lamay capitan new mexico   \n",
       "1956  pie_crisp_tart package fat-free cream cheese frozen orange juice concentrate thawed carton frozen reduced-fat whipped topping thawed reduced-fat graham cracker crust mandarin orange drained frosty orange pie easy make tried lemonade mango pineapple juice concentrate instead orange family love on...   \n",
       "1957  pie_crisp_tart oreo cookie crumb sugar butter melted chocolate chip coffee ice cream softened chocolate syrup 'additional oreo cooky one look like fussed dessert easy become standard love mocha version pure chocolate lover may prefer using chocolate chip ice cream cookie crust snap make debbie t...   \n",
       "\n",
       "                                                                                                                                                                                                                                                                                                            tags6  \n",
       "0     cookie allpurpose flour baking soda cornstarch salt unsalted butter melted slightly cooled packed light dark brown sugar granulated sugar large egg egg yolk pure vanilla extract semisweet chocolate chip chocolate chunk pinned million time super soft chewy chocolate chip cooky popular cookie reci...  \n",
       "1     cookie allpurpose flour baking powder salt unsalted butter softened granulated sugar large egg pure vanilla extract almond extract make flavor outstanding royal icing easy glaze icing crisp edge thick center lot decorating icing know youll love soft sugar cooky much number cooky recipe yield dep...  \n",
       "2     cookie unsalted butter softened packed light dark brown sugar granulated sugar large egg pure vanilla extract yes molasses allpurpose flour baking soda ground cinnamon salt oldfashioned whole rolled oat two ounce semisweet chocolate bar chopped optional coarse sea salt topping soft chewy slightl...  \n",
       "3     cookie unsalted butter softened granulated sugar pure vanilla extract almond extract large egg allpurpose flour salt milk one ounce qualitysemisweet chocolate bar finely chopped maraschino cherry sprinkles coarse sugar using basic ingredient large piping tip make soft vanilla almond flavored but...  \n",
       "4     cookie allpurpose flour ground cinnamon baking soda salt unsalted butter softened packed light dark brown sugar granulated sugar large egg unsulphured dark molasses pure vanilla extract oldfashioned whole rolled oat semisweet chocolate chip oat butter mostly brown sugar guaranteed soft chewy oat...  \n",
       "...                                                                                                                                                                                                                                                                                                           ...  \n",
       "1953  piecrisptart container frozen sweetened sliced strawberry thawed thawed package instant lemon pudding mix carton frozen whipped topping thawed graham cracker crust optional whipped topping fresh strawberry three simple ingredient mixed together spread graham crust make magic freezer doe prep pie...  \n",
       "1954  piecrisptart halfandhalf cream package instant vanilla pudding mix heath candy bar chopped carton frozen whipped topping thawed divided chocolate crumb crust frozen dessert ideal party host guest dont far travel also appreciate makeahead favorite ive prepared chocolate vanilla white chocolate in...  \n",
       "1955          piecrisptart pastry singlecrust pie sugar divided allpurpose flour sliced peeled fresh pear medium sliced almond never seen pie without pan daughter brought back wonderful pear almond tart recipe rotary club exchange program belgium still family favorite year sherry lamay capitan new mexico  \n",
       "1956  piecrisptart package fatfree cream cheese frozen orange juice concentrate thawed carton frozen reducedfat whipped topping thawed reducedfat graham cracker crust mandarin orange drained frosty orange pie easy make tried lemonade mango pineapple juice concentrate instead orange family love one mar...  \n",
       "1957  piecrisptart oreo cookie crumb sugar butter melted chocolate chip coffee ice cream softened chocolate syrup additional oreo cooky one look like fussed dessert easy become standard love mocha version pure chocolate lover may prefer using chocolate chip ice cream cookie crust snap make debbie tere...  \n",
       "\n",
       "[1958 rows x 9 columns]"
      ]
     },
     "execution_count": 370,
     "metadata": {},
     "output_type": "execute_result"
    }
   ],
   "source": [
    "training_df"
   ]
  },
  {
   "cell_type": "code",
   "execution_count": 371,
   "metadata": {},
   "outputs": [],
   "source": [
    "training_df.to_csv(\"cleaned_data.csv\")"
   ]
  },
  {
   "cell_type": "code",
   "execution_count": 4,
   "metadata": {},
   "outputs": [],
   "source": [
    "data_frame = pd.DataFrame(columns = ['recipe_name','tags'])"
   ]
  },
  {
   "cell_type": "code",
   "execution_count": 1,
   "metadata": {},
   "outputs": [],
   "source": [
    "import pandas as pd"
   ]
  },
  {
   "cell_type": "code",
   "execution_count": 7,
   "metadata": {},
   "outputs": [],
   "source": [
    "training_df = pd.read_csv(\"cleaned_data.csv\",encoding= 'unicode_escape')"
   ]
  },
  {
   "cell_type": "code",
   "execution_count": 8,
   "metadata": {},
   "outputs": [],
   "source": [
    "data_frame['recipe_name'] = training_df['recipe_name']\n",
    "data_frame['tags'] = training_df['tags6']"
   ]
  },
  {
   "cell_type": "code",
   "execution_count": 9,
   "metadata": {},
   "outputs": [
    {
     "data": {
      "text/html": [
       "<div>\n",
       "<style scoped>\n",
       "    .dataframe tbody tr th:only-of-type {\n",
       "        vertical-align: middle;\n",
       "    }\n",
       "\n",
       "    .dataframe tbody tr th {\n",
       "        vertical-align: top;\n",
       "    }\n",
       "\n",
       "    .dataframe thead th {\n",
       "        text-align: right;\n",
       "    }\n",
       "</style>\n",
       "<table border=\"1\" class=\"dataframe\">\n",
       "  <thead>\n",
       "    <tr style=\"text-align: right;\">\n",
       "      <th></th>\n",
       "      <th>recipe_name</th>\n",
       "      <th>tags</th>\n",
       "    </tr>\n",
       "  </thead>\n",
       "  <tbody>\n",
       "    <tr>\n",
       "      <th>0</th>\n",
       "      <td>Chewy Chocolate Chip Cookies</td>\n",
       "      <td>cookie allpurpose flour baking soda cornstarch...</td>\n",
       "    </tr>\n",
       "    <tr>\n",
       "      <th>1</th>\n",
       "      <td>The Best Sugar Cookies</td>\n",
       "      <td>cookie allpurpose flour baking powder salt uns...</td>\n",
       "    </tr>\n",
       "    <tr>\n",
       "      <th>2</th>\n",
       "      <td>Dark Chocolate Chunk Oatmeal Cookies</td>\n",
       "      <td>cookie unsalted butter softened packed light d...</td>\n",
       "    </tr>\n",
       "    <tr>\n",
       "      <th>3</th>\n",
       "      <td>Homemade Butter Cookies</td>\n",
       "      <td>cookie unsalted butter softened granulated sug...</td>\n",
       "    </tr>\n",
       "    <tr>\n",
       "      <th>4</th>\n",
       "      <td>Chewy Oatmeal Chocolate Chip Cookies</td>\n",
       "      <td>cookie allpurpose flour ground cinnamon baking...</td>\n",
       "    </tr>\n",
       "    <tr>\n",
       "      <th>...</th>\n",
       "      <td>...</td>\n",
       "      <td>...</td>\n",
       "    </tr>\n",
       "    <tr>\n",
       "      <th>1946</th>\n",
       "      <td>Creamy Hazelnut Pie</td>\n",
       "      <td>piecrisptart package cream cheese softened  co...</td>\n",
       "    </tr>\n",
       "    <tr>\n",
       "      <th>1947</th>\n",
       "      <td>Maple Syrup Pie</td>\n",
       "      <td>piecrisptart cornstarch water real maple syrup...</td>\n",
       "    </tr>\n",
       "    <tr>\n",
       "      <th>1948</th>\n",
       "      <td>Blueberry Pie with Graham Cracker Crust</td>\n",
       "      <td>piecrisptart sugar cornstarch salt water fresh...</td>\n",
       "    </tr>\n",
       "    <tr>\n",
       "      <th>1949</th>\n",
       "      <td>Fresh Blackberry Pie</td>\n",
       "      <td>piecrisptart sugar quickcooking tapioca salt f...</td>\n",
       "    </tr>\n",
       "    <tr>\n",
       "      <th>1950</th>\n",
       "      <td>Layered Lemon Pie</td>\n",
       "      <td>piecrisptart package cream cheese softened sug...</td>\n",
       "    </tr>\n",
       "  </tbody>\n",
       "</table>\n",
       "<p>1951 rows × 2 columns</p>\n",
       "</div>"
      ],
      "text/plain": [
       "                                  recipe_name  \\\n",
       "0                Chewy Chocolate Chip Cookies   \n",
       "1                      The Best Sugar Cookies   \n",
       "2        Dark Chocolate Chunk Oatmeal Cookies   \n",
       "3                     Homemade Butter Cookies   \n",
       "4        Chewy Oatmeal Chocolate Chip Cookies   \n",
       "...                                       ...   \n",
       "1946                      Creamy Hazelnut Pie   \n",
       "1947                          Maple Syrup Pie   \n",
       "1948  Blueberry Pie with Graham Cracker Crust   \n",
       "1949                     Fresh Blackberry Pie   \n",
       "1950                        Layered Lemon Pie   \n",
       "\n",
       "                                                   tags  \n",
       "0     cookie allpurpose flour baking soda cornstarch...  \n",
       "1     cookie allpurpose flour baking powder salt uns...  \n",
       "2     cookie unsalted butter softened packed light d...  \n",
       "3     cookie unsalted butter softened granulated sug...  \n",
       "4     cookie allpurpose flour ground cinnamon baking...  \n",
       "...                                                 ...  \n",
       "1946  piecrisptart package cream cheese softened  co...  \n",
       "1947  piecrisptart cornstarch water real maple syrup...  \n",
       "1948  piecrisptart sugar cornstarch salt water fresh...  \n",
       "1949  piecrisptart sugar quickcooking tapioca salt f...  \n",
       "1950  piecrisptart package cream cheese softened sug...  \n",
       "\n",
       "[1951 rows x 2 columns]"
      ]
     },
     "execution_count": 9,
     "metadata": {},
     "output_type": "execute_result"
    }
   ],
   "source": [
    "data_frame"
   ]
  },
  {
   "cell_type": "markdown",
   "metadata": {},
   "source": [
    "### Recommender using CountVectorizer - cosine similarity"
   ]
  },
  {
   "cell_type": "code",
   "execution_count": 12,
   "metadata": {},
   "outputs": [],
   "source": [
    "from sklearn.feature_extraction.text import CountVectorizer\n",
    "from sklearn.metrics.pairwise import cosine_similarity\n",
    "cv = CountVectorizer()\n",
    "vector = cv.fit_transform(data_frame['tags']).toarray()\n",
    "similarity1 = cosine_similarity(vector)"
   ]
  },
  {
   "cell_type": "code",
   "execution_count": 375,
   "metadata": {},
   "outputs": [],
   "source": [
    "def recommend(dessert):\n",
    "    names = []\n",
    "    index = data_frame[data_frame['recipe_name'] == dessert].index[0]\n",
    "    distances = sorted(list(enumerate(similarity1[index])),reverse=True,key = lambda x: x[1])\n",
    "    for i in distances[1:10]:\n",
    "        names.append(data_frame.iloc[i[0]].recipe_name)\n",
    "    return names\n"
   ]
  },
  {
   "cell_type": "code",
   "execution_count": 376,
   "metadata": {},
   "outputs": [
    {
     "data": {
      "text/plain": [
       "['Glazed Orange Bundt Cake',\n",
       " 'Cranberry Orange Spice Cake',\n",
       " 'Cranberry Orange Bundt Cake',\n",
       " 'Cranberry Orange Muffins',\n",
       " 'Orange Salted Honey Cake',\n",
       " 'Orange Lemon Poppy Seed Muffins',\n",
       " 'Fresh-Squeezed Mimosa Cupcakes',\n",
       " 'Chocolate Orange Shortbread Cookies',\n",
       " 'Orange Dream Mini Cupcakes']"
      ]
     },
     "execution_count": 376,
     "metadata": {},
     "output_type": "execute_result"
    }
   ],
   "source": [
    "recommend('Glazed Orange Poppy Seed Bars')"
   ]
  },
  {
   "cell_type": "code",
   "execution_count": 377,
   "metadata": {},
   "outputs": [],
   "source": [
    "import pickle\n",
    "with open('Model1_countvect.pickle','wb') as f:\n",
    "    pickle.dump(similarity1,f)"
   ]
  },
  {
   "cell_type": "code",
   "execution_count": 378,
   "metadata": {},
   "outputs": [],
   "source": [
    "headlines = []\n",
    "for i in data_frame['tags']:\n",
    "    headlines.append(i)\n",
    "        "
   ]
  },
  {
   "cell_type": "code",
   "execution_count": 379,
   "metadata": {},
   "outputs": [],
   "source": [
    "labels = [headline[:20] for headline in headlines]\n",
    "\n",
    "def create_heatmap(similarity, cmap = \"YlGnBu\"):\n",
    "    df = pd.DataFrame(similarity1)\n",
    "    df.columns = labels\n",
    "    df.index = labels\n",
    "    fig, ax = plt.subplots(figsize=(5,5))\n",
    "    sns.heatmap(df, cmap=cmap)"
   ]
  },
  {
   "cell_type": "code",
   "execution_count": 380,
   "metadata": {},
   "outputs": [
    {
     "data": {
      "image/png": "[encoded data removed]",
      "text/plain": [
       "<Figure size 360x360 with 2 Axes>"
      ]
     },
     "metadata": {
      "needs_background": "light"
     },
     "output_type": "display_data"
    }
   ],
   "source": [
    "vectorizer = CountVectorizer()\n",
    "X = vectorizer.fit_transform(data_frame['tags'])\n",
    "arr = X.toarray()\n",
    "create_heatmap(cosine_similarity(arr))"
   ]
  },
  {
   "cell_type": "markdown",
   "metadata": {},
   "source": [
    "### Recommender using TfidfVectorizer"
   ]
  },
  {
   "cell_type": "code",
   "execution_count": null,
   "metadata": {},
   "outputs": [],
   "source": []
  },
  {
   "cell_type": "code",
   "execution_count": 5,
   "metadata": {},
   "outputs": [],
   "source": [
    "from sklearn.feature_extraction.text import TfidfVectorizer\n",
    "import pickle\n",
    "similarity = pickle.load(open('Model1.pickle', 'rb'))\n",
    "model1_df = pickle.load(open('Model1df.pickle', 'rb'))"
   ]
  },
  {
   "cell_type": "code",
   "execution_count": 6,
   "metadata": {},
   "outputs": [
    {
     "ename": "NameError",
     "evalue": "name 'data_frame' is not defined",
     "output_type": "error",
     "traceback": [
      "\u001b[1;31m---------------------------------------------------------------------------\u001b[0m",
      "\u001b[1;31mNameError\u001b[0m                                 Traceback (most recent call last)",
      "\u001b[1;32m~\\AppData\\Local\\Temp/ipykernel_1120/325514477.py\u001b[0m in \u001b[0;36m<module>\u001b[1;34m\u001b[0m\n\u001b[0;32m      1\u001b[0m \u001b[0mtf\u001b[0m \u001b[1;33m=\u001b[0m \u001b[0mTfidfVectorizer\u001b[0m\u001b[1;33m(\u001b[0m\u001b[1;33m)\u001b[0m\u001b[1;33m\u001b[0m\u001b[1;33m\u001b[0m\u001b[0m\n\u001b[1;32m----> 2\u001b[1;33m \u001b[0mvector\u001b[0m \u001b[1;33m=\u001b[0m \u001b[0mtf\u001b[0m\u001b[1;33m.\u001b[0m\u001b[0mfit_transform\u001b[0m\u001b[1;33m(\u001b[0m\u001b[0mdata_frame\u001b[0m\u001b[1;33m[\u001b[0m\u001b[1;34m'tags'\u001b[0m\u001b[1;33m]\u001b[0m\u001b[1;33m)\u001b[0m\u001b[1;33m.\u001b[0m\u001b[0mtoarray\u001b[0m\u001b[1;33m(\u001b[0m\u001b[1;33m)\u001b[0m\u001b[1;33m\u001b[0m\u001b[1;33m\u001b[0m\u001b[0m\n\u001b[0m\u001b[0;32m      3\u001b[0m \u001b[0msimilarity2\u001b[0m \u001b[1;33m=\u001b[0m \u001b[0mcosine_similarity\u001b[0m\u001b[1;33m(\u001b[0m\u001b[0mvector\u001b[0m\u001b[1;33m)\u001b[0m\u001b[1;33m\u001b[0m\u001b[1;33m\u001b[0m\u001b[0m\n",
      "\u001b[1;31mNameError\u001b[0m: name 'data_frame' is not defined"
     ]
    }
   ],
   "source": [
    "tf = TfidfVectorizer()\n",
    "vector = tf.fit_transform(data_frame['tags']).toarray()\n",
    "similarity2 = cosine_similarity(vector)    \n"
   ]
  },
  {
   "cell_type": "code",
   "execution_count": 78,
   "metadata": {},
   "outputs": [],
   "source": [
    "def recommend2(dessert):\n",
    "    index = model1_df[model1_df['recipe_name'] == dessert].index[0]\n",
    "    distances = sorted(list(enumerate(similarity[index])),reverse=True,key = lambda x: x[1])\n",
    "    for i in distances[1:10]:\n",
    "        print(model1_df.iloc[i[0]].recipe_name)\n",
    "        #print(model1_df['image_url'][i])"
   ]
  },
  {
   "cell_type": "code",
   "execution_count": 94,
   "metadata": {},
   "outputs": [],
   "source": [
    "def reco(dessert):\n",
    "    dessert = str(dessert)\n",
    "    names = []\n",
    "    images =[]\n",
    "    index = model1_df[model1_df['recipe_name'] == dessert].index[0]\n",
    "    image = model1_df['image_url'][index]\n",
    "    category = model1_df['category'][index]\n",
    "    detail = model1_df['details'][index]\n",
    "    ingred = model1_df['ingredients'][index]\n",
    "    instruc = model1_df['instructions'][index]\n",
    "    distances = sorted(list(enumerate(similarity[index])),reverse=True,key = lambda x: x[1])\n",
    "    for i in distances[1:6]:\n",
    "        names.append(model1_df.iloc[i[0]].recipe_name)\n",
    "        images.append(model1_df.iloc[i[0]].image_url)\n",
    "    print(names)"
   ]
  },
  {
   "cell_type": "code",
   "execution_count": 14,
   "metadata": {},
   "outputs": [],
   "source": [
    "model1_df.to_csv(\"checkdata.csv\")"
   ]
  },
  {
   "cell_type": "code",
   "execution_count": 95,
   "metadata": {},
   "outputs": [
    {
     "name": "stdout",
     "output_type": "stream",
     "text": [
      "['Soft and Chewy Chocolate Chip Cookie Bars', 'Chewy Brown Sugar Cookies', 'Brown Butter Chocolate Chip Cookies', '6 Giant Chocolate Chip Cookies', 'Toasted Smore Chocolate Chip Cookies']\n"
     ]
    }
   ],
   "source": [
    "reco('Chewy Chocolate Chip Cookies')"
   ]
  },
  {
   "cell_type": "code",
   "execution_count": 93,
   "metadata": {},
   "outputs": [
    {
     "name": "stdout",
     "output_type": "stream",
     "text": [
      "['https://cdn.sallysbakingaddiction.com/wp-content/uploads/2016/03/chocolate-chip-cookie-bars.jpg', 'https://cdn.sallysbakingaddiction.com/wp-content/uploads/2013/12/chewy-brown-sugar-cookies-3.jpg', 'https://cdn.sallysbakingaddiction.com/wp-content/uploads/2014/12/Sallys-Baking-Addiction-Brown-Butter-Chocolate-Chip-Cookies.jpg', 'https://cdn.sallysbakingaddiction.com/wp-content/uploads/2019/05/6-chocolate-chip-cookies.jpg', 'https://cdn.sallysbakingaddiction.com/wp-content/uploads/2015/10/toasted-smores-cookies-recipe.jpg']\n"
     ]
    }
   ],
   "source": [
    "reco('Chewy Chocolate Chip Cookies')"
   ]
  },
  {
   "cell_type": "code",
   "execution_count": 21,
   "metadata": {},
   "outputs": [],
   "source": [
    "index = model1_df[model1_df['recipe_name'] == 'Chewy Chocolate Chip Cookies'].index[0]"
   ]
  },
  {
   "cell_type": "code",
   "execution_count": 22,
   "metadata": {},
   "outputs": [
    {
     "name": "stdout",
     "output_type": "stream",
     "text": [
      "0\n"
     ]
    }
   ],
   "source": [
    "print(index)"
   ]
  },
  {
   "cell_type": "code",
   "execution_count": 27,
   "metadata": {},
   "outputs": [
    {
     "data": {
      "text/plain": [
       "'Cookie'"
      ]
     },
     "execution_count": 27,
     "metadata": {},
     "output_type": "execute_result"
    }
   ],
   "source": [
    "model1_df['category'][index]"
   ]
  },
  {
   "cell_type": "code",
   "execution_count": 30,
   "metadata": {},
   "outputs": [
    {
     "data": {
      "text/plain": [
       "'Author: Sally, Prep Time: 10 minutes,Cook Time: 12 minutes,Total Time: 3 hours, 22 minutes, Yield: 16 large cookies'"
      ]
     },
     "execution_count": 30,
     "metadata": {},
     "output_type": "execute_result"
    }
   ],
   "source": [
    "model1_df['details'][index]"
   ]
  },
  {
   "cell_type": "code",
   "execution_count": 31,
   "metadata": {},
   "outputs": [
    {
     "data": {
      "text/plain": [
       "'2 and 1/4 cups (280g) all-purpose flour(spoon & leveled), 1 teaspoon baking soda, 1 and 1/2 teaspoons cornstarch, 1/2 teaspoon salt, 3/4 cup (1.5 sticks or 170g) unsalted butter, melted & slightly cooled, 3/4 cup (150g) packed light or dark brown sugar, 1/2 cup (100g) granulated sugar, 1 large egg + 1 egg yolk, at room temperature, 2 teaspoons pure vanilla extract, 1 and 1/4 cups (225g) semi-sweet chocolate chips or chocolate chunks'"
      ]
     },
     "execution_count": 31,
     "metadata": {},
     "output_type": "execute_result"
    }
   ],
   "source": [
    "model1_df['ingredients'][index]"
   ]
  },
  {
   "cell_type": "code",
   "execution_count": 32,
   "metadata": {},
   "outputs": [
    {
     "data": {
      "text/plain": [
       "'Step 1:Whisk the flour, baking soda, cornstarch, and salt together in a large bowl. Set aside., Step 2:In a medium bowl, whisk the melted butter, brown sugar, and granulated sugar together until no brown sugar lumps remain. Whisk in the egg, then the egg yolk. Finally, whisk in the vanilla extract. Pour the wet ingredients into the dry ingredients and mix together with a large spoon or rubber spatula. The dough will be very soft, yet thick. Fold in the chocolate chunks. They may not stick to the dough because of the melted butter, but do your best to combine them. Cover the dough and chill in the refrigerator for 2-3 hours or up to 3-4 days. Chilling is mandatory. I highly recommend chilling the cookie dough overnight for less spreading. (Some readers have asked if its possible to roll into balls and then chill, but I dont recommend it. The cookie dough is quite sticky and loose to section into balls before chilling.), Step 3:Take the dough out of the refrigerator and allow to slightly soften at room temperature for 10 minutes., Step 4:Preheat oven to 325°F (163°C). Line two large baking sheets with parchment paper or silicone baking mats. (Always recommended for cookies.) Set aside., Step 5:Roll the dough into balls, about 3 Tablespoons of dough each. The dough will be crumbly, but the warmth of your hands will help the balls stay together. Roll the cookie dough balls to be taller rather than wide, to ensure the cookies will bake up to be thick. See this post for more detail and a photo. Place 8 balls of dough onto each cookie sheet. Press a few more chocolate chips/chunks on top of the dough balls for looks, if desired., Step 6:Bake the cookies for 12-13 minutes. The cookies will look very soft and underbaked. They will continue to bake on the cookie sheet. Allow to cool on the cookie sheet for 10 minutes before transferring to a wire rack to cool completely., Step 7:Cookies stay fresh covered at room temperature for up to 1 week.'"
      ]
     },
     "execution_count": 32,
     "metadata": {},
     "output_type": "execute_result"
    }
   ],
   "source": [
    "model1_df['instructions'][index]"
   ]
  },
  {
   "cell_type": "code",
   "execution_count": 96,
   "metadata": {},
   "outputs": [],
   "source": [
    "import pandas as pd\n",
    "model1_df = pd.read_csv(\"Dataset_new.csv\",encoding= 'unicode_escape')"
   ]
  },
  {
   "cell_type": "code",
   "execution_count": 63,
   "metadata": {},
   "outputs": [],
   "source": [
    "model1_df=model1_df.rename(columns={'Unnamed: 0': 'number'})"
   ]
  },
  {
   "cell_type": "code",
   "execution_count": 97,
   "metadata": {},
   "outputs": [
    {
     "data": {
      "text/html": [
       "<div>\n",
       "<style scoped>\n",
       "    .dataframe tbody tr th:only-of-type {\n",
       "        vertical-align: middle;\n",
       "    }\n",
       "\n",
       "    .dataframe tbody tr th {\n",
       "        vertical-align: top;\n",
       "    }\n",
       "\n",
       "    .dataframe thead th {\n",
       "        text-align: right;\n",
       "    }\n",
       "</style>\n",
       "<table border=\"1\" class=\"dataframe\">\n",
       "  <thead>\n",
       "    <tr style=\"text-align: right;\">\n",
       "      <th></th>\n",
       "      <th>Unnamed: 0</th>\n",
       "      <th>recipe_name</th>\n",
       "      <th>category</th>\n",
       "      <th>details</th>\n",
       "      <th>ingredients</th>\n",
       "      <th>instructions</th>\n",
       "      <th>image_url</th>\n",
       "    </tr>\n",
       "  </thead>\n",
       "  <tbody>\n",
       "    <tr>\n",
       "      <th>0</th>\n",
       "      <td>0</td>\n",
       "      <td>Chewy Chocolate Chip Cookies</td>\n",
       "      <td>Cookie</td>\n",
       "      <td>Prep Time: 10 minutes,Cook Time: 12 minutes,To...</td>\n",
       "      <td>2 and 1/4 cups (280g) all-purpose flour\\n1 tea...</td>\n",
       "      <td>1: Whisk the flour, baking soda, cornstarch, a...</td>\n",
       "      <td>https://cdn.sallysbakingaddiction.com/wp-conte...</td>\n",
       "    </tr>\n",
       "    <tr>\n",
       "      <th>1</th>\n",
       "      <td>1</td>\n",
       "      <td>The Best Sugar Cookies</td>\n",
       "      <td>Cookie</td>\n",
       "      <td>Prep Time: 2 hours,Cook Time: 12 minutes,Total...</td>\n",
       "      <td>2 and 1/4 cups (281g) all-purpose flour\\n1/2 t...</td>\n",
       "      <td>1:Whisk the flour, baking powder, and salt tog...</td>\n",
       "      <td>https://cdn.sallysbakingaddiction.com/wp-conte...</td>\n",
       "    </tr>\n",
       "    <tr>\n",
       "      <th>2</th>\n",
       "      <td>2</td>\n",
       "      <td>Dark Chocolate Chunk Oatmeal Cookies</td>\n",
       "      <td>Cookie</td>\n",
       "      <td>Prep Time: 45 minutes,Cook Time: 12 minutes,To...</td>\n",
       "      <td>1 cup (230g) unsalted butter\\n1 cup (200g) pac...</td>\n",
       "      <td>1:Using a hand mixer or a stand mixer fitted w...</td>\n",
       "      <td>https://cdn.sallysbakingaddiction.com/wp-conte...</td>\n",
       "    </tr>\n",
       "    <tr>\n",
       "      <th>3</th>\n",
       "      <td>3</td>\n",
       "      <td>Homemade Butter Cookies</td>\n",
       "      <td>Cookie</td>\n",
       "      <td>Prep Time: 20 minutes,Cook Time: 14 minutes,To...</td>\n",
       "      <td>1 cup (2 sticks; 230g) unsalted butter\\nsoften...</td>\n",
       "      <td>1:Read through the recipe and recipe notes bef...</td>\n",
       "      <td>https://cdn.sallysbakingaddiction.com/wp-conte...</td>\n",
       "    </tr>\n",
       "    <tr>\n",
       "      <th>4</th>\n",
       "      <td>4</td>\n",
       "      <td>Chewy Oatmeal Chocolate Chip Cookies</td>\n",
       "      <td>Cookie</td>\n",
       "      <td>Prep Time: 1 hour, 10 minutes,Cook Time: 14 mi...</td>\n",
       "      <td>1 and 1/2 cups (188g) all-purpose flour\\n1 tea...</td>\n",
       "      <td>Step 1:Whisk the flour, cinnamon, baking soda,...</td>\n",
       "      <td>https://cdn.sallysbakingaddiction.com/wp-conte...</td>\n",
       "    </tr>\n",
       "    <tr>\n",
       "      <th>...</th>\n",
       "      <td>...</td>\n",
       "      <td>...</td>\n",
       "      <td>...</td>\n",
       "      <td>...</td>\n",
       "      <td>...</td>\n",
       "      <td>...</td>\n",
       "      <td>...</td>\n",
       "    </tr>\n",
       "    <tr>\n",
       "      <th>1946</th>\n",
       "      <td>1947</td>\n",
       "      <td>Easy Strawberry Lemonade Freezer Pie</td>\n",
       "      <td>Pie_Crisp_Tart</td>\n",
       "      <td>Total Time: Prep: 15 min. + freezing, Makes:8 ...</td>\n",
       "      <td>1 container (23.2 ounces) frozen sweetened sli...</td>\n",
       "      <td>Step 1: In a large bowl, combine strawberries ...</td>\n",
       "      <td>https://www.tasteofhome.com/wp-content/uploads...</td>\n",
       "    </tr>\n",
       "    <tr>\n",
       "      <th>1947</th>\n",
       "      <td>1948</td>\n",
       "      <td>Toffee Cream Pie</td>\n",
       "      <td>Pie_Crisp_Tart</td>\n",
       "      <td>Total Time: Prep: 15 min. + freezing, Makes:8 ...</td>\n",
       "      <td>1-1/2 cups half-and-half cream\\n1 package (3.4...</td>\n",
       "      <td>Step 1: In a large bowl, whisk cream and puddi...</td>\n",
       "      <td>https://www.tasteofhome.com/wp-content/uploads...</td>\n",
       "    </tr>\n",
       "    <tr>\n",
       "      <th>1948</th>\n",
       "      <td>1949</td>\n",
       "      <td>Almond Pear Tart</td>\n",
       "      <td>Pie_Crisp_Tart</td>\n",
       "      <td>Total Time: Prep: 15 min. Bake: 20 min. + cool...</td>\n",
       "      <td>Pastry for single-crust pie (9 inches)\\n3/4 cu...</td>\n",
       "      <td>Step 1: On a lightly floured surface, roll dou...</td>\n",
       "      <td>https://www.tasteofhome.com/wp-content/uploads...</td>\n",
       "    </tr>\n",
       "    <tr>\n",
       "      <th>1949</th>\n",
       "      <td>1950</td>\n",
       "      <td>Arctic Orange Pie</td>\n",
       "      <td>Pie_Crisp_Tart</td>\n",
       "      <td>Total Time: Prep: 20 min. + freezing, Makes:8 ...</td>\n",
       "      <td>1 package (8 ounces) fat-free cream cheese\\n1 ...</td>\n",
       "      <td>Step 1: In a large bowl, beat cream cheese and...</td>\n",
       "      <td>https://www.tasteofhome.com/wp-content/uploads...</td>\n",
       "    </tr>\n",
       "    <tr>\n",
       "      <th>1950</th>\n",
       "      <td>1951</td>\n",
       "      <td>Frozen Mud Pie</td>\n",
       "      <td>Pie_Crisp_Tart</td>\n",
       "      <td>Total Time: Prep: 40 min. + freezing, Makes:8 ...</td>\n",
       "      <td>1-1/2 cups Oreo cookie crumbs\\n1-1/2 teaspoons...</td>\n",
       "      <td>Step 1: In a small bowl, combine cookie crumbs...</td>\n",
       "      <td>https://www.tasteofhome.com/wp-content/uploads...</td>\n",
       "    </tr>\n",
       "  </tbody>\n",
       "</table>\n",
       "<p>1951 rows × 7 columns</p>\n",
       "</div>"
      ],
      "text/plain": [
       "      Unnamed: 0                           recipe_name        category  \\\n",
       "0              0          Chewy Chocolate Chip Cookies          Cookie   \n",
       "1              1                The Best Sugar Cookies          Cookie   \n",
       "2              2  Dark Chocolate Chunk Oatmeal Cookies          Cookie   \n",
       "3              3               Homemade Butter Cookies          Cookie   \n",
       "4              4  Chewy Oatmeal Chocolate Chip Cookies          Cookie   \n",
       "...          ...                                   ...             ...   \n",
       "1946        1947  Easy Strawberry Lemonade Freezer Pie  Pie_Crisp_Tart   \n",
       "1947        1948                      Toffee Cream Pie  Pie_Crisp_Tart   \n",
       "1948        1949                      Almond Pear Tart  Pie_Crisp_Tart   \n",
       "1949        1950                     Arctic Orange Pie  Pie_Crisp_Tart   \n",
       "1950        1951                        Frozen Mud Pie  Pie_Crisp_Tart   \n",
       "\n",
       "                                                details  \\\n",
       "0     Prep Time: 10 minutes,Cook Time: 12 minutes,To...   \n",
       "1     Prep Time: 2 hours,Cook Time: 12 minutes,Total...   \n",
       "2     Prep Time: 45 minutes,Cook Time: 12 minutes,To...   \n",
       "3     Prep Time: 20 minutes,Cook Time: 14 minutes,To...   \n",
       "4     Prep Time: 1 hour, 10 minutes,Cook Time: 14 mi...   \n",
       "...                                                 ...   \n",
       "1946  Total Time: Prep: 15 min. + freezing, Makes:8 ...   \n",
       "1947  Total Time: Prep: 15 min. + freezing, Makes:8 ...   \n",
       "1948  Total Time: Prep: 15 min. Bake: 20 min. + cool...   \n",
       "1949  Total Time: Prep: 20 min. + freezing, Makes:8 ...   \n",
       "1950  Total Time: Prep: 40 min. + freezing, Makes:8 ...   \n",
       "\n",
       "                                            ingredients  \\\n",
       "0     2 and 1/4 cups (280g) all-purpose flour\\n1 tea...   \n",
       "1     2 and 1/4 cups (281g) all-purpose flour\\n1/2 t...   \n",
       "2     1 cup (230g) unsalted butter\\n1 cup (200g) pac...   \n",
       "3     1 cup (2 sticks; 230g) unsalted butter\\nsoften...   \n",
       "4     1 and 1/2 cups (188g) all-purpose flour\\n1 tea...   \n",
       "...                                                 ...   \n",
       "1946  1 container (23.2 ounces) frozen sweetened sli...   \n",
       "1947  1-1/2 cups half-and-half cream\\n1 package (3.4...   \n",
       "1948  Pastry for single-crust pie (9 inches)\\n3/4 cu...   \n",
       "1949  1 package (8 ounces) fat-free cream cheese\\n1 ...   \n",
       "1950  1-1/2 cups Oreo cookie crumbs\\n1-1/2 teaspoons...   \n",
       "\n",
       "                                           instructions  \\\n",
       "0     1: Whisk the flour, baking soda, cornstarch, a...   \n",
       "1     1:Whisk the flour, baking powder, and salt tog...   \n",
       "2     1:Using a hand mixer or a stand mixer fitted w...   \n",
       "3     1:Read through the recipe and recipe notes bef...   \n",
       "4     Step 1:Whisk the flour, cinnamon, baking soda,...   \n",
       "...                                                 ...   \n",
       "1946  Step 1: In a large bowl, combine strawberries ...   \n",
       "1947  Step 1: In a large bowl, whisk cream and puddi...   \n",
       "1948  Step 1: On a lightly floured surface, roll dou...   \n",
       "1949  Step 1: In a large bowl, beat cream cheese and...   \n",
       "1950  Step 1: In a small bowl, combine cookie crumbs...   \n",
       "\n",
       "                                              image_url  \n",
       "0     https://cdn.sallysbakingaddiction.com/wp-conte...  \n",
       "1     https://cdn.sallysbakingaddiction.com/wp-conte...  \n",
       "2     https://cdn.sallysbakingaddiction.com/wp-conte...  \n",
       "3     https://cdn.sallysbakingaddiction.com/wp-conte...  \n",
       "4     https://cdn.sallysbakingaddiction.com/wp-conte...  \n",
       "...                                                 ...  \n",
       "1946  https://www.tasteofhome.com/wp-content/uploads...  \n",
       "1947  https://www.tasteofhome.com/wp-content/uploads...  \n",
       "1948  https://www.tasteofhome.com/wp-content/uploads...  \n",
       "1949  https://www.tasteofhome.com/wp-content/uploads...  \n",
       "1950  https://www.tasteofhome.com/wp-content/uploads...  \n",
       "\n",
       "[1951 rows x 7 columns]"
      ]
     },
     "execution_count": 97,
     "metadata": {},
     "output_type": "execute_result"
    }
   ],
   "source": [
    "model1_df"
   ]
  },
  {
   "cell_type": "code",
   "execution_count": 20,
   "metadata": {},
   "outputs": [],
   "source": [
    "import pickle\n",
    "with open('Model1.pickle','wb') as f:\n",
    "    pickle.dump(similarity2,f)"
   ]
  },
  {
   "cell_type": "code",
   "execution_count": 103,
   "metadata": {},
   "outputs": [],
   "source": [
    "import pickle\n",
    "with open('Model1dfnew.pickle','wb') as f:\n",
    "    pickle.dump(df,f)"
   ]
  },
  {
   "cell_type": "code",
   "execution_count": 33,
   "metadata": {},
   "outputs": [
    {
     "name": "stdout",
     "output_type": "stream",
     "text": [
      "Mothers Day rhubarb and ginger muffins\n"
     ]
    }
   ],
   "source": [
    "import re\n",
    "data = \"Mothers%20Day%20rhubarb%20and%20ginger%20muffins\"\n",
    "data = re.sub(r\"%20\",' ',data)\n",
    "print(data)"
   ]
  },
  {
   "cell_type": "code",
   "execution_count": 34,
   "metadata": {},
   "outputs": [],
   "source": [
    "import pandas as pd"
   ]
  },
  {
   "cell_type": "code",
   "execution_count": 100,
   "metadata": {},
   "outputs": [],
   "source": [
    "df = pd.read_csv(\"Dataset_new.csv\",encoding= 'unicode_escape')"
   ]
  },
  {
   "cell_type": "code",
   "execution_count": 101,
   "metadata": {},
   "outputs": [
    {
     "data": {
      "text/html": [
       "<div>\n",
       "<style scoped>\n",
       "    .dataframe tbody tr th:only-of-type {\n",
       "        vertical-align: middle;\n",
       "    }\n",
       "\n",
       "    .dataframe tbody tr th {\n",
       "        vertical-align: top;\n",
       "    }\n",
       "\n",
       "    .dataframe thead th {\n",
       "        text-align: right;\n",
       "    }\n",
       "</style>\n",
       "<table border=\"1\" class=\"dataframe\">\n",
       "  <thead>\n",
       "    <tr style=\"text-align: right;\">\n",
       "      <th></th>\n",
       "      <th>Unnamed: 0</th>\n",
       "      <th>recipe_name</th>\n",
       "      <th>category</th>\n",
       "      <th>details</th>\n",
       "      <th>ingredients</th>\n",
       "      <th>instructions</th>\n",
       "      <th>image_url</th>\n",
       "    </tr>\n",
       "  </thead>\n",
       "  <tbody>\n",
       "    <tr>\n",
       "      <th>0</th>\n",
       "      <td>0</td>\n",
       "      <td>Chewy Chocolate Chip Cookies</td>\n",
       "      <td>Cookie</td>\n",
       "      <td>Prep Time: 10 minutes,Cook Time: 12 minutes,To...</td>\n",
       "      <td>2 and 1/4 cups (280g) all-purpose flour\\n1 tea...</td>\n",
       "      <td>1: Whisk the flour, baking soda, cornstarch, a...</td>\n",
       "      <td>https://cdn.sallysbakingaddiction.com/wp-conte...</td>\n",
       "    </tr>\n",
       "    <tr>\n",
       "      <th>1</th>\n",
       "      <td>1</td>\n",
       "      <td>The Best Sugar Cookies</td>\n",
       "      <td>Cookie</td>\n",
       "      <td>Prep Time: 2 hours,Cook Time: 12 minutes,Total...</td>\n",
       "      <td>2 and 1/4 cups (281g) all-purpose flour\\n1/2 t...</td>\n",
       "      <td>1:Whisk the flour, baking powder, and salt tog...</td>\n",
       "      <td>https://cdn.sallysbakingaddiction.com/wp-conte...</td>\n",
       "    </tr>\n",
       "    <tr>\n",
       "      <th>2</th>\n",
       "      <td>2</td>\n",
       "      <td>Dark Chocolate Chunk Oatmeal Cookies</td>\n",
       "      <td>Cookie</td>\n",
       "      <td>Prep Time: 45 minutes,Cook Time: 12 minutes,To...</td>\n",
       "      <td>1 cup (230g) unsalted butter\\n1 cup (200g) pac...</td>\n",
       "      <td>1:Using a hand mixer or a stand mixer fitted w...</td>\n",
       "      <td>https://cdn.sallysbakingaddiction.com/wp-conte...</td>\n",
       "    </tr>\n",
       "    <tr>\n",
       "      <th>3</th>\n",
       "      <td>3</td>\n",
       "      <td>Homemade Butter Cookies</td>\n",
       "      <td>Cookie</td>\n",
       "      <td>Prep Time: 20 minutes,Cook Time: 14 minutes,To...</td>\n",
       "      <td>1 cup (2 sticks; 230g) unsalted butter\\nsoften...</td>\n",
       "      <td>1:Read through the recipe and recipe notes bef...</td>\n",
       "      <td>https://cdn.sallysbakingaddiction.com/wp-conte...</td>\n",
       "    </tr>\n",
       "    <tr>\n",
       "      <th>4</th>\n",
       "      <td>4</td>\n",
       "      <td>Chewy Oatmeal Chocolate Chip Cookies</td>\n",
       "      <td>Cookie</td>\n",
       "      <td>Prep Time: 1 hour, 10 minutes,Cook Time: 14 mi...</td>\n",
       "      <td>1 and 1/2 cups (188g) all-purpose flour\\n1 tea...</td>\n",
       "      <td>Step 1:Whisk the flour, cinnamon, baking soda,...</td>\n",
       "      <td>https://cdn.sallysbakingaddiction.com/wp-conte...</td>\n",
       "    </tr>\n",
       "    <tr>\n",
       "      <th>...</th>\n",
       "      <td>...</td>\n",
       "      <td>...</td>\n",
       "      <td>...</td>\n",
       "      <td>...</td>\n",
       "      <td>...</td>\n",
       "      <td>...</td>\n",
       "      <td>...</td>\n",
       "    </tr>\n",
       "    <tr>\n",
       "      <th>1946</th>\n",
       "      <td>1947</td>\n",
       "      <td>Easy Strawberry Lemonade Freezer Pie</td>\n",
       "      <td>Pie_Crisp_Tart</td>\n",
       "      <td>Total Time: Prep: 15 min. + freezing, Makes:8 ...</td>\n",
       "      <td>1 container (23.2 ounces) frozen sweetened sli...</td>\n",
       "      <td>Step 1: In a large bowl, combine strawberries ...</td>\n",
       "      <td>https://www.tasteofhome.com/wp-content/uploads...</td>\n",
       "    </tr>\n",
       "    <tr>\n",
       "      <th>1947</th>\n",
       "      <td>1948</td>\n",
       "      <td>Toffee Cream Pie</td>\n",
       "      <td>Pie_Crisp_Tart</td>\n",
       "      <td>Total Time: Prep: 15 min. + freezing, Makes:8 ...</td>\n",
       "      <td>1-1/2 cups half-and-half cream\\n1 package (3.4...</td>\n",
       "      <td>Step 1: In a large bowl, whisk cream and puddi...</td>\n",
       "      <td>https://www.tasteofhome.com/wp-content/uploads...</td>\n",
       "    </tr>\n",
       "    <tr>\n",
       "      <th>1948</th>\n",
       "      <td>1949</td>\n",
       "      <td>Almond Pear Tart</td>\n",
       "      <td>Pie_Crisp_Tart</td>\n",
       "      <td>Total Time: Prep: 15 min. Bake: 20 min. + cool...</td>\n",
       "      <td>Pastry for single-crust pie (9 inches)\\n3/4 cu...</td>\n",
       "      <td>Step 1: On a lightly floured surface, roll dou...</td>\n",
       "      <td>https://www.tasteofhome.com/wp-content/uploads...</td>\n",
       "    </tr>\n",
       "    <tr>\n",
       "      <th>1949</th>\n",
       "      <td>1950</td>\n",
       "      <td>Arctic Orange Pie</td>\n",
       "      <td>Pie_Crisp_Tart</td>\n",
       "      <td>Total Time: Prep: 20 min. + freezing, Makes:8 ...</td>\n",
       "      <td>1 package (8 ounces) fat-free cream cheese\\n1 ...</td>\n",
       "      <td>Step 1: In a large bowl, beat cream cheese and...</td>\n",
       "      <td>https://www.tasteofhome.com/wp-content/uploads...</td>\n",
       "    </tr>\n",
       "    <tr>\n",
       "      <th>1950</th>\n",
       "      <td>1951</td>\n",
       "      <td>Frozen Mud Pie</td>\n",
       "      <td>Pie_Crisp_Tart</td>\n",
       "      <td>Total Time: Prep: 40 min. + freezing, Makes:8 ...</td>\n",
       "      <td>1-1/2 cups Oreo cookie crumbs\\n1-1/2 teaspoons...</td>\n",
       "      <td>Step 1: In a small bowl, combine cookie crumbs...</td>\n",
       "      <td>https://www.tasteofhome.com/wp-content/uploads...</td>\n",
       "    </tr>\n",
       "  </tbody>\n",
       "</table>\n",
       "<p>1951 rows × 7 columns</p>\n",
       "</div>"
      ],
      "text/plain": [
       "      Unnamed: 0                           recipe_name        category  \\\n",
       "0              0          Chewy Chocolate Chip Cookies          Cookie   \n",
       "1              1                The Best Sugar Cookies          Cookie   \n",
       "2              2  Dark Chocolate Chunk Oatmeal Cookies          Cookie   \n",
       "3              3               Homemade Butter Cookies          Cookie   \n",
       "4              4  Chewy Oatmeal Chocolate Chip Cookies          Cookie   \n",
       "...          ...                                   ...             ...   \n",
       "1946        1947  Easy Strawberry Lemonade Freezer Pie  Pie_Crisp_Tart   \n",
       "1947        1948                      Toffee Cream Pie  Pie_Crisp_Tart   \n",
       "1948        1949                      Almond Pear Tart  Pie_Crisp_Tart   \n",
       "1949        1950                     Arctic Orange Pie  Pie_Crisp_Tart   \n",
       "1950        1951                        Frozen Mud Pie  Pie_Crisp_Tart   \n",
       "\n",
       "                                                details  \\\n",
       "0     Prep Time: 10 minutes,Cook Time: 12 minutes,To...   \n",
       "1     Prep Time: 2 hours,Cook Time: 12 minutes,Total...   \n",
       "2     Prep Time: 45 minutes,Cook Time: 12 minutes,To...   \n",
       "3     Prep Time: 20 minutes,Cook Time: 14 minutes,To...   \n",
       "4     Prep Time: 1 hour, 10 minutes,Cook Time: 14 mi...   \n",
       "...                                                 ...   \n",
       "1946  Total Time: Prep: 15 min. + freezing, Makes:8 ...   \n",
       "1947  Total Time: Prep: 15 min. + freezing, Makes:8 ...   \n",
       "1948  Total Time: Prep: 15 min. Bake: 20 min. + cool...   \n",
       "1949  Total Time: Prep: 20 min. + freezing, Makes:8 ...   \n",
       "1950  Total Time: Prep: 40 min. + freezing, Makes:8 ...   \n",
       "\n",
       "                                            ingredients  \\\n",
       "0     2 and 1/4 cups (280g) all-purpose flour\\n1 tea...   \n",
       "1     2 and 1/4 cups (281g) all-purpose flour\\n1/2 t...   \n",
       "2     1 cup (230g) unsalted butter\\n1 cup (200g) pac...   \n",
       "3     1 cup (2 sticks; 230g) unsalted butter\\nsoften...   \n",
       "4     1 and 1/2 cups (188g) all-purpose flour\\n1 tea...   \n",
       "...                                                 ...   \n",
       "1946  1 container (23.2 ounces) frozen sweetened sli...   \n",
       "1947  1-1/2 cups half-and-half cream\\n1 package (3.4...   \n",
       "1948  Pastry for single-crust pie (9 inches)\\n3/4 cu...   \n",
       "1949  1 package (8 ounces) fat-free cream cheese\\n1 ...   \n",
       "1950  1-1/2 cups Oreo cookie crumbs\\n1-1/2 teaspoons...   \n",
       "\n",
       "                                           instructions  \\\n",
       "0     1: Whisk the flour, baking soda, cornstarch, a...   \n",
       "1     1:Whisk the flour, baking powder, and salt tog...   \n",
       "2     1:Using a hand mixer or a stand mixer fitted w...   \n",
       "3     1:Read through the recipe and recipe notes bef...   \n",
       "4     Step 1:Whisk the flour, cinnamon, baking soda,...   \n",
       "...                                                 ...   \n",
       "1946  Step 1: In a large bowl, combine strawberries ...   \n",
       "1947  Step 1: In a large bowl, whisk cream and puddi...   \n",
       "1948  Step 1: On a lightly floured surface, roll dou...   \n",
       "1949  Step 1: In a large bowl, beat cream cheese and...   \n",
       "1950  Step 1: In a small bowl, combine cookie crumbs...   \n",
       "\n",
       "                                              image_url  \n",
       "0     https://cdn.sallysbakingaddiction.com/wp-conte...  \n",
       "1     https://cdn.sallysbakingaddiction.com/wp-conte...  \n",
       "2     https://cdn.sallysbakingaddiction.com/wp-conte...  \n",
       "3     https://cdn.sallysbakingaddiction.com/wp-conte...  \n",
       "4     https://cdn.sallysbakingaddiction.com/wp-conte...  \n",
       "...                                                 ...  \n",
       "1946  https://www.tasteofhome.com/wp-content/uploads...  \n",
       "1947  https://www.tasteofhome.com/wp-content/uploads...  \n",
       "1948  https://www.tasteofhome.com/wp-content/uploads...  \n",
       "1949  https://www.tasteofhome.com/wp-content/uploads...  \n",
       "1950  https://www.tasteofhome.com/wp-content/uploads...  \n",
       "\n",
       "[1951 rows x 7 columns]"
      ]
     },
     "execution_count": 101,
     "metadata": {},
     "output_type": "execute_result"
    }
   ],
   "source": [
    "df"
   ]
  },
  {
   "cell_type": "code",
   "execution_count": null,
   "metadata": {},
   "outputs": [],
   "source": []
  },
  {
   "cell_type": "code",
   "execution_count": 18,
   "metadata": {},
   "outputs": [],
   "source": [
    "new_df = pd.DataFrame(columns = ['recipe_name'])"
   ]
  },
  {
   "cell_type": "code",
   "execution_count": 19,
   "metadata": {},
   "outputs": [],
   "source": [
    "new_df['recipe_name'] = training_df['recipe_name']"
   ]
  },
  {
   "cell_type": "code",
   "execution_count": 27,
   "metadata": {},
   "outputs": [
    {
     "data": {
      "text/plain": [
       "0               Chewy Chocolate Chip Cookies\n",
       "1                     The Best Sugar Cookies\n",
       "2       Dark Chocolate Chunk Oatmeal Cookies\n",
       "3                    Homemade Butter Cookies\n",
       "4       Chewy Oatmeal Chocolate Chip Cookies\n",
       "                        ...                 \n",
       "1947    Easy Strawberry Lemonade Freezer Pie\n",
       "1948                        Toffee Cream Pie\n",
       "1949                        Almond Pear Tart\n",
       "1950                       Arctic Orange Pie\n",
       "1951                          Frozen Mud Pie\n",
       "Name: recipe_name, Length: 1952, dtype: object"
      ]
     },
     "execution_count": 27,
     "metadata": {},
     "output_type": "execute_result"
    }
   ],
   "source": [
    "new_df.recipe_name"
   ]
  },
  {
   "cell_type": "code",
   "execution_count": 20,
   "metadata": {},
   "outputs": [],
   "source": [
    "import json\n",
    "columns = {\n",
    "    'data_columns':[col for col in new_df.recipe_name]\n",
    "}\n",
    "\n",
    "with open('columns.json','w') as f:\n",
    "    f.write(json.dumps(columns))"
   ]
  }
 ],
 "metadata": {
  "kernelspec": {
   "display_name": "Python 3 (ipykernel)",
   "language": "python",
   "name": "python3"
  },
  "language_info": {
   "codemirror_mode": {
    "name": "ipython",
    "version": 3
   },
   "file_extension": ".py",
   "mimetype": "text/x-python",
   "name": "python",
   "nbconvert_exporter": "python",
   "pygments_lexer": "ipython3",
   "version": "3.8.12"
  }
 },
 "nbformat": 4,
 "nbformat_minor": 4
}
