{
 "cells": [
  {
   "cell_type": "code",
   "execution_count": 187,
   "metadata": {},
   "outputs": [],
   "source": [
    "# Import the required libraries \n",
    "import pandas as pd\n",
    "from bs4 import BeautifulSoup \n",
    "import requests\n",
    "import time"
   ]
  },
  {
   "cell_type": "code",
   "execution_count": 439,
   "metadata": {},
   "outputs": [],
   "source": [
    "from urllib.request import Request, urlopen\n",
    "url=\"https://sallysbakingaddiction.com/category/desserts/candy/page/6/#recipe-list-page\"\n",
    "req = Request(url, headers={'User-Agent': 'Mozilla/5.0'})\n",
    "web_byte = urlopen(req).read()\n",
    "webpage = web_byte.decode('utf-8')"
   ]
  },
  {
   "cell_type": "code",
   "execution_count": 440,
   "metadata": {},
   "outputs": [],
   "source": [
    "soup = BeautifulSoup(webpage,\"lxml\")"
   ]
  },
  {
   "cell_type": "code",
   "execution_count": 441,
   "metadata": {},
   "outputs": [
    {
     "name": "stdout",
     "output_type": "stream",
     "text": [
      "['/', '/recipe-index/', 'https://sallysbakingaddiction.com/category/bread/', 'https://sallysbakingaddiction.com/category/desserts/cakes/', 'https://sallysbakingaddiction.com/category/desserts/cookies/', 'https://sallysbakingaddiction.com/category/video/', 'https://sallysbakingaddiction.com/category/desserts/pies-crisps-tarts/', '#primary', 'https://sallysbakingaddiction.com/start-here/', 'https://sallysbakingaddiction.com/about/', 'https://sallysbakingaddiction.com/category/baking-tips/', 'https://sallysbakingaddiction.com/sallys-baking-challenge/', 'https://sallysbakingaddiction.com/sallys-cookbooks/', 'https://www.facebook.com/SallysBakingAddiction', 'http://instagram.com/sallysbakeblog/', 'http://pinterest.com/sallysbakeblog/', 'https://www.youtube.com/c/SallysBakingAddictionVideo', '/', '/recipe-index/', 'https://sallysbakingaddiction.com/category/bread/', 'https://sallysbakingaddiction.com/category/desserts/cakes/', 'https://sallysbakingaddiction.com/category/desserts/cookies/', 'https://sallysbakingaddiction.com/category/video/', 'https://sallysbakingaddiction.com/category/desserts/pies-crisps-tarts/', 'https://sallysbakingaddiction.com/recipes/', 'https://sallysbakingaddiction.com/category/breakfast-treats/', 'https://sallysbakingaddiction.com/category/desserts/brownies-bars/', 'https://sallysbakingaddiction.com/category/desserts/cakes/', 'https://sallysbakingaddiction.com/category/desserts/candy/', 'https://sallysbakingaddiction.com/category/desserts/cheesecake/', 'https://sallysbakingaddiction.com/category/desserts/cookies/', 'https://sallysbakingaddiction.com/category/desserts/cupcakes/', 'https://sallysbakingaddiction.com/category/desserts/', 'https://sallysbakingaddiction.com/category/savory-recipes/dinner/', 'https://sallysbakingaddiction.com/category/desserts/frostings/', 'https://sallysbakingaddiction.com/category/healthy-recipes/', 'https://sallysbakingaddiction.com/category/desserts/ice-cream-frozen-treats/', 'https://sallysbakingaddiction.com/category/breakfast-treats/muffins/', 'https://sallysbakingaddiction.com/category/desserts/pies-crisps-tarts/', 'https://sallysbakingaddiction.com/category/savory-recipes/', 'https://sallysbakingaddiction.com/category/desserts/specialty-dessert/', '#', 'https://sallysbakingaddiction.com/category/special-diet/dairy-free/', 'https://sallysbakingaddiction.com/category/special-diet/egg-free/', 'https://sallysbakingaddiction.com/category/special-diet/gluten-free/', 'https://sallysbakingaddiction.com/category/special-diet/vegan/', '/ingredient-index/', 'https://sallysbakingaddiction.com/tag/apples/', 'https://sallysbakingaddiction.com/tag/bananas/', 'https://sallysbakingaddiction.com/tag/blueberries/', 'https://sallysbakingaddiction.com/tag/chocolate/', 'https://sallysbakingaddiction.com/tag/cinnamon/', 'https://sallysbakingaddiction.com/tag/lemons/', 'https://sallysbakingaddiction.com/tag/peanut-butter/', 'https://sallysbakingaddiction.com/tag/pumpkin/', 'https://sallysbakingaddiction.com/ingredient-index/', '#', 'https://sallysbakingaddiction.com/category/seasonal/birthday/', 'https://sallysbakingaddiction.com/category/seasonal/christmas/', 'https://sallysbakingaddiction.com/category/seasonal/easter-recipes/', 'https://sallysbakingaddiction.com/category/seasonal/halloween/', 'https://sallysbakingaddiction.com/category/seasonal/st-patricks-day/', 'https://sallysbakingaddiction.com/category/seasonal/thanksgiving-recipes/', 'https://sallysbakingaddiction.com/category/seasonal/valentines-day/', '/recipe-index/#seasons', 'https://sallysbakingaddiction.com/category/seasonal/spring-recipes/', 'https://sallysbakingaddiction.com/category/seasonal/summer-recipes/', 'https://sallysbakingaddiction.com/category/seasonal/fall-recipes/', 'https://sallysbakingaddiction.com/category/seasonal/winter-recipes/', '#', 'https://sallysbakingaddiction.com/category/beginner/', 'https://sallysbakingaddiction.com/category/intermediate/', 'https://sallysbakingaddiction.com/category/advanced/', '/recipes/', '/', '/recipe-index/', 'https://sallysbakingaddiction.com/category/bread/', 'https://sallysbakingaddiction.com/category/desserts/cakes/', 'https://sallysbakingaddiction.com/category/desserts/cookies/', 'https://sallysbakingaddiction.com/category/video/', 'https://sallysbakingaddiction.com/category/desserts/pies-crisps-tarts/', 'https://sallysbakingaddiction.com/recipes/', 'https://sallysbakingaddiction.com/category/breakfast-treats/', 'https://sallysbakingaddiction.com/category/desserts/brownies-bars/', 'https://sallysbakingaddiction.com/category/desserts/cakes/', 'https://sallysbakingaddiction.com/category/desserts/candy/', 'https://sallysbakingaddiction.com/category/desserts/cheesecake/', 'https://sallysbakingaddiction.com/category/desserts/cookies/', 'https://sallysbakingaddiction.com/category/desserts/cupcakes/', 'https://sallysbakingaddiction.com/category/desserts/', 'https://sallysbakingaddiction.com/category/savory-recipes/dinner/', 'https://sallysbakingaddiction.com/category/desserts/frostings/', 'https://sallysbakingaddiction.com/category/healthy-recipes/', 'https://sallysbakingaddiction.com/category/desserts/ice-cream-frozen-treats/', 'https://sallysbakingaddiction.com/category/breakfast-treats/muffins/', 'https://sallysbakingaddiction.com/category/desserts/pies-crisps-tarts/', 'https://sallysbakingaddiction.com/category/savory-recipes/', 'https://sallysbakingaddiction.com/category/desserts/specialty-dessert/', '#', 'https://sallysbakingaddiction.com/category/special-diet/dairy-free/', 'https://sallysbakingaddiction.com/category/special-diet/egg-free/', 'https://sallysbakingaddiction.com/category/special-diet/gluten-free/', 'https://sallysbakingaddiction.com/category/special-diet/vegan/', '/ingredient-index/', 'https://sallysbakingaddiction.com/tag/apples/', 'https://sallysbakingaddiction.com/tag/bananas/', 'https://sallysbakingaddiction.com/tag/blueberries/', 'https://sallysbakingaddiction.com/tag/chocolate/', 'https://sallysbakingaddiction.com/tag/cinnamon/', 'https://sallysbakingaddiction.com/tag/lemons/', 'https://sallysbakingaddiction.com/tag/peanut-butter/', 'https://sallysbakingaddiction.com/tag/pumpkin/', 'https://sallysbakingaddiction.com/ingredient-index/', '#', 'https://sallysbakingaddiction.com/category/seasonal/birthday/', 'https://sallysbakingaddiction.com/category/seasonal/christmas/', 'https://sallysbakingaddiction.com/category/seasonal/easter-recipes/', 'https://sallysbakingaddiction.com/category/seasonal/halloween/', 'https://sallysbakingaddiction.com/category/seasonal/st-patricks-day/', 'https://sallysbakingaddiction.com/category/seasonal/thanksgiving-recipes/', 'https://sallysbakingaddiction.com/category/seasonal/valentines-day/', '/recipe-index/#seasons', 'https://sallysbakingaddiction.com/category/seasonal/spring-recipes/', 'https://sallysbakingaddiction.com/category/seasonal/summer-recipes/', 'https://sallysbakingaddiction.com/category/seasonal/fall-recipes/', 'https://sallysbakingaddiction.com/category/seasonal/winter-recipes/', '#', 'https://sallysbakingaddiction.com/category/beginner/', 'https://sallysbakingaddiction.com/category/intermediate/', 'https://sallysbakingaddiction.com/category/advanced/', 'https://sallysbakingaddiction.com/start-here/', 'https://sallysbakingaddiction.com/about/', 'https://sallysbakingaddiction.com/category/baking-tips/', 'https://sallysbakingaddiction.com/sallys-baking-challenge/', 'https://sallysbakingaddiction.com/sallys-cookbooks/', 'https://www.facebook.com/SallysBakingAddiction', 'http://instagram.com/sallysbakeblog/', 'http://pinterest.com/sallysbakeblog/', 'https://www.youtube.com/c/SallysBakingAddictionVideo', '/recipes/', 'https://sallysbakingaddiction.com/', 'https://sallysbakingaddiction.com/category/desserts/', 'https://sallysbakingaddiction.com/category/desserts/candy/', 'https://sallysbakingaddiction.com/homemade-chocolate-truffles/', 'https://sallysbakingaddiction.com/peppermint-bark/', 'https://sallysbakingaddiction.com/sea-salt-vanilla-caramels/', 'https://sallysbakingaddiction.com/salted-dark-chocolate-almond-toffee/', 'https://sallysbakingaddiction.com/chocolate-peanut-butter-pretzel-bites/', 'https://sallysbakingaddiction.com/chocolate-peanut-butter-pretzel-bites/', 'https://sallysbakingaddiction.com/chocolate-covered-pretzels/', 'https://sallysbakingaddiction.com/chocolate-covered-pretzels/', 'https://sallysbakingaddiction.com/category/desserts/candy/page/5/', 'https://sallysbakingaddiction.com/category/desserts/candy/#recipe-list-page', 'https://sallysbakingaddiction.com/category/desserts/candy/page/2/#recipe-list-page', 'https://sallysbakingaddiction.com/category/desserts/candy/page/3/#recipe-list-page', 'https://sallysbakingaddiction.com/category/desserts/candy/page/4/#recipe-list-page', 'https://sallysbakingaddiction.com/category/desserts/candy/page/5/#recipe-list-page', 'https://sallysbakingaddiction.com/accessibility-statement/', 'https://sallysbakingaddiction.com/start-here/', 'https://sallysbakingaddiction.com/privacy-policy/', 'https://sallysbakingaddiction.com/faq/', 'https://sallysbakingaddiction.com/disclosure-policy/', 'https://sitecare.com/']\n"
     ]
    }
   ],
   "source": [
    "links = []\n",
    "for link in soup.find_all('a'):\n",
    "    links.append(link.get('href'))\n",
    "print(links)"
   ]
  },
  {
   "cell_type": "code",
   "execution_count": 331,
   "metadata": {},
   "outputs": [
    {
     "data": {
      "text/plain": [
       "180"
      ]
     },
     "execution_count": 331,
     "metadata": {},
     "output_type": "execute_result"
    }
   ],
   "source": [
    "len(links)"
   ]
  },
  {
   "cell_type": "code",
   "execution_count": 442,
   "metadata": {},
   "outputs": [],
   "source": [
    "import pandas as pd\n",
    "recipe_urls = pd.Series([a.get(\"href\") for a in soup.find_all(\"a\")])\n",
    "recipe_urls = recipe_urls[(recipe_urls.str.contains(\"sallysbakingaddiction.com/\")==True) &\n",
    "                         (recipe_urls.str.contains(\"sallys-cookbooks\")==False) & \n",
    "                          (recipe_urls.str.contains(\"tag\")==False) & \n",
    "                          (recipe_urls.str.contains(\"about/\")==False) & \n",
    "                          (recipe_urls.str.contains(\"baking-made-easy\")==False) & \n",
    "                          (recipe_urls.str.contains(\"category\")==False) & \n",
    "                          (recipe_urls.str.contains(\"faq\")==False) & \n",
    "                          (recipe_urls.str.endswith(\"com/\")==False) & \n",
    "                          (recipe_urls.str.contains(\"accessibility-statement\")==False) & \n",
    "                          (recipe_urls.str.contains(\"tips\")==False) &\n",
    "                          (recipe_urls.str.contains(\"privacy-policy\")==False) & \n",
    "                          (recipe_urls.str.contains(\"disclosure-policy\")==False) & \n",
    "                          (recipe_urls.str.contains(\"recipe-index\")==False) & \n",
    "                          (recipe_urls.str.endswith(\"start-here/\")==False) & \n",
    "                          (recipe_urls.str.endswith(\"sallys-baking-challenge/\")==False) & \n",
    "                          (recipe_urls.str.endswith(\"ingredient-index/\")==False) & \n",
    "                          (recipe_urls.str.endswith(\"piping-tips/\")==False) &\n",
    "                          (recipe_urls.str.endswith(\"recipes/\")==False)]"
   ]
  },
  {
   "cell_type": "code",
   "execution_count": 443,
   "metadata": {},
   "outputs": [
    {
     "data": {
      "text/plain": [
       "143    https://sallysbakingaddiction.com/homemade-cho...\n",
       "144    https://sallysbakingaddiction.com/peppermint-b...\n",
       "145    https://sallysbakingaddiction.com/sea-salt-van...\n",
       "146    https://sallysbakingaddiction.com/salted-dark-...\n",
       "147    https://sallysbakingaddiction.com/chocolate-pe...\n",
       "148    https://sallysbakingaddiction.com/chocolate-pe...\n",
       "149    https://sallysbakingaddiction.com/chocolate-co...\n",
       "150    https://sallysbakingaddiction.com/chocolate-co...\n",
       "dtype: object"
      ]
     },
     "execution_count": 443,
     "metadata": {},
     "output_type": "execute_result"
    }
   ],
   "source": [
    "recipe_urls"
   ]
  },
  {
   "cell_type": "code",
   "execution_count": 370,
   "metadata": {},
   "outputs": [
    {
     "data": {
      "text/plain": [
       "26"
      ]
     },
     "execution_count": 370,
     "metadata": {},
     "output_type": "execute_result"
    }
   ],
   "source": [
    "len(recipe_urls)\n"
   ]
  },
  {
   "cell_type": "code",
   "execution_count": 444,
   "metadata": {},
   "outputs": [
    {
     "data": {
      "text/plain": [
       "143    https://sallysbakingaddiction.com/homemade-cho...\n",
       "144    https://sallysbakingaddiction.com/peppermint-b...\n",
       "145    https://sallysbakingaddiction.com/sea-salt-van...\n",
       "146    https://sallysbakingaddiction.com/salted-dark-...\n",
       "147    https://sallysbakingaddiction.com/chocolate-pe...\n",
       "148    https://sallysbakingaddiction.com/chocolate-pe...\n",
       "149    https://sallysbakingaddiction.com/chocolate-co...\n",
       "150    https://sallysbakingaddiction.com/chocolate-co...\n",
       "Name: recipe_urls, dtype: object"
      ]
     },
     "execution_count": 444,
     "metadata": {},
     "output_type": "execute_result"
    }
   ],
   "source": [
    "df1 = pd.DataFrame(recipe_urls, columns = ['recipe_urls'])\n",
    "df1['recipe_urls'].astype('str')"
   ]
  },
  {
   "cell_type": "code",
   "execution_count": 412,
   "metadata": {},
   "outputs": [],
   "source": [
    "#final_df = df1.copy()"
   ]
  },
  {
   "cell_type": "code",
   "execution_count": 445,
   "metadata": {},
   "outputs": [
    {
     "data": {
      "text/html": [
       "<div>\n",
       "<style scoped>\n",
       "    .dataframe tbody tr th:only-of-type {\n",
       "        vertical-align: middle;\n",
       "    }\n",
       "\n",
       "    .dataframe tbody tr th {\n",
       "        vertical-align: top;\n",
       "    }\n",
       "\n",
       "    .dataframe thead th {\n",
       "        text-align: right;\n",
       "    }\n",
       "</style>\n",
       "<table border=\"1\" class=\"dataframe\">\n",
       "  <thead>\n",
       "    <tr style=\"text-align: right;\">\n",
       "      <th></th>\n",
       "      <th>recipe_urls</th>\n",
       "    </tr>\n",
       "  </thead>\n",
       "  <tbody>\n",
       "    <tr>\n",
       "      <th>0</th>\n",
       "      <td>https://sallysbakingaddiction.com/homemade-cho...</td>\n",
       "    </tr>\n",
       "    <tr>\n",
       "      <th>1</th>\n",
       "      <td>https://sallysbakingaddiction.com/peppermint-b...</td>\n",
       "    </tr>\n",
       "    <tr>\n",
       "      <th>2</th>\n",
       "      <td>https://sallysbakingaddiction.com/sea-salt-van...</td>\n",
       "    </tr>\n",
       "    <tr>\n",
       "      <th>3</th>\n",
       "      <td>https://sallysbakingaddiction.com/salted-dark-...</td>\n",
       "    </tr>\n",
       "    <tr>\n",
       "      <th>4</th>\n",
       "      <td>https://sallysbakingaddiction.com/peppermint-c...</td>\n",
       "    </tr>\n",
       "    <tr>\n",
       "      <th>...</th>\n",
       "      <td>...</td>\n",
       "    </tr>\n",
       "    <tr>\n",
       "      <th>141</th>\n",
       "      <td>https://sallysbakingaddiction.com/salted-dark-...</td>\n",
       "    </tr>\n",
       "    <tr>\n",
       "      <th>142</th>\n",
       "      <td>https://sallysbakingaddiction.com/chocolate-pe...</td>\n",
       "    </tr>\n",
       "    <tr>\n",
       "      <th>143</th>\n",
       "      <td>https://sallysbakingaddiction.com/chocolate-pe...</td>\n",
       "    </tr>\n",
       "    <tr>\n",
       "      <th>144</th>\n",
       "      <td>https://sallysbakingaddiction.com/chocolate-co...</td>\n",
       "    </tr>\n",
       "    <tr>\n",
       "      <th>145</th>\n",
       "      <td>https://sallysbakingaddiction.com/chocolate-co...</td>\n",
       "    </tr>\n",
       "  </tbody>\n",
       "</table>\n",
       "<p>146 rows × 1 columns</p>\n",
       "</div>"
      ],
      "text/plain": [
       "                                           recipe_urls\n",
       "0    https://sallysbakingaddiction.com/homemade-cho...\n",
       "1    https://sallysbakingaddiction.com/peppermint-b...\n",
       "2    https://sallysbakingaddiction.com/sea-salt-van...\n",
       "3    https://sallysbakingaddiction.com/salted-dark-...\n",
       "4    https://sallysbakingaddiction.com/peppermint-c...\n",
       "..                                                 ...\n",
       "141  https://sallysbakingaddiction.com/salted-dark-...\n",
       "142  https://sallysbakingaddiction.com/chocolate-pe...\n",
       "143  https://sallysbakingaddiction.com/chocolate-pe...\n",
       "144  https://sallysbakingaddiction.com/chocolate-co...\n",
       "145  https://sallysbakingaddiction.com/chocolate-co...\n",
       "\n",
       "[146 rows x 1 columns]"
      ]
     },
     "execution_count": 445,
     "metadata": {},
     "output_type": "execute_result"
    }
   ],
   "source": [
    "final_df = final_df.append(df1,ignore_index=True)\n",
    "final_df"
   ]
  },
  {
   "cell_type": "code",
   "execution_count": 446,
   "metadata": {},
   "outputs": [],
   "source": [
    "final_df.drop_duplicates(subset=None, keep='first', inplace=True)"
   ]
  },
  {
   "cell_type": "code",
   "execution_count": 447,
   "metadata": {},
   "outputs": [],
   "source": [
    "final_df.to_csv(\"check.csv\")"
   ]
  },
  {
   "cell_type": "code",
   "execution_count": 448,
   "metadata": {},
   "outputs": [],
   "source": [
    "final_df = pd.read_csv(\"check.csv\")"
   ]
  },
  {
   "cell_type": "code",
   "execution_count": 449,
   "metadata": {},
   "outputs": [
    {
     "data": {
      "text/html": [
       "<div>\n",
       "<style scoped>\n",
       "    .dataframe tbody tr th:only-of-type {\n",
       "        vertical-align: middle;\n",
       "    }\n",
       "\n",
       "    .dataframe tbody tr th {\n",
       "        vertical-align: top;\n",
       "    }\n",
       "\n",
       "    .dataframe thead th {\n",
       "        text-align: right;\n",
       "    }\n",
       "</style>\n",
       "<table border=\"1\" class=\"dataframe\">\n",
       "  <thead>\n",
       "    <tr style=\"text-align: right;\">\n",
       "      <th></th>\n",
       "      <th>recipe_urls</th>\n",
       "    </tr>\n",
       "  </thead>\n",
       "  <tbody>\n",
       "    <tr>\n",
       "      <th>0</th>\n",
       "      <td>https://sallysbakingaddiction.com/homemade-cho...</td>\n",
       "    </tr>\n",
       "    <tr>\n",
       "      <th>1</th>\n",
       "      <td>https://sallysbakingaddiction.com/peppermint-b...</td>\n",
       "    </tr>\n",
       "    <tr>\n",
       "      <th>2</th>\n",
       "      <td>https://sallysbakingaddiction.com/sea-salt-van...</td>\n",
       "    </tr>\n",
       "    <tr>\n",
       "      <th>3</th>\n",
       "      <td>https://sallysbakingaddiction.com/salted-dark-...</td>\n",
       "    </tr>\n",
       "    <tr>\n",
       "      <th>4</th>\n",
       "      <td>https://sallysbakingaddiction.com/peppermint-c...</td>\n",
       "    </tr>\n",
       "    <tr>\n",
       "      <th>...</th>\n",
       "      <td>...</td>\n",
       "    </tr>\n",
       "    <tr>\n",
       "      <th>56</th>\n",
       "      <td>https://sallysbakingaddiction.com/no-bake-gold...</td>\n",
       "    </tr>\n",
       "    <tr>\n",
       "      <th>57</th>\n",
       "      <td>https://sallysbakingaddiction.com/maple-almond...</td>\n",
       "    </tr>\n",
       "    <tr>\n",
       "      <th>58</th>\n",
       "      <td>https://sallysbakingaddiction.com/pretzel-hugs/</td>\n",
       "    </tr>\n",
       "    <tr>\n",
       "      <th>59</th>\n",
       "      <td>https://sallysbakingaddiction.com/chocolate-pe...</td>\n",
       "    </tr>\n",
       "    <tr>\n",
       "      <th>60</th>\n",
       "      <td>https://sallysbakingaddiction.com/chocolate-co...</td>\n",
       "    </tr>\n",
       "  </tbody>\n",
       "</table>\n",
       "<p>61 rows × 1 columns</p>\n",
       "</div>"
      ],
      "text/plain": [
       "                                          recipe_urls\n",
       "0   https://sallysbakingaddiction.com/homemade-cho...\n",
       "1   https://sallysbakingaddiction.com/peppermint-b...\n",
       "2   https://sallysbakingaddiction.com/sea-salt-van...\n",
       "3   https://sallysbakingaddiction.com/salted-dark-...\n",
       "4   https://sallysbakingaddiction.com/peppermint-c...\n",
       "..                                                ...\n",
       "56  https://sallysbakingaddiction.com/no-bake-gold...\n",
       "57  https://sallysbakingaddiction.com/maple-almond...\n",
       "58    https://sallysbakingaddiction.com/pretzel-hugs/\n",
       "59  https://sallysbakingaddiction.com/chocolate-pe...\n",
       "60  https://sallysbakingaddiction.com/chocolate-co...\n",
       "\n",
       "[61 rows x 1 columns]"
      ]
     },
     "execution_count": 449,
     "metadata": {},
     "output_type": "execute_result"
    }
   ],
   "source": [
    "final_df.drop(columns = 'Unnamed: 0',inplace = True)\n",
    "final_df"
   ]
  },
  {
   "cell_type": "code",
   "execution_count": 237,
   "metadata": {},
   "outputs": [
    {
     "name": "stdout",
     "output_type": "stream",
     "text": [
      "White Chocolate Chai Snickerdoodles\n"
     ]
    }
   ],
   "source": [
    "#to retrive title\n",
    "\n",
    "url = 'https://sallysbakingaddiction.com/white-chocolate-chai-snickerdoodles/'\n",
    "req = Request(url, headers={'User-Agent': 'Mozilla/5.0'})\n",
    "web_byte = urlopen(req).read()\n",
    "webpage = web_byte.decode('utf-8')\n",
    "soup = BeautifulSoup(webpage,\"lxml\")\n",
    "\n",
    "dessert_name = soup.find('h1').text.strip()\n",
    "dessert_name=dessert_name.replace('\"','')\n",
    "print(dessert_name)"
   ]
  },
  {
   "cell_type": "code",
   "execution_count": 238,
   "metadata": {},
   "outputs": [
    {
     "name": "stdout",
     "output_type": "stream",
     "text": [
      "https://cdn.sallysbakingaddiction.com/wp-content/uploads/2017/11/white-chocolate-chai-snickerdoodles.jpg\n"
     ]
    }
   ],
   "source": [
    "#checking image files\n",
    "urls = pd.Series([a.get(\"src\") for a in soup.find_all(\"img\")])\n",
    "urls = urls[(urls.str.contains(\".jpg\")==True) & \n",
    "            (urls.str.contains(\"cdn.sallysbakingaddiction.com/wp-content/uploads/\")==True)].unique()\n",
    "url = urls[0]\n",
    "print(url)"
   ]
  },
  {
   "cell_type": "code",
   "execution_count": 239,
   "metadata": {},
   "outputs": [],
   "source": [
    "#saving image\n",
    "\n",
    "img_data = requests.get(url).content\n",
    "with open(str(dessert_name) +\".jpg\", \"wb\") as handler:\n",
    "    handler.write(img_data)"
   ]
  },
  {
   "cell_type": "markdown",
   "metadata": {},
   "source": [
    "## Code"
   ]
  },
  {
   "cell_type": "code",
   "execution_count": 450,
   "metadata": {},
   "outputs": [],
   "source": [
    "#dessert names\n",
    "def dessert(url):\n",
    "    soup = BeautifulSoup(url,\"lxml\")\n",
    "    try:\n",
    "        dessert_name = soup.find('h1').text.strip()\n",
    "        dessert_name=dessert_name.replace('\"','')\n",
    "        return dessert_name\n",
    "    except:\n",
    "        return np.NaN\n"
   ]
  },
  {
   "cell_type": "code",
   "execution_count": 451,
   "metadata": {},
   "outputs": [],
   "source": [
    "#dessert ingredients\n",
    "def ingredients(url):\n",
    "    soup = BeautifulSoup(url,\"lxml\")\n",
    "    try:\n",
    "        ingredients = []\n",
    "        for para in soup.find_all(class_='tasty-recipes-ingredients-body'):\n",
    "            ingredients.append(para.get_text().strip())\n",
    "        return ingredients\n",
    "    except:\n",
    "        return np.NaN"
   ]
  },
  {
   "cell_type": "code",
   "execution_count": 452,
   "metadata": {},
   "outputs": [],
   "source": [
    "#method\n",
    "def instructions(url):\n",
    "    soup = BeautifulSoup(url,\"lxml\")\n",
    "    try:\n",
    "        instructions = []\n",
    "        for para in soup.find_all(class_=\"tasty-recipes-instructions\"):\n",
    "            instructions.append(para.get_text().strip())\n",
    "        return instructions\n",
    "    except:\n",
    "        return np.NaN"
   ]
  },
  {
   "cell_type": "code",
   "execution_count": 453,
   "metadata": {},
   "outputs": [],
   "source": [
    "#description, serves, cooking time, difficulty\n",
    "def details(url):\n",
    "    soup = BeautifulSoup(url,\"lxml\")\n",
    "    details = []\n",
    "    for para in soup.find_all(class_ = 'tasty-recipes-details'):\n",
    "        details.append(para.get_text().strip())\n",
    "    return details"
   ]
  },
  {
   "cell_type": "code",
   "execution_count": 454,
   "metadata": {},
   "outputs": [],
   "source": [
    "#dessert image\n",
    "def image(url):\n",
    "    soup = BeautifulSoup(url,\"lxml\")\n",
    "    try:\n",
    "        urls = pd.Series([a.get(\"src\") for a in soup.find_all(\"img\")])\n",
    "        urls = urls[(urls.str.contains(\".jpg\")==True) & \n",
    "            (urls.str.contains(\"cdn.sallysbakingaddiction.com/wp-content/uploads/\")==True)].unique()\n",
    "        pic = urls[0]\n",
    "        return pic\n",
    "    except:\n",
    "        return np.NaN"
   ]
  },
  {
   "cell_type": "code",
   "execution_count": 455,
   "metadata": {},
   "outputs": [],
   "source": [
    "title = []\n",
    "ing_name = []\n",
    "method = []\n",
    "det = []\n",
    "img = []\n",
    "for i in range(0,len(final_df['recipe_urls'])): \n",
    "    main_url = final_df['recipe_urls'][i]\n",
    "    req = Request(main_url, headers={'User-Agent': 'Mozilla/5.0'})\n",
    "    web_byte = urlopen(req).read()\n",
    "    webpage = web_byte.decode('utf-8')\n",
    "    title.append(dessert(webpage))\n",
    "    ing_name.append(ingredients(webpage))\n",
    "    method.append(instructions(webpage))\n",
    "    det.append(details(webpage))\n",
    "    img.append(image(webpage))\n",
    "    img_data = requests.get(img[i]).content\n",
    "    with open(str(title[i])+\".jpg\", \"wb\") as handler:\n",
    "        handler.write(img_data)\n"
   ]
  },
  {
   "cell_type": "code",
   "execution_count": 456,
   "metadata": {},
   "outputs": [],
   "source": [
    "attribs = ['recipe_name', 'details', 'ingredients','instructions','image_url','recipe_url']\n",
    "new_df = pd.DataFrame(columns=attribs)\n",
    "new_df['recipe_name'] = title\n",
    "new_df['details'] = det\n",
    "new_df['ingredients'] = ing_name\n",
    "new_df['instructions'] = method\n",
    "new_df['image_url'] = img\n",
    "new_df['recipe_url']= final_df['recipe_urls']"
   ]
  },
  {
   "cell_type": "code",
   "execution_count": 457,
   "metadata": {},
   "outputs": [
    {
     "data": {
      "text/html": [
       "<div>\n",
       "<style scoped>\n",
       "    .dataframe tbody tr th:only-of-type {\n",
       "        vertical-align: middle;\n",
       "    }\n",
       "\n",
       "    .dataframe tbody tr th {\n",
       "        vertical-align: top;\n",
       "    }\n",
       "\n",
       "    .dataframe thead th {\n",
       "        text-align: right;\n",
       "    }\n",
       "</style>\n",
       "<table border=\"1\" class=\"dataframe\">\n",
       "  <thead>\n",
       "    <tr style=\"text-align: right;\">\n",
       "      <th></th>\n",
       "      <th>recipe_name</th>\n",
       "      <th>details</th>\n",
       "      <th>ingredients</th>\n",
       "      <th>instructions</th>\n",
       "      <th>image_url</th>\n",
       "      <th>recipe_url</th>\n",
       "    </tr>\n",
       "  </thead>\n",
       "  <tbody>\n",
       "    <tr>\n",
       "      <th>0</th>\n",
       "      <td>Homemade Chocolate Truffles Recipe</td>\n",
       "      <td>[Author: Sally\\n\\n\\t\\t\\t\\t\\t\\tPrep Time: 2 hou...</td>\n",
       "      <td>[two 4-ounce quality chocolate bars (226g), ve...</td>\n",
       "      <td>[Instructions\\n\\n\\n\\nPlace the chocolate in a ...</td>\n",
       "      <td>https://cdn.sallysbakingaddiction.com/wp-conte...</td>\n",
       "      <td>https://sallysbakingaddiction.com/homemade-cho...</td>\n",
       "    </tr>\n",
       "    <tr>\n",
       "      <th>1</th>\n",
       "      <td>Peppermint Bark</td>\n",
       "      <td>[Author: Sally\\n\\n\\t\\t\\t\\t\\t\\tPrep Time: 30 mi...</td>\n",
       "      <td>[12 ounces (339g) high quality white chocolate...</td>\n",
       "      <td>[Instructions\\n\\n\\n\\nLine the bottom and sides...</td>\n",
       "      <td>https://cdn.sallysbakingaddiction.com/wp-conte...</td>\n",
       "      <td>https://sallysbakingaddiction.com/peppermint-b...</td>\n",
       "    </tr>\n",
       "    <tr>\n",
       "      <th>2</th>\n",
       "      <td>Sea Salt Vanilla Caramels</td>\n",
       "      <td>[Author: Sally\\n\\n\\t\\t\\t\\t\\t\\tPrep Time: 30 mi...</td>\n",
       "      <td>[1 and 1/2 cups (355ml) heavy cream\\n1 cup (20...</td>\n",
       "      <td>[Instructions\\n\\n\\n\\nLine an 8-inch square bak...</td>\n",
       "      <td>https://cdn.sallysbakingaddiction.com/wp-conte...</td>\n",
       "      <td>https://sallysbakingaddiction.com/sea-salt-van...</td>\n",
       "    </tr>\n",
       "    <tr>\n",
       "      <th>3</th>\n",
       "      <td>Salted Dark Chocolate Almond Toffee</td>\n",
       "      <td>[Author: Sally\\n\\n\\t\\t\\t\\t\\t\\tPrep Time: 40 mi...</td>\n",
       "      <td>[2 cups (340g; 12 ounces) whole unsalted almon...</td>\n",
       "      <td>[Instructions\\n\\n\\n\\nHere are step-by-step pho...</td>\n",
       "      <td>https://cdn.sallysbakingaddiction.com/wp-conte...</td>\n",
       "      <td>https://sallysbakingaddiction.com/salted-dark-...</td>\n",
       "    </tr>\n",
       "    <tr>\n",
       "      <th>4</th>\n",
       "      <td>Peppermint Crunch Puppy Chow</td>\n",
       "      <td>[Author: Sally\\n\\n\\t\\t\\t\\t\\t\\tPrep Time: 10 mi...</td>\n",
       "      <td>[5 cups (135g) Rice Chex cereal\\n10 ounces (28...</td>\n",
       "      <td>[Instructions\\n\\n\\n\\nPour the cereal into a la...</td>\n",
       "      <td>https://cdn.sallysbakingaddiction.com/wp-conte...</td>\n",
       "      <td>https://sallysbakingaddiction.com/peppermint-c...</td>\n",
       "    </tr>\n",
       "    <tr>\n",
       "      <th>...</th>\n",
       "      <td>...</td>\n",
       "      <td>...</td>\n",
       "      <td>...</td>\n",
       "      <td>...</td>\n",
       "      <td>...</td>\n",
       "      <td>...</td>\n",
       "    </tr>\n",
       "    <tr>\n",
       "      <th>56</th>\n",
       "      <td>Golden Oreo Truffles</td>\n",
       "      <td>[Author: Sally\\n\\n\\t\\t\\t\\t\\t\\tPrep Time: 40 mi...</td>\n",
       "      <td>[1 package (8 oz) cream cheese, softened\\n1 pa...</td>\n",
       "      <td>[Instructions\\n\\n\\n\\nProcess the Oreos (the en...</td>\n",
       "      <td>https://cdn.sallysbakingaddiction.com/wp-conte...</td>\n",
       "      <td>https://sallysbakingaddiction.com/no-bake-gold...</td>\n",
       "    </tr>\n",
       "    <tr>\n",
       "      <th>57</th>\n",
       "      <td>Maple Almond Granola Clusters</td>\n",
       "      <td>[Author: Sally\\n\\n\\t\\t\\t\\t\\t\\tPrep Time: 15 mi...</td>\n",
       "      <td>[3 cups old-fashioned rolled oats\\n1/2 cup alm...</td>\n",
       "      <td>[Instructions\\n\\n\\n\\nPreheat oven to 300°F (14...</td>\n",
       "      <td>https://cdn.sallysbakingaddiction.com/wp-conte...</td>\n",
       "      <td>https://sallysbakingaddiction.com/maple-almond...</td>\n",
       "    </tr>\n",
       "    <tr>\n",
       "      <th>58</th>\n",
       "      <td>Pretzel Hugs</td>\n",
       "      <td>[Author: Sally\\n\\n\\t\\t\\t\\t\\t\\tPrep Time: 10 mi...</td>\n",
       "      <td>[circle or square-shaped pretzels\\nHershey ‘s ...</td>\n",
       "      <td>[Instructions\\n\\n\\n\\nPreheat oven to 250°F (12...</td>\n",
       "      <td>https://cdn.sallysbakingaddiction.com/wp-conte...</td>\n",
       "      <td>https://sallysbakingaddiction.com/pretzel-hugs/</td>\n",
       "    </tr>\n",
       "    <tr>\n",
       "      <th>59</th>\n",
       "      <td>Chocolate Peanut Butter Pretzel Bites</td>\n",
       "      <td>[Author: Sally\\n\\n\\t\\t\\t\\t\\t\\tPrep Time: 45 mi...</td>\n",
       "      <td>[1 cup (250g) creamy peanut butter\\n2 Tablespo...</td>\n",
       "      <td>[Instructions\\n\\n\\n\\nLine a large baking sheet...</td>\n",
       "      <td>https://cdn.sallysbakingaddiction.com/wp-conte...</td>\n",
       "      <td>https://sallysbakingaddiction.com/chocolate-pe...</td>\n",
       "    </tr>\n",
       "    <tr>\n",
       "      <th>60</th>\n",
       "      <td>Chocolate Covered Pretzels</td>\n",
       "      <td>[Author: Sally\\n\\n\\t\\t\\t\\t\\t\\tPrep Time: 10 mi...</td>\n",
       "      <td>[two 4-ounce quality semi-sweet chocolate bars...</td>\n",
       "      <td>[Instructions\\n\\n\\n\\nLine a large baking sheet...</td>\n",
       "      <td>https://cdn.sallysbakingaddiction.com/wp-conte...</td>\n",
       "      <td>https://sallysbakingaddiction.com/chocolate-co...</td>\n",
       "    </tr>\n",
       "  </tbody>\n",
       "</table>\n",
       "<p>61 rows × 6 columns</p>\n",
       "</div>"
      ],
      "text/plain": [
       "                              recipe_name  \\\n",
       "0      Homemade Chocolate Truffles Recipe   \n",
       "1                         Peppermint Bark   \n",
       "2               Sea Salt Vanilla Caramels   \n",
       "3     Salted Dark Chocolate Almond Toffee   \n",
       "4            Peppermint Crunch Puppy Chow   \n",
       "..                                    ...   \n",
       "56                   Golden Oreo Truffles   \n",
       "57          Maple Almond Granola Clusters   \n",
       "58                           Pretzel Hugs   \n",
       "59  Chocolate Peanut Butter Pretzel Bites   \n",
       "60             Chocolate Covered Pretzels   \n",
       "\n",
       "                                              details  \\\n",
       "0   [Author: Sally\\n\\n\\t\\t\\t\\t\\t\\tPrep Time: 2 hou...   \n",
       "1   [Author: Sally\\n\\n\\t\\t\\t\\t\\t\\tPrep Time: 30 mi...   \n",
       "2   [Author: Sally\\n\\n\\t\\t\\t\\t\\t\\tPrep Time: 30 mi...   \n",
       "3   [Author: Sally\\n\\n\\t\\t\\t\\t\\t\\tPrep Time: 40 mi...   \n",
       "4   [Author: Sally\\n\\n\\t\\t\\t\\t\\t\\tPrep Time: 10 mi...   \n",
       "..                                                ...   \n",
       "56  [Author: Sally\\n\\n\\t\\t\\t\\t\\t\\tPrep Time: 40 mi...   \n",
       "57  [Author: Sally\\n\\n\\t\\t\\t\\t\\t\\tPrep Time: 15 mi...   \n",
       "58  [Author: Sally\\n\\n\\t\\t\\t\\t\\t\\tPrep Time: 10 mi...   \n",
       "59  [Author: Sally\\n\\n\\t\\t\\t\\t\\t\\tPrep Time: 45 mi...   \n",
       "60  [Author: Sally\\n\\n\\t\\t\\t\\t\\t\\tPrep Time: 10 mi...   \n",
       "\n",
       "                                          ingredients  \\\n",
       "0   [two 4-ounce quality chocolate bars (226g), ve...   \n",
       "1   [12 ounces (339g) high quality white chocolate...   \n",
       "2   [1 and 1/2 cups (355ml) heavy cream\\n1 cup (20...   \n",
       "3   [2 cups (340g; 12 ounces) whole unsalted almon...   \n",
       "4   [5 cups (135g) Rice Chex cereal\\n10 ounces (28...   \n",
       "..                                                ...   \n",
       "56  [1 package (8 oz) cream cheese, softened\\n1 pa...   \n",
       "57  [3 cups old-fashioned rolled oats\\n1/2 cup alm...   \n",
       "58  [circle or square-shaped pretzels\\nHershey ‘s ...   \n",
       "59  [1 cup (250g) creamy peanut butter\\n2 Tablespo...   \n",
       "60  [two 4-ounce quality semi-sweet chocolate bars...   \n",
       "\n",
       "                                         instructions  \\\n",
       "0   [Instructions\\n\\n\\n\\nPlace the chocolate in a ...   \n",
       "1   [Instructions\\n\\n\\n\\nLine the bottom and sides...   \n",
       "2   [Instructions\\n\\n\\n\\nLine an 8-inch square bak...   \n",
       "3   [Instructions\\n\\n\\n\\nHere are step-by-step pho...   \n",
       "4   [Instructions\\n\\n\\n\\nPour the cereal into a la...   \n",
       "..                                                ...   \n",
       "56  [Instructions\\n\\n\\n\\nProcess the Oreos (the en...   \n",
       "57  [Instructions\\n\\n\\n\\nPreheat oven to 300°F (14...   \n",
       "58  [Instructions\\n\\n\\n\\nPreheat oven to 250°F (12...   \n",
       "59  [Instructions\\n\\n\\n\\nLine a large baking sheet...   \n",
       "60  [Instructions\\n\\n\\n\\nLine a large baking sheet...   \n",
       "\n",
       "                                            image_url  \\\n",
       "0   https://cdn.sallysbakingaddiction.com/wp-conte...   \n",
       "1   https://cdn.sallysbakingaddiction.com/wp-conte...   \n",
       "2   https://cdn.sallysbakingaddiction.com/wp-conte...   \n",
       "3   https://cdn.sallysbakingaddiction.com/wp-conte...   \n",
       "4   https://cdn.sallysbakingaddiction.com/wp-conte...   \n",
       "..                                                ...   \n",
       "56  https://cdn.sallysbakingaddiction.com/wp-conte...   \n",
       "57  https://cdn.sallysbakingaddiction.com/wp-conte...   \n",
       "58  https://cdn.sallysbakingaddiction.com/wp-conte...   \n",
       "59  https://cdn.sallysbakingaddiction.com/wp-conte...   \n",
       "60  https://cdn.sallysbakingaddiction.com/wp-conte...   \n",
       "\n",
       "                                           recipe_url  \n",
       "0   https://sallysbakingaddiction.com/homemade-cho...  \n",
       "1   https://sallysbakingaddiction.com/peppermint-b...  \n",
       "2   https://sallysbakingaddiction.com/sea-salt-van...  \n",
       "3   https://sallysbakingaddiction.com/salted-dark-...  \n",
       "4   https://sallysbakingaddiction.com/peppermint-c...  \n",
       "..                                                ...  \n",
       "56  https://sallysbakingaddiction.com/no-bake-gold...  \n",
       "57  https://sallysbakingaddiction.com/maple-almond...  \n",
       "58    https://sallysbakingaddiction.com/pretzel-hugs/  \n",
       "59  https://sallysbakingaddiction.com/chocolate-pe...  \n",
       "60  https://sallysbakingaddiction.com/chocolate-co...  \n",
       "\n",
       "[61 rows x 6 columns]"
      ]
     },
     "execution_count": 457,
     "metadata": {},
     "output_type": "execute_result"
    }
   ],
   "source": [
    "new_df"
   ]
  },
  {
   "cell_type": "code",
   "execution_count": 458,
   "metadata": {},
   "outputs": [
    {
     "data": {
      "text/plain": [
       "recipe_name     0\n",
       "details         0\n",
       "ingredients     0\n",
       "instructions    0\n",
       "image_url       0\n",
       "recipe_url      0\n",
       "dtype: int64"
      ]
     },
     "execution_count": 458,
     "metadata": {},
     "output_type": "execute_result"
    }
   ],
   "source": [
    "new_df.isnull().sum()"
   ]
  },
  {
   "cell_type": "code",
   "execution_count": 460,
   "metadata": {},
   "outputs": [],
   "source": [
    "new_df.to_csv(\"Bread_new.csv\")"
   ]
  },
  {
   "cell_type": "code",
   "execution_count": null,
   "metadata": {},
   "outputs": [],
   "source": []
  },
  {
   "cell_type": "code",
   "execution_count": null,
   "metadata": {},
   "outputs": [],
   "source": []
  },
  {
   "cell_type": "code",
   "execution_count": null,
   "metadata": {},
   "outputs": [],
   "source": []
  },
  {
   "cell_type": "code",
   "execution_count": null,
   "metadata": {},
   "outputs": [],
   "source": []
  },
  {
   "cell_type": "code",
   "execution_count": null,
   "metadata": {},
   "outputs": [],
   "source": []
  }
 ],
 "metadata": {
  "kernelspec": {
   "display_name": "Python 3 (ipykernel)",
   "language": "python",
   "name": "python3"
  },
  "language_info": {
   "codemirror_mode": {
    "name": "ipython",
    "version": 3
   },
   "file_extension": ".py",
   "mimetype": "text/x-python",
   "name": "python",
   "nbconvert_exporter": "python",
   "pygments_lexer": "ipython3",
   "version": "3.8.12"
  }
 },
 "nbformat": 4,
 "nbformat_minor": 4
}
