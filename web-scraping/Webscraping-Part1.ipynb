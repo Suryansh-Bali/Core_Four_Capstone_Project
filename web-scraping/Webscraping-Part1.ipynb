{
 "cells": [
  {
   "cell_type": "code",
   "execution_count": 1,
   "metadata": {},
   "outputs": [],
   "source": [
    "# Import the required libraries \n",
    "import pandas as pd\n",
    "from bs4 import BeautifulSoup \n",
    "import requests\n",
    "import time"
   ]
  },
  {
   "cell_type": "code",
   "execution_count": 2,
   "metadata": {},
   "outputs": [],
   "source": [
    "# Define the url in python \n",
    "url = \"https://www.jamieoliver.com/recipes/beautiful-baking/cake/\""
   ]
  },
  {
   "cell_type": "code",
   "execution_count": 3,
   "metadata": {},
   "outputs": [],
   "source": [
    "# Fetching html from the website\n",
    "page = requests.get(url)\n",
    "# BeautifulSoup enables to find the elements/tags in a webpage \n",
    "soup = BeautifulSoup(page.text, \"html.parser\")"
   ]
  },
  {
   "cell_type": "code",
   "execution_count": 4,
   "metadata": {},
   "outputs": [
    {
     "name": "stdout",
     "output_type": "stream",
     "text": [
      "['/recipes/chocolate-recipes/lime-coconut-roulade/', '/recipes/beetroot-recipes/apricot-root-veg-cake-with-honey-yoghurt-icing/', '/recipes/chocolate-recipes/spiced-chocolate-dried-fig-christmas-cake-with-dark-chocolate-glaze/', '/recipes/cake-recipes/brazilian-polenta-cake/', '/recipes/fruit-recipes/strawberry-cream-sandwich-sponge/', '/recipes/uncategorised-recipes/epic-ice-cream-cake/', '/recipes/chocolate-recipes/chocolate-guinness-cake/', '/recipes/fruit-recipes/soaked-pistachio-citrus-cake/', '/recipes/vegetables-recipes/chai-spiced-carrot-cake/', '/recipes/chocolate-recipes/chocolate-whoopie-pies/', '/recipes/cheese-recipes/neapolitan-easter-tart/', '/recipes/uncategorised-recipes/ginger-treacle-cake-with-ice-cream/', '/recipes/fruit-recipes/pineapple-coconut-cake/', '/recipes/fruit-recipes/vegan-toffee-apple-upside-down-cake/', '/recipes/fruit-recipes/winter-ginger-pear-and-almond-cake/', '/recipes/chocolate-recipes/hazelnut-honey-cake/', '/recipes/fruit-recipes/marmalade-cake/', '/recipes/uncategorised-recipes/double-ginger-cake/', '/recipes/uncategorised-recipes/confetti-cake/']\n"
     ]
    }
   ],
   "source": [
    "links = []\n",
    "for link in soup.find_all('a'):\n",
    "    links.append(link.get('href'))\n",
    "print(links[101:120])"
   ]
  },
  {
   "cell_type": "code",
   "execution_count": 5,
   "metadata": {},
   "outputs": [],
   "source": [
    "# Filtering the urls to only ones containing recipes \n",
    "import pandas as pd\n",
    "recipe_urls = pd.Series([a.get(\"href\") for a in soup.find_all(\"a\")])\n",
    "recipe_urls = recipe_urls[(recipe_urls.str.count(\"-\")>0) &                    \n",
    "                          (recipe_urls.str.contains(\"/recipes/\")==True) &        \n",
    "                          (recipe_urls.str.contains(\"-recipes/\")==True) & \n",
    "                          (recipe_urls.str.contains(\"course\")==False) & \n",
    "                          (recipe_urls.str.contains(\"books\")==False) & \n",
    "                          (recipe_urls.str.endswith(\"recipes/\")==False)].unique()"
   ]
  },
  {
   "cell_type": "code",
   "execution_count": 6,
   "metadata": {},
   "outputs": [
    {
     "data": {
      "text/plain": [
       "array(['/recipes/sweets-and-desserts-recipes/scrumptious-sticky-toffee-pudding/',\n",
       "       '/recipes/cake-recipes/drizzle-bundt-cake/',\n",
       "       '/recipes/cake-recipes/capt-tom-moores-coffee-and-walnut-birthday-cake/',\n",
       "       '/recipes/fruit-recipes/archies-royal-roulade/',\n",
       "       '/recipes/fruit-recipes/oranges-and-polenta-cake/',\n",
       "       '/recipes/fruit-recipes/blueberry-cornmeal-skillet-cake/',\n",
       "       '/recipes/chocolate-recipes/lime-coconut-roulade/',\n",
       "       '/recipes/beetroot-recipes/apricot-root-veg-cake-with-honey-yoghurt-icing/',\n",
       "       '/recipes/chocolate-recipes/spiced-chocolate-dried-fig-christmas-cake-with-dark-chocolate-glaze/',\n",
       "       '/recipes/cake-recipes/brazilian-polenta-cake/',\n",
       "       '/recipes/fruit-recipes/strawberry-cream-sandwich-sponge/',\n",
       "       '/recipes/uncategorised-recipes/epic-ice-cream-cake/',\n",
       "       '/recipes/chocolate-recipes/chocolate-guinness-cake/',\n",
       "       '/recipes/fruit-recipes/soaked-pistachio-citrus-cake/',\n",
       "       '/recipes/vegetables-recipes/chai-spiced-carrot-cake/',\n",
       "       '/recipes/chocolate-recipes/chocolate-whoopie-pies/',\n",
       "       '/recipes/cheese-recipes/neapolitan-easter-tart/',\n",
       "       '/recipes/uncategorised-recipes/ginger-treacle-cake-with-ice-cream/',\n",
       "       '/recipes/fruit-recipes/pineapple-coconut-cake/',\n",
       "       '/recipes/fruit-recipes/vegan-toffee-apple-upside-down-cake/',\n",
       "       '/recipes/fruit-recipes/winter-ginger-pear-and-almond-cake/',\n",
       "       '/recipes/chocolate-recipes/hazelnut-honey-cake/',\n",
       "       '/recipes/fruit-recipes/marmalade-cake/',\n",
       "       '/recipes/uncategorised-recipes/double-ginger-cake/',\n",
       "       '/recipes/uncategorised-recipes/confetti-cake/',\n",
       "       '/recipes/eggs-recipes/maple-crepe-cake-with-caramelised-pancetta/',\n",
       "       '/recipes/uncategorised-recipes/the-best-coffee-walnut-cake/',\n",
       "       '/recipes/fruit-recipes/whisky-simnel-cake/',\n",
       "       '/recipes/chocolate-recipes/baumkuchen/',\n",
       "       '/recipes/chocolate-recipes/raw-chocolate-cake/',\n",
       "       '/recipes/bread-recipes/kugelhopf/',\n",
       "       '/recipes/chocolate-recipes/chocolate-pumpkin-loaf/',\n",
       "       '/recipes/chocolate-recipes/flourless-chocolate-cake/',\n",
       "       '/recipes/chocolate-recipes/food-allergy-mums-really-chocolatey-chocolate-cake/',\n",
       "       '/recipes/fruit-recipes/amalfi-lemon-layer-cake/',\n",
       "       '/recipes/fruit-recipes/royal-charlotte-lemon-drizzle-cake/',\n",
       "       '/recipes/fruit-recipes/orange-polenta-cake/',\n",
       "       '/recipes/fruit-recipes/cranachan-raspberry-cake/',\n",
       "       '/recipes/chocolate-recipes/chocolate-celebration-cake/',\n",
       "       '/recipes/fruit-recipes/hummingbird-cake/',\n",
       "       '/recipes/fruit-recipes/gluten-free-apple-christmas-cake/',\n",
       "       '/recipes/vegetables-recipes/gluten-free-carrot-cake/',\n",
       "       '/recipes/fruit-recipes/dairy-free-banana-loaf/',\n",
       "       '/recipes/chocolate-recipes/prune-armagnac-cake/',\n",
       "       '/recipes/fruit-recipes/vegan-victoria-sponge/',\n",
       "       '/recipes/fruit-recipes/gluten-free-lemon-cake/',\n",
       "       '/recipes/chocolate-recipes/epic-vegan-chocolate-cake/',\n",
       "       '/recipes/fruit-recipes/banana-bread/',\n",
       "       '/recipes/chocolate-recipes/epic-chocolate-and-beetroot-cake/',\n",
       "       '/recipes/fruit-recipes/my-nan-s-st-clement-s-cake/',\n",
       "       '/recipes/fruit-recipes/jammy-coconut-sponge/',\n",
       "       '/recipes/fruit-recipes/queen-victoria-sponge/',\n",
       "       '/recipes/fruit-recipes/walnut-and-banana-loaf/',\n",
       "       '/recipes/fruit-recipes/victoria-sandwich/',\n",
       "       '/recipes/fruit-recipes/my-nan-s-lemon-drizzle-cake/',\n",
       "       '/recipes/fruit-recipes/mother-s-day-rhubarb-and-ginger-muffins/',\n",
       "       '/recipes/chocolate-recipes/mega-chocolate-fudge-cake/',\n",
       "       '/recipes/chocolate-recipes/chocolate-love-cake-with-cherries-and-booze/',\n",
       "       '/recipes/fruit-recipes/bolognese-polenta-and-apple-cake-bustrengo/',\n",
       "       '/recipes/fruit-recipes/apple-pepper-pot-cake/',\n",
       "       '/recipes/fruit-recipes/almond-cake-with-lemon-poppy-seeds/'],\n",
       "      dtype=object)"
      ]
     },
     "execution_count": 6,
     "metadata": {},
     "output_type": "execute_result"
    }
   ],
   "source": [
    "recipe_urls"
   ]
  },
  {
   "cell_type": "code",
   "execution_count": 7,
   "metadata": {},
   "outputs": [
    {
     "data": {
      "text/plain": [
       "61"
      ]
     },
     "execution_count": 7,
     "metadata": {},
     "output_type": "execute_result"
    }
   ],
   "source": [
    "len(recipe_urls)"
   ]
  },
  {
   "cell_type": "code",
   "execution_count": 8,
   "metadata": {},
   "outputs": [],
   "source": [
    "df = pd.DataFrame(recipe_urls, columns = ['recipe_urls'])"
   ]
  },
  {
   "cell_type": "code",
   "execution_count": 9,
   "metadata": {},
   "outputs": [
    {
     "data": {
      "text/plain": [
       "0     /recipes/sweets-and-desserts-recipes/scrumptio...\n",
       "1             /recipes/cake-recipes/drizzle-bundt-cake/\n",
       "2     /recipes/cake-recipes/capt-tom-moores-coffee-a...\n",
       "3         /recipes/fruit-recipes/archies-royal-roulade/\n",
       "4      /recipes/fruit-recipes/oranges-and-polenta-cake/\n",
       "                            ...                        \n",
       "56    /recipes/chocolate-recipes/mega-chocolate-fudg...\n",
       "57    /recipes/chocolate-recipes/chocolate-love-cake...\n",
       "58    /recipes/fruit-recipes/bolognese-polenta-and-a...\n",
       "59        /recipes/fruit-recipes/apple-pepper-pot-cake/\n",
       "60    /recipes/fruit-recipes/almond-cake-with-lemon-...\n",
       "Name: recipe_urls, Length: 61, dtype: object"
      ]
     },
     "execution_count": 9,
     "metadata": {},
     "output_type": "execute_result"
    }
   ],
   "source": [
    "df['recipe_urls'].astype('str')"
   ]
  },
  {
   "cell_type": "code",
   "execution_count": 18,
   "metadata": {},
   "outputs": [
    {
     "data": {
      "text/html": [
       "<div>\n",
       "<style scoped>\n",
       "    .dataframe tbody tr th:only-of-type {\n",
       "        vertical-align: middle;\n",
       "    }\n",
       "\n",
       "    .dataframe tbody tr th {\n",
       "        vertical-align: top;\n",
       "    }\n",
       "\n",
       "    .dataframe thead th {\n",
       "        text-align: right;\n",
       "    }\n",
       "</style>\n",
       "<table border=\"1\" class=\"dataframe\">\n",
       "  <thead>\n",
       "    <tr style=\"text-align: right;\">\n",
       "      <th></th>\n",
       "      <th>recipe_urls</th>\n",
       "    </tr>\n",
       "  </thead>\n",
       "  <tbody>\n",
       "    <tr>\n",
       "      <th>0</th>\n",
       "      <td>https://www.jamieoliver.com/recipes/fruit-reci...</td>\n",
       "    </tr>\n",
       "    <tr>\n",
       "      <th>1</th>\n",
       "      <td>https://www.jamieoliver.com/recipes/fruit-reci...</td>\n",
       "    </tr>\n",
       "    <tr>\n",
       "      <th>2</th>\n",
       "      <td>https://www.jamieoliver.com/recipes/chocolate-...</td>\n",
       "    </tr>\n",
       "    <tr>\n",
       "      <th>3</th>\n",
       "      <td>https://www.jamieoliver.com/recipes/chocolate-...</td>\n",
       "    </tr>\n",
       "    <tr>\n",
       "      <th>4</th>\n",
       "      <td>https://www.jamieoliver.com/recipes/chocolate-...</td>\n",
       "    </tr>\n",
       "    <tr>\n",
       "      <th>5</th>\n",
       "      <td>https://www.jamieoliver.com/recipes/fruit-reci...</td>\n",
       "    </tr>\n",
       "    <tr>\n",
       "      <th>6</th>\n",
       "      <td>https://www.jamieoliver.com/recipes/chocolate-...</td>\n",
       "    </tr>\n",
       "    <tr>\n",
       "      <th>7</th>\n",
       "      <td>https://www.jamieoliver.com/recipes/chocolate-...</td>\n",
       "    </tr>\n",
       "    <tr>\n",
       "      <th>8</th>\n",
       "      <td>https://www.jamieoliver.com/recipes/chocolate-...</td>\n",
       "    </tr>\n",
       "    <tr>\n",
       "      <th>9</th>\n",
       "      <td>https://www.jamieoliver.com/recipes/fruit-reci...</td>\n",
       "    </tr>\n",
       "    <tr>\n",
       "      <th>10</th>\n",
       "      <td>https://www.jamieoliver.com/recipes/chocolate-...</td>\n",
       "    </tr>\n",
       "    <tr>\n",
       "      <th>11</th>\n",
       "      <td>https://www.jamieoliver.com/recipes/chocolate-...</td>\n",
       "    </tr>\n",
       "  </tbody>\n",
       "</table>\n",
       "</div>"
      ],
      "text/plain": [
       "                                          recipe_urls\n",
       "0   https://www.jamieoliver.com/recipes/fruit-reci...\n",
       "1   https://www.jamieoliver.com/recipes/fruit-reci...\n",
       "2   https://www.jamieoliver.com/recipes/chocolate-...\n",
       "3   https://www.jamieoliver.com/recipes/chocolate-...\n",
       "4   https://www.jamieoliver.com/recipes/chocolate-...\n",
       "5   https://www.jamieoliver.com/recipes/fruit-reci...\n",
       "6   https://www.jamieoliver.com/recipes/chocolate-...\n",
       "7   https://www.jamieoliver.com/recipes/chocolate-...\n",
       "8   https://www.jamieoliver.com/recipes/chocolate-...\n",
       "9   https://www.jamieoliver.com/recipes/fruit-reci...\n",
       "10  https://www.jamieoliver.com/recipes/chocolate-...\n",
       "11  https://www.jamieoliver.com/recipes/chocolate-..."
      ]
     },
     "execution_count": 18,
     "metadata": {},
     "output_type": "execute_result"
    }
   ],
   "source": []
  },
  {
   "cell_type": "code",
   "execution_count": 155,
   "metadata": {},
   "outputs": [
    {
     "name": "stdout",
     "output_type": "stream",
     "text": [
      "Peanut butter cookies\n"
     ]
    }
   ],
   "source": [
    "#to retrive title\n",
    "\n",
    "#url = 'https://www.jamieoliver.com/recipes/fruit-recipes/apple-crumble-cookies/'\n",
    "#url = 'https://www.jamieoliver.com/recipes/fruit-recipes/everything-cookies/'\n",
    "url = 'https://www.jamieoliver.com/recipes/chocolate-recipes/peanut-butter-cookies/'\n",
    "soup = BeautifulSoup(requests.get(url).content, 'html.parser')\n",
    "dessert_name = soup.find('h1').text.strip()\n",
    "print(dessert_name)"
   ]
  },
  {
   "cell_type": "code",
   "execution_count": 147,
   "metadata": {},
   "outputs": [
    {
     "name": "stdout",
     "output_type": "stream",
     "text": [
      "['200 g oats', '100 g chocolate', '125 g wholemeal or spelt flour', '1 teaspoon baking powder', '100 g unsalted butter (at room temperature)', '100 g smooth peanut butter', '200 g light muscovado sugar', '200 g dark muscovado sugar', '1 teaspoon vanilla extract', '2 free-range eggs', '200 g icing sugar', 'natural food colouring , optional', 'Smarties , optional', 'icing pens , optional']\n"
     ]
    }
   ],
   "source": [
    "#to retrive ingredients\n",
    "\n",
    "ingredients = []\n",
    "for li in soup.select('.ingred-list li'):\n",
    "    ingred = ' '.join(li.text.split())\n",
    "    ingredients.append(ingred)\n",
    "print(ingredients)"
   ]
  },
  {
   "cell_type": "code",
   "execution_count": 148,
   "metadata": {},
   "outputs": [
    {
     "name": "stdout",
     "output_type": "stream",
     "text": [
      "['Preheat the oven to 180ºC/gas 4. In a food processor, blitz the oats to a fine powder. Roughly chop the chocolate. Add the oats and chocolate to a bowl with the flour and baking powder, mix to combine and set aside.', 'Place the butter, peanut butter, sugars and vanilla extract in a bowl and, using either an electric whisk or by hand, beat them together until whipped and creamy.', 'Add the eggs, followed by the dry ingredients, and mix well with a wooden spoon until everything is combined and you have a stiff dough.', 'Place heaped teaspoons of the mixture on the baking sheets, leaving 3cm between each one. Bake in the oven for 8 to 10 minutes, until golden around the edges, then remove from the oven and leave to cool for 5 minutes before transferring to a wire rack to cool completely.', 'To make the icing, sift the icing sugar into a bowl and mix in a few drops of water until it’s a spreadable consistency. You could add natural food colouring, if you like.', 'Ice the cooled cookies and decorate with Smarties (if using). Get the kids to write names on them with icing pens, or make a little extra icing in a different colour, and spoon it into a small piping bag with a fine nozzle.']\n"
     ]
    }
   ],
   "source": [
    "#to retrive instructions\n",
    "\n",
    "instructions = []\n",
    "for li in soup.select('.recipeSteps li'):\n",
    "    inst = ' '.join(li.text.split())\n",
    "    instructions.append(inst)\n",
    "print(instructions)"
   ]
  },
  {
   "cell_type": "code",
   "execution_count": 149,
   "metadata": {},
   "outputs": [
    {
     "name": "stdout",
     "output_type": "stream",
     "text": [
      "[\"“These iced biscuits make great placeholders for the Christmas table, or even personalised gifts for your kids' classmates. ”\", 'Makes about 24                                                    \\n\\nCooks In35 minutes plus cooling                                                    \\n\\nDifficultyNot too tricky', 'Makes about 24                                                    \\n\\nCooks In35 minutes plus cooling                                                    \\n\\nDifficultyNot too tricky', 'Makes about 24', 'Cooks In35 minutes plus cooling', 'DifficultyNot too tricky']\n"
     ]
    }
   ],
   "source": [
    "#to retrive details\n",
    "\n",
    "details = []\n",
    "for para in soup.select('.col-md-12 div'):\n",
    "    details.append(para.get_text().strip())\n",
    "print(details)"
   ]
  },
  {
   "cell_type": "code",
   "execution_count": 158,
   "metadata": {},
   "outputs": [
    {
     "name": "stdout",
     "output_type": "stream",
     "text": [
      "https://cdn.jamieoliver.com/library/images/closebutton.svg\n",
      "https://img.jamieoliver.com/jamieoliver/recipe-database/A2xZgYEh4Fd87FCi7AGv5E.jpg?tr=w-800,h-1066\n",
      "https://img.jamieoliver.com/jamieoliver/recipe-database/originalSourceImage/16244a096125da879b3ceb332f0e8a37.jpeg?tr=w-140\n",
      "https://img.jamieoliver.com/jamieoliver/recipe-database/originalSourceImage/16244a096125da879b3ceb332f0e8a37.jpeg?tr=w-140\n",
      "https://cdn.jamieoliver.com/library/images/placeholder/square.gif\n",
      "https://cdn.jamieoliver.com/library/images/placeholder/square.gif\n",
      "https://cdn.jamieoliver.com/library/images/placeholder/square.gif\n",
      "https://img.jamieoliver.com/jamieoliver/recipe-database/originalSourceImage/16244a096125da879b3ceb332f0e8a37.jpeg?tr=w-140\n",
      "https://img.jamieoliver.com/jamieoliver/vi/2Hre_944b7Y/maxresdefault.jpg?tr=w-330\n"
     ]
    }
   ],
   "source": [
    "#checking image files\n",
    "\n",
    "for item in soup.find_all('img'):\n",
    "    print(item['src'])"
   ]
  },
  {
   "cell_type": "code",
   "execution_count": 161,
   "metadata": {},
   "outputs": [
    {
     "name": "stdout",
     "output_type": "stream",
     "text": [
      "https://img.jamieoliver.com/jamieoliver/recipe-database/A2xZgYEh4Fd87FCi7AGv5E.jpg?tr=w-800,h-1066\n"
     ]
    }
   ],
   "source": [
    "#to retrieve image url\n",
    "\n",
    "images = []\n",
    "url =[]\n",
    "for image in soup.find_all('img'):\n",
    "    images.append(image['src'])\n",
    "url = images[1]\n",
    "print(url)"
   ]
  },
  {
   "cell_type": "code",
   "execution_count": 170,
   "metadata": {},
   "outputs": [],
   "source": [
    "#saving image\n",
    "\n",
    "img_data = requests.get(url).content\n",
    "with open(str(dessert_name)+\".jpg\", \"wb\") as handler:\n",
    "    handler.write(img_data)"
   ]
  },
  {
   "cell_type": "code",
   "execution_count": null,
   "metadata": {},
   "outputs": [],
   "source": []
  },
  {
   "cell_type": "markdown",
   "metadata": {},
   "source": [
    "## Code"
   ]
  },
  {
   "cell_type": "code",
   "execution_count": 10,
   "metadata": {},
   "outputs": [],
   "source": [
    "#dessert names\n",
    "def dessert(url):\n",
    "    soup = BeautifulSoup(requests.get(url).content, 'html.parser')\n",
    "    dessert_name = soup.find('h1').text.strip()\n",
    "    return dessert_name\n"
   ]
  },
  {
   "cell_type": "code",
   "execution_count": 11,
   "metadata": {},
   "outputs": [],
   "source": [
    "#dessert ingredients\n",
    "def ingredients(url):\n",
    "    soup = BeautifulSoup(requests.get(url).content, 'html.parser')\n",
    "    try:\n",
    "        ingredients = []\n",
    "        for li in soup.select('.ingred-list li'):\n",
    "            ingred = ' '.join(li.text.split())\n",
    "            ingredients.append(ingred)\n",
    "        return ingredients\n",
    "    except:\n",
    "        return np.nan"
   ]
  },
  {
   "cell_type": "code",
   "execution_count": 12,
   "metadata": {},
   "outputs": [],
   "source": [
    "#method\n",
    "def instructions(url):\n",
    "    soup = BeautifulSoup(requests.get(url).content, 'html.parser')\n",
    "    try:\n",
    "        instructions = []\n",
    "        for li in soup.select('.recipeSteps li'):\n",
    "            inst = ' '.join(li.text.split())\n",
    "            instructions.append(inst)\n",
    "        return instructions\n",
    "    except:\n",
    "        return np.nan"
   ]
  },
  {
   "cell_type": "code",
   "execution_count": 13,
   "metadata": {},
   "outputs": [],
   "source": [
    "#description, serves, cooking time, difficulty\n",
    "def details(url):\n",
    "    soup = BeautifulSoup(requests.get(url).content, 'html.parser')\n",
    "    details = []\n",
    "    for para in soup.select('.col-md-12 div'):\n",
    "        details.append(para.get_text().strip())\n",
    "    return details"
   ]
  },
  {
   "cell_type": "code",
   "execution_count": 14,
   "metadata": {},
   "outputs": [],
   "source": [
    "#dessert image\n",
    "def image(url):\n",
    "    soup = BeautifulSoup(requests.get(url).content, 'html.parser')\n",
    "    images = []\n",
    "    link =[]\n",
    "    for image in soup.find_all('img'):\n",
    "        images.append(image['src'])\n",
    "    link = images[1]\n",
    "    return link"
   ]
  },
  {
   "cell_type": "code",
   "execution_count": 15,
   "metadata": {},
   "outputs": [
    {
     "ename": "MissingSchema",
     "evalue": "Invalid URL '/recipes/sweets-and-desserts-recipes/scrumptious-sticky-toffee-pudding/': No scheme supplied. Perhaps you meant http:///recipes/sweets-and-desserts-recipes/scrumptious-sticky-toffee-pudding/?",
     "output_type": "error",
     "traceback": [
      "\u001b[1;31m---------------------------------------------------------------------------\u001b[0m",
      "\u001b[1;31mMissingSchema\u001b[0m                             Traceback (most recent call last)",
      "\u001b[1;32m~\\AppData\\Local\\Temp/ipykernel_3116/600846227.py\u001b[0m in \u001b[0;36m<module>\u001b[1;34m\u001b[0m\n\u001b[0;32m      6\u001b[0m \u001b[1;32mfor\u001b[0m \u001b[0mi\u001b[0m \u001b[1;32min\u001b[0m \u001b[0mrange\u001b[0m\u001b[1;33m(\u001b[0m\u001b[1;36m0\u001b[0m\u001b[1;33m,\u001b[0m\u001b[0mlen\u001b[0m\u001b[1;33m(\u001b[0m\u001b[0mdf\u001b[0m\u001b[1;33m[\u001b[0m\u001b[1;34m'recipe_urls'\u001b[0m\u001b[1;33m]\u001b[0m\u001b[1;33m)\u001b[0m\u001b[1;33m)\u001b[0m\u001b[1;33m:\u001b[0m\u001b[1;33m\u001b[0m\u001b[1;33m\u001b[0m\u001b[0m\n\u001b[0;32m      7\u001b[0m     \u001b[0mmain_url\u001b[0m \u001b[1;33m=\u001b[0m \u001b[0mdf\u001b[0m\u001b[1;33m[\u001b[0m\u001b[1;34m'recipe_urls'\u001b[0m\u001b[1;33m]\u001b[0m\u001b[1;33m[\u001b[0m\u001b[0mi\u001b[0m\u001b[1;33m]\u001b[0m\u001b[1;33m\u001b[0m\u001b[1;33m\u001b[0m\u001b[0m\n\u001b[1;32m----> 8\u001b[1;33m     \u001b[0mtitle\u001b[0m\u001b[1;33m.\u001b[0m\u001b[0mappend\u001b[0m\u001b[1;33m(\u001b[0m\u001b[0mdessert\u001b[0m\u001b[1;33m(\u001b[0m\u001b[0mmain_url\u001b[0m\u001b[1;33m)\u001b[0m\u001b[1;33m)\u001b[0m\u001b[1;33m\u001b[0m\u001b[1;33m\u001b[0m\u001b[0m\n\u001b[0m\u001b[0;32m      9\u001b[0m     \u001b[0ming_name\u001b[0m\u001b[1;33m.\u001b[0m\u001b[0mappend\u001b[0m\u001b[1;33m(\u001b[0m\u001b[0mingredients\u001b[0m\u001b[1;33m(\u001b[0m\u001b[0mmain_url\u001b[0m\u001b[1;33m)\u001b[0m\u001b[1;33m)\u001b[0m\u001b[1;33m\u001b[0m\u001b[1;33m\u001b[0m\u001b[0m\n\u001b[0;32m     10\u001b[0m     \u001b[0mmethod\u001b[0m\u001b[1;33m.\u001b[0m\u001b[0mappend\u001b[0m\u001b[1;33m(\u001b[0m\u001b[0minstructions\u001b[0m\u001b[1;33m(\u001b[0m\u001b[0mmain_url\u001b[0m\u001b[1;33m)\u001b[0m\u001b[1;33m)\u001b[0m\u001b[1;33m\u001b[0m\u001b[1;33m\u001b[0m\u001b[0m\n",
      "\u001b[1;32m~\\AppData\\Local\\Temp/ipykernel_3116/3918245873.py\u001b[0m in \u001b[0;36mdessert\u001b[1;34m(url)\u001b[0m\n\u001b[0;32m      1\u001b[0m \u001b[1;31m#dessert names\u001b[0m\u001b[1;33m\u001b[0m\u001b[1;33m\u001b[0m\u001b[1;33m\u001b[0m\u001b[0m\n\u001b[0;32m      2\u001b[0m \u001b[1;32mdef\u001b[0m \u001b[0mdessert\u001b[0m\u001b[1;33m(\u001b[0m\u001b[0murl\u001b[0m\u001b[1;33m)\u001b[0m\u001b[1;33m:\u001b[0m\u001b[1;33m\u001b[0m\u001b[1;33m\u001b[0m\u001b[0m\n\u001b[1;32m----> 3\u001b[1;33m     \u001b[0msoup\u001b[0m \u001b[1;33m=\u001b[0m \u001b[0mBeautifulSoup\u001b[0m\u001b[1;33m(\u001b[0m\u001b[0mrequests\u001b[0m\u001b[1;33m.\u001b[0m\u001b[0mget\u001b[0m\u001b[1;33m(\u001b[0m\u001b[0murl\u001b[0m\u001b[1;33m)\u001b[0m\u001b[1;33m.\u001b[0m\u001b[0mcontent\u001b[0m\u001b[1;33m,\u001b[0m \u001b[1;34m'html.parser'\u001b[0m\u001b[1;33m)\u001b[0m\u001b[1;33m\u001b[0m\u001b[1;33m\u001b[0m\u001b[0m\n\u001b[0m\u001b[0;32m      4\u001b[0m     \u001b[0mdessert_name\u001b[0m \u001b[1;33m=\u001b[0m \u001b[0msoup\u001b[0m\u001b[1;33m.\u001b[0m\u001b[0mfind\u001b[0m\u001b[1;33m(\u001b[0m\u001b[1;34m'h1'\u001b[0m\u001b[1;33m)\u001b[0m\u001b[1;33m.\u001b[0m\u001b[0mtext\u001b[0m\u001b[1;33m.\u001b[0m\u001b[0mstrip\u001b[0m\u001b[1;33m(\u001b[0m\u001b[1;33m)\u001b[0m\u001b[1;33m\u001b[0m\u001b[1;33m\u001b[0m\u001b[0m\n\u001b[0;32m      5\u001b[0m     \u001b[1;32mreturn\u001b[0m \u001b[0mdessert_name\u001b[0m\u001b[1;33m\u001b[0m\u001b[1;33m\u001b[0m\u001b[0m\n",
      "\u001b[1;32m~\\anaconda3\\lib\\site-packages\\requests\\api.py\u001b[0m in \u001b[0;36mget\u001b[1;34m(url, params, **kwargs)\u001b[0m\n\u001b[0;32m     73\u001b[0m     \"\"\"\n\u001b[0;32m     74\u001b[0m \u001b[1;33m\u001b[0m\u001b[0m\n\u001b[1;32m---> 75\u001b[1;33m     \u001b[1;32mreturn\u001b[0m \u001b[0mrequest\u001b[0m\u001b[1;33m(\u001b[0m\u001b[1;34m'get'\u001b[0m\u001b[1;33m,\u001b[0m \u001b[0murl\u001b[0m\u001b[1;33m,\u001b[0m \u001b[0mparams\u001b[0m\u001b[1;33m=\u001b[0m\u001b[0mparams\u001b[0m\u001b[1;33m,\u001b[0m \u001b[1;33m**\u001b[0m\u001b[0mkwargs\u001b[0m\u001b[1;33m)\u001b[0m\u001b[1;33m\u001b[0m\u001b[1;33m\u001b[0m\u001b[0m\n\u001b[0m\u001b[0;32m     76\u001b[0m \u001b[1;33m\u001b[0m\u001b[0m\n\u001b[0;32m     77\u001b[0m \u001b[1;33m\u001b[0m\u001b[0m\n",
      "\u001b[1;32m~\\anaconda3\\lib\\site-packages\\requests\\api.py\u001b[0m in \u001b[0;36mrequest\u001b[1;34m(method, url, **kwargs)\u001b[0m\n\u001b[0;32m     59\u001b[0m     \u001b[1;31m# cases, and look like a memory leak in others.\u001b[0m\u001b[1;33m\u001b[0m\u001b[1;33m\u001b[0m\u001b[1;33m\u001b[0m\u001b[0m\n\u001b[0;32m     60\u001b[0m     \u001b[1;32mwith\u001b[0m \u001b[0msessions\u001b[0m\u001b[1;33m.\u001b[0m\u001b[0mSession\u001b[0m\u001b[1;33m(\u001b[0m\u001b[1;33m)\u001b[0m \u001b[1;32mas\u001b[0m \u001b[0msession\u001b[0m\u001b[1;33m:\u001b[0m\u001b[1;33m\u001b[0m\u001b[1;33m\u001b[0m\u001b[0m\n\u001b[1;32m---> 61\u001b[1;33m         \u001b[1;32mreturn\u001b[0m \u001b[0msession\u001b[0m\u001b[1;33m.\u001b[0m\u001b[0mrequest\u001b[0m\u001b[1;33m(\u001b[0m\u001b[0mmethod\u001b[0m\u001b[1;33m=\u001b[0m\u001b[0mmethod\u001b[0m\u001b[1;33m,\u001b[0m \u001b[0murl\u001b[0m\u001b[1;33m=\u001b[0m\u001b[0murl\u001b[0m\u001b[1;33m,\u001b[0m \u001b[1;33m**\u001b[0m\u001b[0mkwargs\u001b[0m\u001b[1;33m)\u001b[0m\u001b[1;33m\u001b[0m\u001b[1;33m\u001b[0m\u001b[0m\n\u001b[0m\u001b[0;32m     62\u001b[0m \u001b[1;33m\u001b[0m\u001b[0m\n\u001b[0;32m     63\u001b[0m \u001b[1;33m\u001b[0m\u001b[0m\n",
      "\u001b[1;32m~\\anaconda3\\lib\\site-packages\\requests\\sessions.py\u001b[0m in \u001b[0;36mrequest\u001b[1;34m(self, method, url, params, data, headers, cookies, files, auth, timeout, allow_redirects, proxies, hooks, stream, verify, cert, json)\u001b[0m\n\u001b[0;32m    513\u001b[0m             \u001b[0mhooks\u001b[0m\u001b[1;33m=\u001b[0m\u001b[0mhooks\u001b[0m\u001b[1;33m,\u001b[0m\u001b[1;33m\u001b[0m\u001b[1;33m\u001b[0m\u001b[0m\n\u001b[0;32m    514\u001b[0m         )\n\u001b[1;32m--> 515\u001b[1;33m         \u001b[0mprep\u001b[0m \u001b[1;33m=\u001b[0m \u001b[0mself\u001b[0m\u001b[1;33m.\u001b[0m\u001b[0mprepare_request\u001b[0m\u001b[1;33m(\u001b[0m\u001b[0mreq\u001b[0m\u001b[1;33m)\u001b[0m\u001b[1;33m\u001b[0m\u001b[1;33m\u001b[0m\u001b[0m\n\u001b[0m\u001b[0;32m    516\u001b[0m \u001b[1;33m\u001b[0m\u001b[0m\n\u001b[0;32m    517\u001b[0m         \u001b[0mproxies\u001b[0m \u001b[1;33m=\u001b[0m \u001b[0mproxies\u001b[0m \u001b[1;32mor\u001b[0m \u001b[1;33m{\u001b[0m\u001b[1;33m}\u001b[0m\u001b[1;33m\u001b[0m\u001b[1;33m\u001b[0m\u001b[0m\n",
      "\u001b[1;32m~\\anaconda3\\lib\\site-packages\\requests\\sessions.py\u001b[0m in \u001b[0;36mprepare_request\u001b[1;34m(self, request)\u001b[0m\n\u001b[0;32m    441\u001b[0m \u001b[1;33m\u001b[0m\u001b[0m\n\u001b[0;32m    442\u001b[0m         \u001b[0mp\u001b[0m \u001b[1;33m=\u001b[0m \u001b[0mPreparedRequest\u001b[0m\u001b[1;33m(\u001b[0m\u001b[1;33m)\u001b[0m\u001b[1;33m\u001b[0m\u001b[1;33m\u001b[0m\u001b[0m\n\u001b[1;32m--> 443\u001b[1;33m         p.prepare(\n\u001b[0m\u001b[0;32m    444\u001b[0m             \u001b[0mmethod\u001b[0m\u001b[1;33m=\u001b[0m\u001b[0mrequest\u001b[0m\u001b[1;33m.\u001b[0m\u001b[0mmethod\u001b[0m\u001b[1;33m.\u001b[0m\u001b[0mupper\u001b[0m\u001b[1;33m(\u001b[0m\u001b[1;33m)\u001b[0m\u001b[1;33m,\u001b[0m\u001b[1;33m\u001b[0m\u001b[1;33m\u001b[0m\u001b[0m\n\u001b[0;32m    445\u001b[0m             \u001b[0murl\u001b[0m\u001b[1;33m=\u001b[0m\u001b[0mrequest\u001b[0m\u001b[1;33m.\u001b[0m\u001b[0murl\u001b[0m\u001b[1;33m,\u001b[0m\u001b[1;33m\u001b[0m\u001b[1;33m\u001b[0m\u001b[0m\n",
      "\u001b[1;32m~\\anaconda3\\lib\\site-packages\\requests\\models.py\u001b[0m in \u001b[0;36mprepare\u001b[1;34m(self, method, url, headers, files, data, params, auth, cookies, hooks, json)\u001b[0m\n\u001b[0;32m    316\u001b[0m \u001b[1;33m\u001b[0m\u001b[0m\n\u001b[0;32m    317\u001b[0m         \u001b[0mself\u001b[0m\u001b[1;33m.\u001b[0m\u001b[0mprepare_method\u001b[0m\u001b[1;33m(\u001b[0m\u001b[0mmethod\u001b[0m\u001b[1;33m)\u001b[0m\u001b[1;33m\u001b[0m\u001b[1;33m\u001b[0m\u001b[0m\n\u001b[1;32m--> 318\u001b[1;33m         \u001b[0mself\u001b[0m\u001b[1;33m.\u001b[0m\u001b[0mprepare_url\u001b[0m\u001b[1;33m(\u001b[0m\u001b[0murl\u001b[0m\u001b[1;33m,\u001b[0m \u001b[0mparams\u001b[0m\u001b[1;33m)\u001b[0m\u001b[1;33m\u001b[0m\u001b[1;33m\u001b[0m\u001b[0m\n\u001b[0m\u001b[0;32m    319\u001b[0m         \u001b[0mself\u001b[0m\u001b[1;33m.\u001b[0m\u001b[0mprepare_headers\u001b[0m\u001b[1;33m(\u001b[0m\u001b[0mheaders\u001b[0m\u001b[1;33m)\u001b[0m\u001b[1;33m\u001b[0m\u001b[1;33m\u001b[0m\u001b[0m\n\u001b[0;32m    320\u001b[0m         \u001b[0mself\u001b[0m\u001b[1;33m.\u001b[0m\u001b[0mprepare_cookies\u001b[0m\u001b[1;33m(\u001b[0m\u001b[0mcookies\u001b[0m\u001b[1;33m)\u001b[0m\u001b[1;33m\u001b[0m\u001b[1;33m\u001b[0m\u001b[0m\n",
      "\u001b[1;32m~\\anaconda3\\lib\\site-packages\\requests\\models.py\u001b[0m in \u001b[0;36mprepare_url\u001b[1;34m(self, url, params)\u001b[0m\n\u001b[0;32m    390\u001b[0m             \u001b[0merror\u001b[0m \u001b[1;33m=\u001b[0m \u001b[0merror\u001b[0m\u001b[1;33m.\u001b[0m\u001b[0mformat\u001b[0m\u001b[1;33m(\u001b[0m\u001b[0mto_native_string\u001b[0m\u001b[1;33m(\u001b[0m\u001b[0murl\u001b[0m\u001b[1;33m,\u001b[0m \u001b[1;34m'utf8'\u001b[0m\u001b[1;33m)\u001b[0m\u001b[1;33m)\u001b[0m\u001b[1;33m\u001b[0m\u001b[1;33m\u001b[0m\u001b[0m\n\u001b[0;32m    391\u001b[0m \u001b[1;33m\u001b[0m\u001b[0m\n\u001b[1;32m--> 392\u001b[1;33m             \u001b[1;32mraise\u001b[0m \u001b[0mMissingSchema\u001b[0m\u001b[1;33m(\u001b[0m\u001b[0merror\u001b[0m\u001b[1;33m)\u001b[0m\u001b[1;33m\u001b[0m\u001b[1;33m\u001b[0m\u001b[0m\n\u001b[0m\u001b[0;32m    393\u001b[0m \u001b[1;33m\u001b[0m\u001b[0m\n\u001b[0;32m    394\u001b[0m         \u001b[1;32mif\u001b[0m \u001b[1;32mnot\u001b[0m \u001b[0mhost\u001b[0m\u001b[1;33m:\u001b[0m\u001b[1;33m\u001b[0m\u001b[1;33m\u001b[0m\u001b[0m\n",
      "\u001b[1;31mMissingSchema\u001b[0m: Invalid URL '/recipes/sweets-and-desserts-recipes/scrumptious-sticky-toffee-pudding/': No scheme supplied. Perhaps you meant http:///recipes/sweets-and-desserts-recipes/scrumptious-sticky-toffee-pudding/?"
     ]
    }
   ],
   "source": [
    "title = []\n",
    "ing_name = []\n",
    "method = []\n",
    "det = []\n",
    "img = []\n",
    "for i in range(0,len(df['recipe_urls'])): \n",
    "    main_url = df['recipe_urls'][i]\n",
    "    title.append(dessert(main_url))\n",
    "    ing_name.append(ingredients(main_url))\n",
    "    method.append(instructions(main_url))\n",
    "    det.append(details(main_url))\n",
    "    img.append(image(main_url))\n",
    "    img_data = requests.get(img[i]).content\n",
    "    with open(str(title[i])+\".jpg\", \"wb\") as handler:\n",
    "        handler.write(img_data)\n"
   ]
  },
  {
   "cell_type": "code",
   "execution_count": 233,
   "metadata": {},
   "outputs": [],
   "source": [
    "attribs = ['recipe_name', 'details', 'ingredients','instructions','image_url','recipe_url']\n",
    "new_df = pd.DataFrame(columns=attribs)\n",
    "new_df['recipe_name'] = title\n",
    "new_df['details'] = det\n",
    "new_df['ingredients'] = ing_name\n",
    "new_df['instructions'] = method\n",
    "new_df['image_url'] = img\n",
    "new_df['recipe_url']= df['recipe_urls']"
   ]
  },
  {
   "cell_type": "code",
   "execution_count": 227,
   "metadata": {},
   "outputs": [
    {
     "data": {
      "text/html": [
       "<div>\n",
       "<style scoped>\n",
       "    .dataframe tbody tr th:only-of-type {\n",
       "        vertical-align: middle;\n",
       "    }\n",
       "\n",
       "    .dataframe tbody tr th {\n",
       "        vertical-align: top;\n",
       "    }\n",
       "\n",
       "    .dataframe thead th {\n",
       "        text-align: right;\n",
       "    }\n",
       "</style>\n",
       "<table border=\"1\" class=\"dataframe\">\n",
       "  <thead>\n",
       "    <tr style=\"text-align: right;\">\n",
       "      <th></th>\n",
       "      <th>recipe_name</th>\n",
       "      <th>details</th>\n",
       "      <th>ingredients</th>\n",
       "      <th>instructions</th>\n",
       "      <th>image_url</th>\n",
       "      <th>recipe_url</th>\n",
       "    </tr>\n",
       "  </thead>\n",
       "  <tbody>\n",
       "    <tr>\n",
       "      <th>0</th>\n",
       "      <td>Everything cookies</td>\n",
       "      <td>[“These chewy cookies, divvied out with an ice...</td>\n",
       "      <td>[200 g unsalted butter , (at room temperature)...</td>\n",
       "      <td>[Preheat the oven to 180ºC/gas 4. In a large b...</td>\n",
       "      <td>https://img.jamieoliver.com/jamieoliver/recipe...</td>\n",
       "      <td>https://www.jamieoliver.com/recipes/fruit-reci...</td>\n",
       "    </tr>\n",
       "    <tr>\n",
       "      <th>1</th>\n",
       "      <td>Apple crumble cookies</td>\n",
       "      <td>[Makes 24                                     ...</td>\n",
       "      <td>[100 g dried apple, 200 g self-raising flour, ...</td>\n",
       "      <td>[Preheat the oven to 200ºC/400ºF/gas 6. Line t...</td>\n",
       "      <td>https://img.jamieoliver.com/jamieoliver/recipe...</td>\n",
       "      <td>https://www.jamieoliver.com/recipes/fruit-reci...</td>\n",
       "    </tr>\n",
       "    <tr>\n",
       "      <th>2</th>\n",
       "      <td>Chocolate rye cookies</td>\n",
       "      <td>[Makes 24                                     ...</td>\n",
       "      <td>[100 g quality dark chocolate , (70%), 100 g u...</td>\n",
       "      <td>[Preheat the oven to 200ºC/400ºF/gas 6. Line t...</td>\n",
       "      <td>https://img.jamieoliver.com/jamieoliver/recipe...</td>\n",
       "      <td>https://www.jamieoliver.com/recipes/chocolate-...</td>\n",
       "    </tr>\n",
       "    <tr>\n",
       "      <th>3</th>\n",
       "      <td>Peanut butter cookies</td>\n",
       "      <td>[“These iced biscuits make great placeholders ...</td>\n",
       "      <td>[200 g oats, 100 g chocolate, 125 g wholemeal ...</td>\n",
       "      <td>[Preheat the oven to 180ºC/gas 4. In a food pr...</td>\n",
       "      <td>https://img.jamieoliver.com/jamieoliver/recipe...</td>\n",
       "      <td>https://www.jamieoliver.com/recipes/chocolate-...</td>\n",
       "    </tr>\n",
       "    <tr>\n",
       "      <th>4</th>\n",
       "      <td>Chocolate candy cane cookies</td>\n",
       "      <td>[“Minty chocolate cookies speckled with crushe...</td>\n",
       "      <td>[125 g unsalted butter , at room temperature, ...</td>\n",
       "      <td>[Preheat the oven to 180°C/350°F/gas 4 and lin...</td>\n",
       "      <td>https://img.jamieoliver.com/jamieoliver/recipe...</td>\n",
       "      <td>https://www.jamieoliver.com/recipes/chocolate-...</td>\n",
       "    </tr>\n",
       "    <tr>\n",
       "      <th>5</th>\n",
       "      <td>DIY cookie jars</td>\n",
       "      <td>[“This makes a great present: in a pretty jar,...</td>\n",
       "      <td>[115 g plain flour, 1/2 teaspoon baking powder...</td>\n",
       "      <td>[In a clean, dry 750ml jar, carefully layer up...</td>\n",
       "      <td>https://img.jamieoliver.com/jamieoliver/recipe...</td>\n",
       "      <td>https://www.jamieoliver.com/recipes/fruit-reci...</td>\n",
       "    </tr>\n",
       "    <tr>\n",
       "      <th>6</th>\n",
       "      <td>Chocolate chip cookies</td>\n",
       "      <td>[“You can’t beat a good homemade cookie. These...</td>\n",
       "      <td>[100 g unsalted butter , slightly softened, 12...</td>\n",
       "      <td>[Preheat the oven to 170ºC/325ºF/gas 3. Line t...</td>\n",
       "      <td>https://img.jamieoliver.com/jamieoliver/recipe...</td>\n",
       "      <td>https://www.jamieoliver.com/recipes/chocolate-...</td>\n",
       "    </tr>\n",
       "    <tr>\n",
       "      <th>7</th>\n",
       "      <td>Highly sophisticated chocolate chip cookies</td>\n",
       "      <td>[“I expect a lot out of a chocolate chip cooki...</td>\n",
       "      <td>[1 cup coconut sugar, ¾ cup vegan butter , sof...</td>\n",
       "      <td>[Preheat the oven to 180°C/350°F/gas 4. Line t...</td>\n",
       "      <td>https://img.jamieoliver.com/jamieoliver/recipe...</td>\n",
       "      <td>https://www.jamieoliver.com/recipes/chocolate-...</td>\n",
       "    </tr>\n",
       "    <tr>\n",
       "      <th>8</th>\n",
       "      <td>White chocolate &amp; cranberry cookies</td>\n",
       "      <td>[Makes 14                                     ...</td>\n",
       "      <td>[100 g unsalted butter, 85 g icing sugar, 1 va...</td>\n",
       "      <td>[Beat the butter and icing sugar till pale. Ha...</td>\n",
       "      <td>https://img.jamieoliver.com/jamieoliver/recipe...</td>\n",
       "      <td>https://www.jamieoliver.com/recipes/chocolate-...</td>\n",
       "    </tr>\n",
       "    <tr>\n",
       "      <th>9</th>\n",
       "      <td>Jools’ easy oaty fruit cookies</td>\n",
       "      <td>[“A really delicious, simple, comforting cooki...</td>\n",
       "      <td>[100 g spelt or wholemeal flour, 1 teaspoon gr...</td>\n",
       "      <td>[Preheat the oven to 180ºC/350ºF/gas 5 and lin...</td>\n",
       "      <td>https://img.jamieoliver.com/jamieoliver/recipe...</td>\n",
       "      <td>https://www.jamieoliver.com/recipes/fruit-reci...</td>\n",
       "    </tr>\n",
       "    <tr>\n",
       "      <th>10</th>\n",
       "      <td>Devil's double choc malt cookies</td>\n",
       "      <td>[“I was very young when the realisation of the...</td>\n",
       "      <td>[50 g unsalted butter, 200 g quality dark choc...</td>\n",
       "      <td>[Melt the butter and chocolate in a pan on a l...</td>\n",
       "      <td>https://img.jamieoliver.com/jamieoliver/recipe...</td>\n",
       "      <td>https://www.jamieoliver.com/recipes/chocolate-...</td>\n",
       "    </tr>\n",
       "    <tr>\n",
       "      <th>11</th>\n",
       "      <td>Dairy-free chocolate &amp; nut cookies</td>\n",
       "      <td>[“An amazing cross between crunchy cookies and...</td>\n",
       "      <td>[150 g pecan nuts, 150 g hazelnuts, 400 g icin...</td>\n",
       "      <td>[Preheat the oven to 160ºC/325ºF/gas 3. Line t...</td>\n",
       "      <td>https://img.jamieoliver.com/jamieoliver/recipe...</td>\n",
       "      <td>https://www.jamieoliver.com/recipes/chocolate-...</td>\n",
       "    </tr>\n",
       "  </tbody>\n",
       "</table>\n",
       "</div>"
      ],
      "text/plain": [
       "                                    recipe_name  \\\n",
       "0                            Everything cookies   \n",
       "1                         Apple crumble cookies   \n",
       "2                         Chocolate rye cookies   \n",
       "3                         Peanut butter cookies   \n",
       "4                  Chocolate candy cane cookies   \n",
       "5                               DIY cookie jars   \n",
       "6                        Chocolate chip cookies   \n",
       "7   Highly sophisticated chocolate chip cookies   \n",
       "8           White chocolate & cranberry cookies   \n",
       "9                Jools’ easy oaty fruit cookies   \n",
       "10             Devil's double choc malt cookies   \n",
       "11           Dairy-free chocolate & nut cookies   \n",
       "\n",
       "                                              details  \\\n",
       "0   [“These chewy cookies, divvied out with an ice...   \n",
       "1   [Makes 24                                     ...   \n",
       "2   [Makes 24                                     ...   \n",
       "3   [“These iced biscuits make great placeholders ...   \n",
       "4   [“Minty chocolate cookies speckled with crushe...   \n",
       "5   [“This makes a great present: in a pretty jar,...   \n",
       "6   [“You can’t beat a good homemade cookie. These...   \n",
       "7   [“I expect a lot out of a chocolate chip cooki...   \n",
       "8   [Makes 14                                     ...   \n",
       "9   [“A really delicious, simple, comforting cooki...   \n",
       "10  [“I was very young when the realisation of the...   \n",
       "11  [“An amazing cross between crunchy cookies and...   \n",
       "\n",
       "                                          ingredients  \\\n",
       "0   [200 g unsalted butter , (at room temperature)...   \n",
       "1   [100 g dried apple, 200 g self-raising flour, ...   \n",
       "2   [100 g quality dark chocolate , (70%), 100 g u...   \n",
       "3   [200 g oats, 100 g chocolate, 125 g wholemeal ...   \n",
       "4   [125 g unsalted butter , at room temperature, ...   \n",
       "5   [115 g plain flour, 1/2 teaspoon baking powder...   \n",
       "6   [100 g unsalted butter , slightly softened, 12...   \n",
       "7   [1 cup coconut sugar, ¾ cup vegan butter , sof...   \n",
       "8   [100 g unsalted butter, 85 g icing sugar, 1 va...   \n",
       "9   [100 g spelt or wholemeal flour, 1 teaspoon gr...   \n",
       "10  [50 g unsalted butter, 200 g quality dark choc...   \n",
       "11  [150 g pecan nuts, 150 g hazelnuts, 400 g icin...   \n",
       "\n",
       "                                         instructions  \\\n",
       "0   [Preheat the oven to 180ºC/gas 4. In a large b...   \n",
       "1   [Preheat the oven to 200ºC/400ºF/gas 6. Line t...   \n",
       "2   [Preheat the oven to 200ºC/400ºF/gas 6. Line t...   \n",
       "3   [Preheat the oven to 180ºC/gas 4. In a food pr...   \n",
       "4   [Preheat the oven to 180°C/350°F/gas 4 and lin...   \n",
       "5   [In a clean, dry 750ml jar, carefully layer up...   \n",
       "6   [Preheat the oven to 170ºC/325ºF/gas 3. Line t...   \n",
       "7   [Preheat the oven to 180°C/350°F/gas 4. Line t...   \n",
       "8   [Beat the butter and icing sugar till pale. Ha...   \n",
       "9   [Preheat the oven to 180ºC/350ºF/gas 5 and lin...   \n",
       "10  [Melt the butter and chocolate in a pan on a l...   \n",
       "11  [Preheat the oven to 160ºC/325ºF/gas 3. Line t...   \n",
       "\n",
       "                                            image_url  \\\n",
       "0   https://img.jamieoliver.com/jamieoliver/recipe...   \n",
       "1   https://img.jamieoliver.com/jamieoliver/recipe...   \n",
       "2   https://img.jamieoliver.com/jamieoliver/recipe...   \n",
       "3   https://img.jamieoliver.com/jamieoliver/recipe...   \n",
       "4   https://img.jamieoliver.com/jamieoliver/recipe...   \n",
       "5   https://img.jamieoliver.com/jamieoliver/recipe...   \n",
       "6   https://img.jamieoliver.com/jamieoliver/recipe...   \n",
       "7   https://img.jamieoliver.com/jamieoliver/recipe...   \n",
       "8   https://img.jamieoliver.com/jamieoliver/recipe...   \n",
       "9   https://img.jamieoliver.com/jamieoliver/recipe...   \n",
       "10  https://img.jamieoliver.com/jamieoliver/recipe...   \n",
       "11  https://img.jamieoliver.com/jamieoliver/recipe...   \n",
       "\n",
       "                                           recipe_url  \n",
       "0   https://www.jamieoliver.com/recipes/fruit-reci...  \n",
       "1   https://www.jamieoliver.com/recipes/fruit-reci...  \n",
       "2   https://www.jamieoliver.com/recipes/chocolate-...  \n",
       "3   https://www.jamieoliver.com/recipes/chocolate-...  \n",
       "4   https://www.jamieoliver.com/recipes/chocolate-...  \n",
       "5   https://www.jamieoliver.com/recipes/fruit-reci...  \n",
       "6   https://www.jamieoliver.com/recipes/chocolate-...  \n",
       "7   https://www.jamieoliver.com/recipes/chocolate-...  \n",
       "8   https://www.jamieoliver.com/recipes/chocolate-...  \n",
       "9   https://www.jamieoliver.com/recipes/fruit-reci...  \n",
       "10  https://www.jamieoliver.com/recipes/chocolate-...  \n",
       "11  https://www.jamieoliver.com/recipes/chocolate-...  "
      ]
     },
     "execution_count": 227,
     "metadata": {},
     "output_type": "execute_result"
    }
   ],
   "source": [
    "new_df"
   ]
  },
  {
   "cell_type": "code",
   "execution_count": 228,
   "metadata": {},
   "outputs": [],
   "source": [
    "new_df.to_csv(\"Cookie.csv\")"
   ]
  }
 ],
 "metadata": {
  "kernelspec": {
   "display_name": "Python 3 (ipykernel)",
   "language": "python",
   "name": "python3"
  },
  "language_info": {
   "codemirror_mode": {
    "name": "ipython",
    "version": 3
   },
   "file_extension": ".py",
   "mimetype": "text/x-python",
   "name": "python",
   "nbconvert_exporter": "python",
   "pygments_lexer": "ipython3",
   "version": "3.8.12"
  }
 },
 "nbformat": 4,
 "nbformat_minor": 4
}
